{
 "cells": [
  {
   "cell_type": "markdown",
   "metadata": {},
   "source": [
    "<table>\n",
    "<tr><td><img style=\"height: 150px;\" src=\"images/geo_hydro1.jpg\"></td>\n",
    "<td bgcolor=\"#FFFFFF\">\n",
    "    <p style=\"font-size: xx-large; font-weight: 900; line-height: 100%\">AG Dynamics of the Earth</p>\n",
    "    <p style=\"font-size: large; color: rgba(0,0,0,0.5);\">Jupyter notebooks</p>\n",
    "    <p style=\"font-size: large; color: rgba(0,0,0,0.5);\">Georg Kaufmann</p>\n",
    "    </td>\n",
    "</tr>\n",
    "</table>"
   ]
  },
  {
   "cell_type": "markdown",
   "metadata": {},
   "source": [
    "# Dynamic systems: 6. Viscous material\n",
    "## Navier-Stokes equation\n",
    "----\n",
    "*Georg Kaufmann,\n",
    "Geophysics Section,\n",
    "Institute of Geological Sciences,\n",
    "Freie Universität Berlin,\n",
    "Germany*"
   ]
  },
  {
   "cell_type": "code",
   "execution_count": 1,
   "metadata": {},
   "outputs": [],
   "source": [
    "import numpy as np\n",
    "import scipy.special\n",
    "import matplotlib.pyplot as plt"
   ]
  },
  {
   "cell_type": "markdown",
   "metadata": {},
   "source": [
    "## Derivation of **Navier-Stokes equation**\n",
    "\n",
    "The **equation of motion** describes the velocity induced by surface and/or body forces:\n",
    "$$\n",
    "\\rho \\frac{\\partial \\vec{u}}{\\partial t}\n",
    "+ \\rho \\left( \\vec{u} \\cdot \\nabla \\right) \\vec{u}\n",
    "= \\nabla \\cdot \\bar{\\sigma}\n",
    "- \\rho \\vec{g}\n",
    "$$\n",
    "with:\n",
    "- $\\rho$ [kg/m$^3$] density,\n",
    "- $\\vec{u}$ [m/s] velocity,\n",
    "- $t$ [s] time,\n",
    "- $\\nabla$ [1/m] Nabla operator,\n",
    "- $\\mathbb{\\sigma}$ [Pa] Cauchy stress tensor,\n",
    "- $\\vec{g}$ [m/s] gravitational acceleration.\n",
    "\n",
    "The **Cauchy stress tensor** is defined as:\n",
    "$$\n",
    "\\mathbb{\\sigma} = -p \\mathbb{1} + 2 \\eta \\dot{\\mathbb{\\epsilon}} \n",
    "$$\n",
    "with:\n",
    "- $p$ [Pa] pressure,\n",
    "- $\\eta$ [Pas] dynamic viscosity,\n",
    "- $\\dot{\\mathbb{\\epsilon}}$ [1/s] strain-rate tensor,\n",
    "- $\\mathbb{1}$ [-] the unity tensor.\n",
    "\n",
    "The **strain-rate tensor** is defined as:\n",
    "$$\n",
    "\\dot{\\mathbb{\\epsilon}} = \\frac{1}{2} \\left[ \\nabla \\vec{u} + (\\nabla \\vec{u})^T \\right]\n",
    "$$\n",
    "with:\n",
    "- $\\vec{u}$ [m/s] velocity.\n",
    "\n",
    "Combining the equation of motion, Cauchy stress and strain-rate, we arrive at the \n",
    "**Navier-Stokes equation** for a viscous fluid:\n",
    "$$\n",
    "\\fbox{$\n",
    "\\rho \\frac{\\partial \\vec{u}}{\\partial t}\n",
    "+ \\rho \\left( \\vec{u} \\cdot \\nabla \\right) \\vec{u}\n",
    "= - \\nabla p\n",
    "+ \\eta \\Delta \\vec{u}\n",
    "- \\rho \\vec{g}\n",
    "$}\n",
    "$$\n",
    "Here is:\n",
    "\n",
    "- $\\vec{u}$ [m/s] is the velocity vector,\n",
    "- $\\rho$ [kg/m$^3$] fluid density,\n",
    "- $\\eta$ [Pas] fluid dynamic viscosity,\n",
    "- $\\vec{g}$ [m/s$^2$] gravitational acceleration,\n",
    "- $p$ [Pa] pressure,\n",
    "- $t$ [s] time, and $\\nabla$ [1/m] the Nabla operator, and\n",
    "- $\\Delta$ [1/m$^2$] the Laplace operator. \n",
    "\n"
   ]
  },
  {
   "cell_type": "markdown",
   "metadata": {},
   "source": [
    "... done"
   ]
  }
 ],
 "metadata": {
  "kernelspec": {
   "display_name": "Python 3 (ipykernel)",
   "language": "python",
   "name": "python3"
  },
  "language_info": {
   "codemirror_mode": {
    "name": "ipython",
    "version": 3
   },
   "file_extension": ".py",
   "mimetype": "text/x-python",
   "name": "python",
   "nbconvert_exporter": "python",
   "pygments_lexer": "ipython3",
   "version": "3.9.6"
  }
 },
 "nbformat": 4,
 "nbformat_minor": 2
}
