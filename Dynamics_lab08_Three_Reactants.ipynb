{
 "cells": [
  {
   "cell_type": "markdown",
   "metadata": {},
   "source": [
    "<table>\n",
    "<tr><td><img style=\"height: 150px;\" src=\"images/geo_hydro1.jpg\"></td>\n",
    "<td bgcolor=\"#FFFFFF\">\n",
    "    <p style=\"font-size: xx-large; font-weight: 900; line-height: 100%\">AG Dynamics of the Earth</p>\n",
    "    <p style=\"font-size: large; color: rgba(0,0,0,0.5);\">Jupyter notebooks</p>\n",
    "    <p style=\"font-size: large; color: rgba(0,0,0,0.5);\">Georg Kaufmann</p>\n",
    "    </td>\n",
    "</tr>\n",
    "</table>"
   ]
  },
  {
   "cell_type": "markdown",
   "metadata": {},
   "source": [
    "# Dynamic systems: 8. Reactions\n",
    "## Three reactants\n",
    "----\n",
    "*Georg Kaufmann,\n",
    "Geophysics Section,\n",
    "Institute of Geological Sciences,\n",
    "Freie Universität Berlin,\n",
    "Germany*"
   ]
  },
  {
   "cell_type": "markdown",
   "metadata": {},
   "source": [
    "----\n",
    "In this notebook, we solve the continuity equation for **three reactants** with terms for:\n",
    "- advection\n",
    "- diffusion\n",
    "- source-sink\n",
    "- reaction\n",
    "- decay"
   ]
  },
  {
   "cell_type": "markdown",
   "metadata": {},
   "source": [
    "----\n",
    "## 2D advection-diffusion-reaction equation\n",
    "\n",
    "Check the [Fenics project](https://fenicsproject.org/pub/tutorial/html/._ftut1010.html) for the equations.\n",
    "\n",
    "We consider the transport equations for species $A$, $B$ and $C$:\n",
    "$$\n",
    "\\begin{array}{rcl}\n",
    "\\frac{\\partial A}{\\partial t}\n",
    "+ \\vec{u} \\cdot \\nabla A\n",
    "- \\nabla \\cdot (D_A \\nabla A) \n",
    "&=& f_A - k_1 A B - \\lambda_A A \\\\\n",
    "\\frac{\\partial B}{\\partial t}\n",
    "+ \\vec{u} \\cdot \\nabla B\n",
    "- \\nabla \\cdot (D_B \\nabla B) \n",
    "&=& f_B - k_1 A B - \\lambda_B B \\\\ \n",
    "\\frac{\\partial C}{\\partial t}\n",
    "+ \\vec{u} \\cdot \\nabla C\n",
    "- \\nabla \\cdot (D_C \\nabla C)\n",
    "&=& f_C + k_1 A B - \\lambda_C C\n",
    "\\end{array}\n",
    "$$\n",
    "\n",
    "We rewrite the transport equation into a finite difference scheme with explicit time\n",
    "integration, using $\\frac{\\partial A}{\\partial t}=\\frac{A(t_{i+1})-A(t_i)}{\\Delta t}$:\n",
    "$$\n",
    "\\begin{array}{rcl}\n",
    "A(t_{i+1}) = A(t_i) +\n",
    "\\left[\n",
    "- \\vec{u} \\cdot \\nabla A\n",
    "+ \\nabla \\cdot (D_A \\nabla A)\n",
    "+ f_A - k_1 A B\n",
    "- \\lambda_A A\n",
    "\\right] \\Delta t \\\\\n",
    "B(t_{i+1}) = B(t_i) +\n",
    "\\left[\n",
    "- \\vec{u} \\cdot \\nabla B\n",
    "+ \\nabla \\cdot (D_B \\nabla B)\n",
    "+ f_B - k_1 A B\n",
    "- \\lambda_B B\n",
    "\\right] \\Delta t \\\\\n",
    "C(t_{i+1}) = C(t_i) +\n",
    "\\left[\n",
    "- \\vec{u} \\cdot \\nabla C\n",
    "+ \\nabla \\cdot (D_C \\nabla C)\n",
    "+ f_C + k_1 A B\n",
    "- \\lambda_C C\n",
    "\\right] \\Delta t\n",
    "\\end{array}\n",
    "$$\n",
    "In the square brackets, we have the **advection term**, the **diffusion term**,\n",
    "a **source-sink term**, a **reaction term**, and a **decay term**.\n",
    "\n",
    "### Reaction\n",
    "\n",
    "The **reaction** considered is\n",
    "$$\n",
    "A + B \\stackrel{k_1}{<->} C\n",
    "$$\n",
    "which can be reformulated into the differential equation:\n",
    "$$\n",
    "\\frac{dC}{dt} = k_1 A B\n",
    "$$\n",
    "Here, $k_1$ [m$^3$/mol/s] is the **reaction rate**.\n",
    "\n",
    "### Decay \n",
    "\n",
    "The **decay** considered is following an exponential decay model:\n",
    "$$\n",
    "C(t) = C_0 e^{-\\lambda_C t}\n",
    "$$\n",
    "which is the solution of the differential equation:\n",
    "$$\n",
    "\\frac{dC}{dt} = -\\lambda_C C\n",
    "$$\n",
    "Here, $\\lambda_C$ [1/s] is the **decay rate**."
   ]
  },
  {
   "cell_type": "code",
   "execution_count": 1,
   "metadata": {},
   "outputs": [],
   "source": [
    "import numpy as np\n",
    "import matplotlib.pyplot as plt"
   ]
  },
  {
   "cell_type": "markdown",
   "metadata": {},
   "source": [
    "## Set parameter values"
   ]
  },
  {
   "cell_type": "markdown",
   "metadata": {},
   "source": [
    "## Create mesh"
   ]
  },
  {
   "cell_type": "code",
   "execution_count": 39,
   "metadata": {},
   "outputs": [],
   "source": [
    "def create_mesh(xmin,xmax,ymin,ymax,nx=11,ny=11):\n",
    "    x = np.linspace(xmin,xmax,nx)\n",
    "    y = np.linspace(ymin,ymax,ny)\n",
    "    dx = x[1]-x[0]\n",
    "    dy = y[1]-y[0]\n",
    "    X,Y = np.meshgrid(x,y)\n",
    "    return X,Y,dx,dy"
   ]
  },
  {
   "cell_type": "markdown",
   "metadata": {},
   "source": [
    "## Initialize field values"
   ]
  },
  {
   "cell_type": "code",
   "execution_count": 75,
   "metadata": {},
   "outputs": [],
   "source": [
    "def init_fields(X,Y,velx,vely,nx,ny,shake=0.):\n",
    "    # concentrations A,B,C\n",
    "    A = np.zeros(nx*ny).reshape(ny,nx)\n",
    "    B = np.zeros(nx*ny).reshape(ny,nx)\n",
    "    C = np.zeros(nx*ny).reshape(ny,nx)\n",
    "    A = (1-shake)*A + shake * np.random.random((ny,nx))\n",
    "    B = (1-shake)*B + shake * np.random.random((ny,nx))\n",
    "    # velocity\n",
    "    Vx = np.ones(nx*ny).reshape(ny,nx)\n",
    "    Vy = np.ones(nx*ny).reshape(ny,nx)\n",
    "    Vx = velx*Vx\n",
    "    Vy = vely*Vy\n",
    "    Vabs = np.sqrt(Vx**2 + Vy**2)\n",
    "    return A,B,C,Vx,Vy,Vabs"
   ]
  },
  {
   "cell_type": "code",
   "execution_count": 83,
   "metadata": {},
   "outputs": [],
   "source": [
    "def inject_fields(A,B):\n",
    "    A[-9:-3,1:5] = 1.\n",
    "    B[3:9,1:5] = 1.\n",
    "    return A,B"
   ]
  },
  {
   "cell_type": "code",
   "execution_count": 77,
   "metadata": {},
   "outputs": [],
   "source": [
    "def plot_fields(X,Y,A,B,C,Vx,Vy,Vabs,filename):\n",
    "    fig, axs = plt.subplots(3,1,figsize=(8,10))\n",
    "    \n",
    "    v = np.linspace(0.0, 1.0, 11, endpoint=True)\n",
    "    #plt.contour(xi, yi, zi, v, linewidths=0.5, colors='k')\n",
    "    #plt.contourf(xi, yi, zi, v, cmap=plt.cm.jet)\n",
    "    #x = plt.colorbar(ticks=v)\n",
    "\n",
    "    axs[0].set_xlim([xmin,xmax])\n",
    "    axs[0].set_ylim([ymin,ymax])\n",
    "    CS0=axs[0].contourf(X,Y,A,v, cmap=plt.cm.jet_r)\n",
    "    axs[0].quiver(X,Y,Vx/Vabs,Vy/Vabs,Vabs,alpha=0.2,width=0.002,scale=150,pivot=\"middle\")\n",
    "    axs[0].quiver(X,Y,Vx/Vabs,Vy/Vabs, alpha=0.2,edgecolor='k', facecolor='None', \n",
    "              linewidth=.5,width=0.002,scale=150,pivot=\"middle\")\n",
    "    cbar = fig.colorbar(CS0,ax=axs[0],orientation=\"vertical\",shrink=0.9)\n",
    "    cbar.ax.set_ylabel('A [mol/m$^3$]')\n",
    "    \n",
    "    axs[1].set_xlim([xmin,xmax])\n",
    "    axs[1].set_ylim([ymin,ymax])\n",
    "    CS1=axs[1].contourf(X,Y,B,v, cmap=plt.cm.jet_r)\n",
    "    cbar = fig.colorbar(CS1,ax=axs[1],orientation=\"vertical\",shrink=0.9)\n",
    "    cbar.ax.set_ylabel('B [mol/m$^3$]')\n",
    "    \n",
    "    axs[2].set_xlim([xmin,xmax])\n",
    "    axs[2].set_ylim([ymin,ymax])\n",
    "    CS2=axs[2].contourf(X,Y,C,v, cmap=plt.cm.jet_r)\n",
    "    cbar = fig.colorbar(CS2,ax=axs[2],orientation=\"vertical\",shrink=0.9)\n",
    "    cbar.ax.set_ylabel('C [mol/m$^3$]')\n",
    "    \n",
    "    axs[0].set_title('A')\n",
    "    axs[1].set_title('B')\n",
    "    axs[2].set_title('C')\n",
    "    #axs[0].axis('off')\n",
    "    #axs[1].axis('off')\n",
    "    #axs[2].axis('off')\n",
    "    plt.savefig('lab08/'+filename,dpi=300)\n",
    "    plt.close()"
   ]
  },
  {
   "cell_type": "markdown",
   "metadata": {},
   "source": [
    "## Define differential operators as finite-difference operators"
   ]
  },
  {
   "cell_type": "code",
   "execution_count": 78,
   "metadata": {},
   "outputs": [],
   "source": [
    "def diffusion(M,dx,dy):\n",
    "    \"\"\"L = nabla^2 M\"\"\"\n",
    "    L = -4*M\n",
    "    L += np.roll(M, (0,-1), (0,1)) # right neighbor\n",
    "    L += np.roll(M, (0,+1), (0,1)) # left neighbor\n",
    "    L += np.roll(M, (-1,0), (0,1)) # top neighbor\n",
    "    L += np.roll(M, (+1,0), (0,1)) # bottom neighbor\n",
    "    L = L / (dx*dy)\n",
    "    return L\n",
    "\n",
    "def advection(M,Vx,Vy,dx,dy):\n",
    "    \"\"\"L = V*nabla M\"\"\"\n",
    "    gradx  = np.roll(M, (0,-1), (0,1)) # right neighbor\n",
    "    gradx -= np.roll(M, (0,+1), (0,1)) # left neighbor\n",
    "    gradx  = gradx / (2*dx)\n",
    "    grady  = np.roll(M, (-1,0), (0,1)) # top neighbor\n",
    "    grady -= np.roll(M, (+1,0), (0,1)) # bottom neighbor\n",
    "    grady  = grady / (2*dy)\n",
    "    L = Vx*gradx + Vy*grady\n",
    "    return L"
   ]
  },
  {
   "cell_type": "code",
   "execution_count": 79,
   "metadata": {},
   "outputs": [],
   "source": [
    "def update_fields(A,B,C,Vx,Vy,DA,DB,DC,lambA,lambB,lambdaC,k1,dt,dx,dy):\n",
    "    nx = A.shape[0]\n",
    "    ny = A.shape[1]\n",
    "    # diffusion and advection A\n",
    "    laplacian = diffusion(A,dx,dy)\n",
    "    gradient  = advection(A,Vx,Vy,dx,dy)\n",
    "    # Now apply the update formula\n",
    "    diff_A = (-gradient + DA*laplacian - lambA*A - k1*A*B) * dt\n",
    "    # diffusion and advection B\n",
    "    laplacian = diffusion(B,dx,dy)\n",
    "    gradient  = advection(B,Vx,Vy,dx,dy)\n",
    "    # Now apply the update formula\n",
    "    diff_B = (-gradient + DB*laplacian - lambB*B - k1*A*B) * dt\n",
    "    # diffusion and advection C\n",
    "    laplacian = diffusion(C,dx,dy)\n",
    "    gradient  = advection(C,Vx,Vy,dx,dy)\n",
    "    # Now apply the update formula\n",
    "    diff_C = (-gradient + DC*laplacian - lambC*C + k1*A*B) * dt\n",
    "\n",
    "    A += diff_A\n",
    "    B += diff_B\n",
    "    C += diff_C\n",
    "    #print(A.min(),A.max())\n",
    "\n",
    "    return A,B,C"
   ]
  },
  {
   "cell_type": "markdown",
   "metadata": {},
   "source": [
    "---- \n",
    "## Examples\n",
    "\n",
    "### 1"
   ]
  },
  {
   "cell_type": "code",
   "execution_count": 87,
   "metadata": {
    "scrolled": false
   },
   "outputs": [
    {
     "name": "stdout",
     "output_type": "stream",
     "text": [
      "10.000999999999896 0.0 10.0 -0.554335184566426 1.0447286359115193 158.71741210812422\n",
      "20.002000000001463 0.0 10.0 -0.5602104954419311 0.9999980801783396 199.9497126921026\n",
      "30.003000000013685 0.0 10.0 -0.5697562661908349 0.9999979859681315 243.14014482562052\n",
      "40.00399999999747 0.0 10.0 -0.5813954754824016 0.9999988103153077 285.7920645793532\n",
      "50.00499999997416 0.0 10.0 -0.5889649855090137 0.999998820168037 326.982736679799\n",
      "60.00599999995085 0.0 10.0 -0.5960869963851579 0.9999993891611013 365.78080173681224\n",
      "70.00699999997022 0.0 10.0 -0.601988760064928 0.9999993598942709 402.3527696706874\n",
      "80.00800000001797 0.0 10.0 -0.6081948068536139 0.999999743936996 436.5202243284127\n"
     ]
    }
   ],
   "source": [
    "xmin = 0. \n",
    "xmax = 10.\n",
    "ymin = -1. \n",
    "ymax = +1.\n",
    "nx   = 101\n",
    "ny   = 21\n",
    "\n",
    "DA   = 1e-3\n",
    "DB   = 1e-3\n",
    "DC   = 1e-3\n",
    "lambA = 0.0\n",
    "lambB = 0.0\n",
    "lambC = 0.0\n",
    "k1 = 0.6\n",
    "velx = 0.1\n",
    "vely = 0.\n",
    "tmin = 0.\n",
    "tmax = 90#0000.\n",
    "dt   = 0.001\n",
    "name = 'THREE-1-'\n",
    "\n",
    "X,Y,dx,dy = create_mesh(xmin,xmax,ymin,ymax,nx,ny)\n",
    "A,B,C,Vx,Vy,Vabs = init_fields(X,Y,velx,vely,nx,ny,shake=0.1)\n",
    "A,B = inject_fields(A,B)\n",
    "#print(A.min(),A.max(),B.min(),B.max())\n",
    "plot_fields(X,Y,A,B,C,Vx,Vy,Vabs,name+f\"{0:04}.png\")\n",
    "time = 0.\n",
    "tsave = 0.\n",
    "twrite = 10.\n",
    "iwrite = 1\n",
    "while (time < tmax):\n",
    "    #print(time)\n",
    "    tsave = tsave + dt\n",
    "    time = time + dt\n",
    "    A,B = inject_fields(A,B)\n",
    "    A,B,C = update_fields(A,B,C,Vx,Vy,DA,DB,DC,lambA,lambB,lambC,k1,dt,dx,dy)\n",
    "    if (tsave >= twrite):\n",
    "        tsave = 0.\n",
    "        print(time,tsave,twrite,A.min(),A.max(),np.sum(A))\n",
    "        plot_fields(X,Y,A,B,C,Vx,Vy,Vabs,name+f\"{iwrite:04}.png\")\n",
    "        iwrite = iwrite + 1"
   ]
  },
  {
   "cell_type": "markdown",
   "metadata": {},
   "source": [
    "### 2"
   ]
  },
  {
   "cell_type": "markdown",
   "metadata": {},
   "source": [
    "... done"
   ]
  }
 ],
 "metadata": {
  "kernelspec": {
   "display_name": "Python 3 (ipykernel)",
   "language": "python",
   "name": "python3"
  },
  "language_info": {
   "codemirror_mode": {
    "name": "ipython",
    "version": 3
   },
   "file_extension": ".py",
   "mimetype": "text/x-python",
   "name": "python",
   "nbconvert_exporter": "python",
   "pygments_lexer": "ipython3",
   "version": "3.9.6"
  }
 },
 "nbformat": 4,
 "nbformat_minor": 2
}
