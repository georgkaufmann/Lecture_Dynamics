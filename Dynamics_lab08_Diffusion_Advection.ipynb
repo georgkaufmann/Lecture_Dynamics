{
 "cells": [
  {
   "cell_type": "markdown",
   "metadata": {},
   "source": [
    "<table>\n",
    "<tr><td><img style=\"height: 150px;\" src=\"images/geo_hydro1.jpg\"></td>\n",
    "<td bgcolor=\"#FFFFFF\">\n",
    "    <p style=\"font-size: xx-large; font-weight: 900; line-height: 100%\">AG Dynamics of the Earth</p>\n",
    "    <p style=\"font-size: large; color: rgba(0,0,0,0.5);\">Jupyter notebooks</p>\n",
    "    <p style=\"font-size: large; color: rgba(0,0,0,0.5);\">Georg Kaufmann</p>\n",
    "    </td>\n",
    "</tr>\n",
    "</table>"
   ]
  },
  {
   "cell_type": "markdown",
   "metadata": {},
   "source": [
    "# Dynamic systems: 8. Reactions\n",
    "## Diffusion, advection, reaction\n",
    "----\n",
    "*Georg Kaufmann,\n",
    "Geophysics Section,\n",
    "Institute of Geological Sciences,\n",
    "Freie Universität Berlin,\n",
    "Germany*"
   ]
  },
  {
   "cell_type": "markdown",
   "metadata": {},
   "source": [
    "----\n",
    "In this notebook, we derive operators for numerically calculating **diffusion** and **advection**\n",
    "terms. We start with **one-dimensional functions**, then expand to **two dimenions**."
   ]
  },
  {
   "cell_type": "code",
   "execution_count": null,
   "metadata": {},
   "outputs": [],
   "source": [
    "import numpy as np\n",
    "import matplotlib.pyplot as plt"
   ]
  },
  {
   "cell_type": "markdown",
   "metadata": {},
   "source": [
    "----\n",
    "## 1D function\n",
    "\n",
    "Consider the 1D function $f(x)$ and its first and second derivative:\n",
    "$$\n",
    "\\begin{array}{rcl}\n",
    "f(x) &=& x^2 \\\\\n",
    "\\frac{d}{dx} f(x) &=& 2x \\\\\n",
    "\\frac{d^2}{dx^2} f(x) &=& 2\n",
    "\\end{array}\n",
    "$$\n",
    "We define these three functions and plot them in the interval $x \\in [-3,3]$:"
   ]
  },
  {
   "cell_type": "code",
   "execution_count": null,
   "metadata": {},
   "outputs": [],
   "source": [
    "def f(x):\n",
    "    return x**2\n",
    "\n",
    "def df(x):\n",
    "    return 2*x\n",
    "\n",
    "def d2f(x):\n",
    "    return 2.*np.ones(len(x))"
   ]
  },
  {
   "cell_type": "code",
   "execution_count": null,
   "metadata": {},
   "outputs": [],
   "source": [
    "x = np.linspace(-3,3,21)\n",
    "dx = x[1]-x[0]"
   ]
  },
  {
   "cell_type": "code",
   "execution_count": null,
   "metadata": {},
   "outputs": [],
   "source": [
    "plt.figure(figsize=(10,6))\n",
    "plt.xlabel('x')\n",
    "plt.ylabel('y')\n",
    "plt.grid(alpha=0.3)\n",
    "plt.plot(x,f(x),linewidth=4,color='red',label='$f(x)$')\n",
    "plt.plot(x,df(x),linewidth=4,color='blue',label='$f\\'(x)$')\n",
    "plt.plot(x,d2f(x),linewidth=4,color='green',label='$f\\'\\'(x)$')\n",
    "plt.legend()"
   ]
  },
  {
   "cell_type": "markdown",
   "metadata": {},
   "source": [
    "We reformulate the first and second-order derivatives into **finite-difference operators**:\n",
    "$$\n",
    "\\begin{array}{rcl}\n",
    "\\frac{\\displaystyle d}{\\displaystyle dx}f(x_0) \n",
    "&=& \\frac{\\displaystyle f(x_0+h) - f(x_0-h)}{\\displaystyle 2h} + O(h^2) \\\\\n",
    "\\frac{\\displaystyle d^2}{\\displaystyle dx^2}f(x_0) \n",
    "&=& \\frac{\\displaystyle f(x_0+h) + f(x_0-h) - 2f(x_0)}{\\displaystyle h^2} + O(h^4)\n",
    "\\end{array}\n",
    "$$"
   ]
  },
  {
   "cell_type": "code",
   "execution_count": null,
   "metadata": {},
   "outputs": [],
   "source": [
    "def gradient1D(f,x,dx):\n",
    "    gradient1D = (f(x+dx)-f(x-dx)) / (2*dx)\n",
    "    return gradient1D\n",
    "\n",
    "def laplacian1D(f,x,dx):\n",
    "    laplacian1D = (f(x+dx)+f(x-dx)-2*f(x)) / (dx**2)\n",
    "    return laplacian1D"
   ]
  },
  {
   "cell_type": "code",
   "execution_count": null,
   "metadata": {},
   "outputs": [],
   "source": [
    "plt.figure(figsize=(10,6))\n",
    "plt.xlabel('x')\n",
    "plt.ylabel('y')\n",
    "plt.grid(alpha=0.3)\n",
    "plt.plot(x,gradient1D(f,x,dx),linewidth=6,color='blue',alpha=0.4,label='gradient1D')\n",
    "plt.plot(x,laplacian1D(f,x,dx),linewidth=6,color='green',alpha=0.4,label='laplacian1D')\n",
    "plt.plot(x,f(x),linewidth=1,color='red',label='$f(x)$')\n",
    "plt.plot(x,df(x),linewidth=1,color='blue',label='$f\\'(x)$')\n",
    "plt.plot(x,d2f(x),linewidth=1,color='green',label='$f\\'\\'(x)$')\n",
    "plt.legend()"
   ]
  },
  {
   "cell_type": "markdown",
   "metadata": {},
   "source": [
    "----\n",
    "## 2D function\n",
    "\n",
    "Next, consider the 2D function $f(x,y)$ and its first and second derivative:\n",
    "$$\n",
    "\\begin{array}{rcl}\n",
    "f(x,y) &=& x^2+y^2 \\\\\n",
    "\\nabla f(x,y) &=& \\left( 2x,2y \\right)^T \\\\\n",
    "\\nabla^2 f(x,y) &=& 4\n",
    "\\end{array}\n",
    "$$\n",
    "Here, $\\nabla=(\\frac{d}{dx},\\frac{d}{dy})^T$ and \n",
    "$\\nabla^2=\\Delta=(\\frac{d^2}{dx^2}+\\frac{d^2}{dy^2})$\n",
    "holds.\n",
    "\n",
    "We define these three functions and plot them in the interval $x \\in [-4,4]$:"
   ]
  },
  {
   "cell_type": "code",
   "execution_count": null,
   "metadata": {},
   "outputs": [],
   "source": [
    "def fxy(x,y):\n",
    "    fxy = np.zeros(len(x)*len(y)).reshape(len(x),len(y))\n",
    "    for i in range(len(x)):\n",
    "        for j in range(len(y)):\n",
    "            fxy[i,j] = x[i]**2+y[j]**2\n",
    "    return fxy\n",
    "\n",
    "def dfxy(x,y):\n",
    "    dxfxy = np.zeros(len(x)*len(y)).reshape(len(x),len(y))\n",
    "    dyfxy = np.zeros(len(x)*len(y)).reshape(len(x),len(y))\n",
    "    for i in range(len(x)):\n",
    "        for j in range(len(y)):\n",
    "            dxfxy[i,j] = 2*x[i]\n",
    "            dyfxy[i,j] = 2*y[j]\n",
    "    return dxfxy,dyfxy\n",
    "\n",
    "def d2fxy(x,y):\n",
    "    d2fxy = np.zeros(len(x)*len(y)).reshape(len(x),len(y))\n",
    "    for i in range(len(x)):\n",
    "        for j in range(len(y)):\n",
    "            d2fxy[i,j] = 4\n",
    "    return d2fxy"
   ]
  },
  {
   "cell_type": "code",
   "execution_count": null,
   "metadata": {},
   "outputs": [],
   "source": [
    "x = np.linspace(-4,4,21)\n",
    "y = np.linspace(-4,4,21)\n",
    "dx = x[1]-x[0]\n",
    "dy = y[1]-y[0]"
   ]
  },
  {
   "cell_type": "code",
   "execution_count": null,
   "metadata": {},
   "outputs": [],
   "source": [
    "fig,axs = plt.subplots(1,3,figsize=(14,5))\n",
    "axs[0].contourf(x,y,fxy(x,y))\n",
    "cs0=axs[0].contour(x,y,fxy(x,y),colors='white')\n",
    "axs[0].clabel(cs0, inline=1, fontsize=10,fmt='%5.1f',colors='black')\n",
    "\n",
    "axs[1].contourf(x,y,dfxy(x,y)[0])\n",
    "csx=axs[1].contour(x,y,dfxy(x,y)[0],colors='white')\n",
    "csy=axs[1].contour(x,y,dfxy(x,y)[1],colors='red',alpha=0.3)\n",
    "axs[1].clabel(csx, inline=1, fontsize=10,fmt='%5.1f',colors='black')\n",
    "\n",
    "axs[2].contourf(x,y,d2fxy(x,y))\n",
    "csxy=axs[2].contour(x,y,d2fxy(x,y),colors='white')\n",
    "axs[2].clabel(csxy, inline=1, fontsize=10,fmt='%5.1f',colors='black')\n",
    "\n",
    "plt.tight_layout()"
   ]
  },
  {
   "cell_type": "markdown",
   "metadata": {},
   "source": [
    "We reformulate the first and second-order derivatives into **finite-difference operators**:\n",
    "$$\n",
    "\\begin{array}{rcl}\n",
    "\\frac{\\displaystyle d}{\\displaystyle dx}f(x,y) \n",
    "&=& \\frac{\\displaystyle f(x+dx,y) - f(x-dx,y)}{\\displaystyle 2dx} + O(h^2) \\\\\n",
    "\\frac{\\displaystyle d}{\\displaystyle dy}f(x,y) \n",
    "&=& \\frac{\\displaystyle f(x,y+dy) - f(x,y-dy)}{\\displaystyle 2dy} + O(h^2) \\\\\n",
    "\\left( \\frac{\\displaystyle d^2}{\\displaystyle dx^2} +\n",
    "       \\frac{\\displaystyle d^2}{\\displaystyle dy^2} \\right) f(x,y)\n",
    "&=&\\frac{\\displaystyle f(x+dx,y) + f(x-dx,y) + f(x,y+dy) + f(x,y-dy) - 4f(x,y)}{\\displaystyle dx dy} + O(h^4)\n",
    "\\end{array}\n",
    "$$"
   ]
  },
  {
   "cell_type": "code",
   "execution_count": null,
   "metadata": {},
   "outputs": [],
   "source": [
    "def gradient2D(f,x,y,dx,dy):\n",
    "    gradient2Dx = (f(x+dx,y)-f(x-dx,y)) / (2*dx)\n",
    "    gradient2Dy = (f(x,y+dy)-f(x,y-dy)) / (2*dy)\n",
    "    return gradient2Dx,gradient2Dy\n",
    "\n",
    "def laplacian2D(f,x,y,dx,dy):\n",
    "    laplacian2D = (f(x+dx,y)+f(x-dx,y)+f(x,y+dy)+f(x,y-dy)-4*f(x,y)) / (dx*dy)\n",
    "    return laplacian2D\n",
    "\n",
    "print(laplacian2D(fxy,x,y,dx,dy).min())\n",
    "print(laplacian2D(fxy,x,y,dx,dy).max())"
   ]
  },
  {
   "cell_type": "code",
   "execution_count": null,
   "metadata": {},
   "outputs": [],
   "source": [
    "fig,axs = plt.subplots(1,3,figsize=(14,5))\n",
    "axs[0].contourf(x,y,fxy(x,y))\n",
    "cs0=axs[0].contour(x,y,fxy(x,y),colors='white')\n",
    "axs[0].clabel(cs0, inline=1, fontsize=10,fmt='%5.1f',colors='black')\n",
    "\n",
    "axs[1].contourf(x,y,dfxy(x,y)[0])\n",
    "csx=axs[1].contour(x,y,gradient2D(fxy,x,y,dx,dy)[0],colors='white')\n",
    "csy=axs[1].contour(x,y,gradient2D(fxy,x,y,dx,dy)[1],colors='red',alpha=0.3)\n",
    "axs[1].clabel(csx, inline=1, fontsize=10,fmt='%5.1f',colors='black')\n",
    "\n",
    "axs[2].contourf(x,y,d2fxy(x,y))\n",
    "csxy=axs[2].contour(x,y,np.around(laplacian2D(fxy,x,y,dx,dy),2),colors='white')\n",
    "axs[2].clabel(csxy, inline=1, fontsize=10,fmt='%5.1f',colors='black')\n",
    "\n",
    "plt.tight_layout()"
   ]
  },
  {
   "cell_type": "markdown",
   "metadata": {},
   "source": [
    "... done"
   ]
  }
 ],
 "metadata": {
  "kernelspec": {
   "display_name": "Python 3 (ipykernel)",
   "language": "python",
   "name": "python3"
  },
  "language_info": {
   "codemirror_mode": {
    "name": "ipython",
    "version": 3
   },
   "file_extension": ".py",
   "mimetype": "text/x-python",
   "name": "python",
   "nbconvert_exporter": "python",
   "pygments_lexer": "ipython3",
   "version": "3.9.6"
  }
 },
 "nbformat": 4,
 "nbformat_minor": 2
}
