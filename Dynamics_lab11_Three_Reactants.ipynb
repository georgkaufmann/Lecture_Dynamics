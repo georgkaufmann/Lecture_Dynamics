{
 "cells": [
  {
   "cell_type": "markdown",
   "metadata": {},
   "source": [
    "<table>\n",
    "<tr><td><img style=\"height: 150px;\" src=\"images/geo_hydro1.jpg\"></td>\n",
    "<td bgcolor=\"#FFFFFF\">\n",
    "    <p style=\"font-size: xx-large; font-weight: 900; line-height: 100%\">AG Dynamics of the Earth</p>\n",
    "    <p style=\"font-size: large; color: rgba(0,0,0,0.5);\">Jupyter notebooks</p>\n",
    "    <p style=\"font-size: large; color: rgba(0,0,0,0.5);\">Georg Kaufmann</p>\n",
    "    </td>\n",
    "</tr>\n",
    "</table>"
   ]
  },
  {
   "cell_type": "markdown",
   "metadata": {},
   "source": [
    "# Dynamic systems: 11. Reactions\n",
    "## Three reactants\n",
    "----\n",
    "*Georg Kaufmann,\n",
    "Geophysics Section,\n",
    "Institute of Geological Sciences,\n",
    "Freie Universität Berlin,\n",
    "Germany*"
   ]
  },
  {
   "cell_type": "markdown",
   "metadata": {},
   "source": [
    "----\n",
    "In this notebook, we solve the continuity equation for **three reactants** with terms for:\n",
    "- advection\n",
    "- diffusion\n",
    "- source-sink\n",
    "- reaction\n",
    "- decay"
   ]
  },
  {
   "cell_type": "markdown",
   "metadata": {},
   "source": [
    "----\n",
    "## 2D advection-diffusion-reaction equation\n",
    "\n",
    "Check the [Fenics project](https://fenicsproject.org/pub/tutorial/html/._ftut1010.html) for the equations.\n",
    "\n",
    "We consider the transport equations for species $A$, $B$ and $C$:\n",
    "$$\\fbox{$\n",
    "\\begin{array}{rcl}\n",
    "\\frac{\\partial A}{\\partial t}\n",
    "+ \\vec{u} \\cdot \\nabla A\n",
    "- \\nabla \\cdot (D_A \\nabla A) \n",
    "&=& f_A - \\lambda_A A \\\\\n",
    "\\frac{\\partial B}{\\partial t}\n",
    "+ \\vec{u} \\cdot \\nabla B\n",
    "- \\nabla \\cdot (D_B \\nabla B) \n",
    "&=& f_B - \\lambda_B B \\\\ \n",
    "\\frac{\\partial C}{\\partial t}\n",
    "+ \\vec{u} \\cdot \\nabla C\n",
    "- \\nabla \\cdot (D_C \\nabla C)\n",
    "&=& f_C - \\lambda_C C\n",
    "\\end{array}\n",
    "$}$$\n",
    "\n",
    "We rewrite the transport equation into a finite difference scheme with explicit time\n",
    "integration, using $\\frac{\\partial A}{\\partial t}=\\frac{A(t_{i+1})-A(t_i)}{\\Delta t}$:\n",
    "$$\n",
    "\\begin{array}{rcl}\n",
    "A(t_{i+1}) = A(t_i) +\n",
    "\\left[\n",
    "- \\vec{u} \\cdot \\nabla A\n",
    "+ \\nabla \\cdot (D_A \\nabla A)\n",
    "+ f_A\n",
    "- \\lambda_A A\n",
    "\\right] \\Delta t \\\\\n",
    "B(t_{i+1}) = B(t_i) +\n",
    "\\left[\n",
    "- \\vec{u} \\cdot \\nabla B\n",
    "+ \\nabla \\cdot (D_B \\nabla B)\n",
    "+ f_B\n",
    "- \\lambda_B B\n",
    "\\right] \\Delta t \\\\\n",
    "C(t_{i+1}) = C(t_i) +\n",
    "\\left[\n",
    "- \\vec{u} \\cdot \\nabla C\n",
    "+ \\nabla \\cdot (D_C \\nabla C)\n",
    "+ f_C\n",
    "- \\lambda_C C\n",
    "\\right] \\Delta t\n",
    "\\end{array}\n",
    "$$\n",
    "In the square brackets, we have the **advection term**, the **diffusion term**,\n",
    "a **source-sink/reaction term**, and a **decay term**.\n",
    "\n",
    "### Reaction\n",
    "\n",
    "The **reaction** considered is\n",
    "$$\n",
    "A + B \\stackrel{k_1}{<->} C\n",
    "$$\n",
    "which can be reformulated into the differential equations:\n",
    "$$\n",
    "\\begin{array}{rcl}\n",
    "\\frac{dA}{dt} = \\frac{dB}{dt} &=& - k_1 A B \\\\\n",
    "\\frac{dC}{dt} &=& k_1 A B\n",
    "\\end{array}\n",
    "$$\n",
    "Here, $k_1$ [m$^3$/mol/s] is the **reaction rate**.\n",
    "\n",
    "Thus our sink-source terms consist of the chemical reaction  of the species:\n",
    "$$\n",
    "\\begin{array}{rcl}\n",
    "f_A &=& - k_1 A B \\\\\n",
    "f_B &=& - k_1 A B \\\\\n",
    "f_C &=& + k_1 A B \n",
    "\\end{array}\n",
    "$$\n",
    "\n",
    "### Decay \n",
    "\n",
    "The **decay** considered is following an exponential decay model:\n",
    "$$\n",
    "C(t) = C_0 e^{-\\lambda_C t}\n",
    "$$\n",
    "which is the solution of the differential equation:\n",
    "$$\n",
    "\\frac{dC}{dt} = -\\lambda_C C\n",
    "$$\n",
    "Here, $\\lambda_C$ [1/s] is the **decay rate**."
   ]
  },
  {
   "cell_type": "code",
   "execution_count": 1,
   "metadata": {},
   "outputs": [],
   "source": [
    "import numpy as np\n",
    "import matplotlib.pyplot as plt\n",
    "import matplotlib as mpl"
   ]
  },
  {
   "cell_type": "markdown",
   "metadata": {},
   "source": [
    "----\n",
    "## Define functions\n",
    "### Create mesh\n",
    "We solve the transport equation for three species $A, B, C$ in a 2D domain, with coordinates\n",
    "$x$ and $y$ [m], defined as 1D arrays with `linspace` from the `numpy` package, \n",
    "and then converted to 2D arrays, using `meshgrid` from the `numpy` package."
   ]
  },
  {
   "cell_type": "code",
   "execution_count": 2,
   "metadata": {},
   "outputs": [],
   "source": [
    "def create_mesh(xmin=0,xmax=1,ymin=0,ymax=1,nx=11,ny=11):\n",
    "    x,dx = np.linspace(xmin,xmax,nx,retstep=True)\n",
    "    y,dy = np.linspace(ymin,ymax,ny,retstep=True)\n",
    "    #dx = x[1]-x[0]\n",
    "    #dy = y[1]-y[0]\n",
    "    X,Y = np.meshgrid(x,y)\n",
    "    return X,Y,dx,dy"
   ]
  },
  {
   "cell_type": "markdown",
   "metadata": {},
   "source": [
    "### Initialize field values\n",
    "As initial conditions, we set the species $A$, $B$, and $C$ to zero, \n",
    "then add some random noise,\n",
    "and finally we inject $A=1$ in the top left part, and\n",
    "$B=1$ in the bottom left part.\n",
    "\n",
    "We also set up the velocity vector by defining 2D arrays for the $x$- and $y$-components\n",
    "of velocitiy, $Vx$ and $Vy$ [m/s]."
   ]
  },
  {
   "cell_type": "code",
   "execution_count": 3,
   "metadata": {
    "tags": []
   },
   "outputs": [],
   "source": [
    "def init_fields(X,Y,velx=0,vely=0,nx=11,ny=11,shake=0.):\n",
    "    # set concentrations A,B,C to zero\n",
    "    # if shake!=0, shake by some random noise\n",
    "    A = np.zeros(nx*ny).reshape(ny,nx)\n",
    "    B = np.zeros(nx*ny).reshape(ny,nx)\n",
    "    C = np.zeros(nx*ny).reshape(ny,nx)\n",
    "    \n",
    "    A = (1-shake)*A + shake * np.random.random((ny,nx))\n",
    "    B = (1-shake)*B + shake * np.random.random((ny,nx))\n",
    "    # velocity\n",
    "    Vx = np.ones(nx*ny).reshape(ny,nx)\n",
    "    Vy = np.ones(nx*ny).reshape(ny,nx)\n",
    "    Vx = velx*Vx\n",
    "    Vy = vely*Vy\n",
    "    Vabs = np.sqrt(Vx**2 + Vy**2)\n",
    "    return A,B,C,Vx,Vy,Vabs"
   ]
  },
  {
   "cell_type": "code",
   "execution_count": 4,
   "metadata": {},
   "outputs": [],
   "source": [
    "def inject_fields(A,B):\n",
    "    # re-set A and B within defined area\n",
    "    A[-10:-7,1:5] = 1.\n",
    "    B[7:10,1:5] = 1.\n",
    "    return A,B"
   ]
  },
  {
   "cell_type": "markdown",
   "metadata": {},
   "source": [
    "### Plotting\n",
    "Next, we write a function for plotting the fields ..."
   ]
  },
  {
   "cell_type": "code",
   "execution_count": 5,
   "metadata": {},
   "outputs": [],
   "source": [
    "def plot_fields(X,Y,A,B,C,Vx,Vy,Vabs,filename=''):\n",
    "    xmin = X.min(); xmax = X.max()\n",
    "    ymin = Y.min(); ymax = Y.max()\n",
    "    fig, axs = plt.subplots(3,1,figsize=(8,10))\n",
    "    \n",
    "    colA = np.linspace(0.0, 1.0, 11, endpoint=True)\n",
    "    colB = np.linspace(0.0, 1.0, 11, endpoint=True)\n",
    "    colC = np.linspace(0.0, 1.0, 11, endpoint=True)\n",
    "    cmap = plt.cm.hot_r\n",
    "    #norm = mpl.colors.Normalize(vmin=0, vmax=0.9)\n",
    "    normA = mpl.colors.BoundaryNorm(colA, cmap.N)\n",
    "    normB = mpl.colors.BoundaryNorm(colB, cmap.N)\n",
    "    normC = mpl.colors.BoundaryNorm(colC, cmap.N)\n",
    "\n",
    "    axs[0].set_xlim([xmin,xmax])\n",
    "    axs[0].set_ylim([ymin,ymax])\n",
    "    CS0=axs[0].contourf(X,Y,A,levels=colA,norm=normA,cmap=cmap,extend='both')\n",
    "    cbar = fig.colorbar(CS0,ax=axs[0],orientation=\"vertical\",shrink=0.9)\n",
    "    cbar.ax.set_ylabel('A [mol/m$^3$]')\n",
    "    axs[0].streamplot(X,Y,Vx/Vabs,Vy/Vabs,color=(0.5,0.5,0.5,0.6),linewidth=1.5)\n",
    "    \n",
    "    axs[1].set_xlim([xmin,xmax])\n",
    "    axs[1].set_ylim([ymin,ymax])\n",
    "    CS1=axs[1].contourf(X,Y,B,colB,norm=normB,cmap=cmap,extend='both')\n",
    "    cbar = fig.colorbar(CS1,ax=axs[1],orientation=\"vertical\",shrink=0.9)\n",
    "    cbar.ax.set_ylabel('B [mol/m$^3$]')\n",
    "    axs[1].streamplot(X,Y,Vx/Vabs,Vy/Vabs,color=(0.5,0.5,0.5,0.6),linewidth=1.5)\n",
    "    \n",
    "    axs[2].set_xlim([xmin,xmax])\n",
    "    axs[2].set_ylim([ymin,ymax])\n",
    "    CS2=axs[2].contourf(X,Y,C,colC,norm=normC,cmap=cmap,extend='both')\n",
    "    cbar = fig.colorbar(CS2,ax=axs[2],orientation=\"vertical\",shrink=0.9)\n",
    "    cbar.ax.set_ylabel('C [mol/m$^3$]')\n",
    "    axs[2].streamplot(X,Y,Vx/Vabs,Vy/Vabs,color=(0.5,0.5,0.5,0.6),linewidth=1.5)\n",
    "    \n",
    "    axs[0].set_title('A')\n",
    "    axs[1].set_title('B')\n",
    "    axs[2].set_title('C')\n",
    "    #axs[0].axis('off')\n",
    "    #axs[1].axis('off')\n",
    "    #axs[2].axis('off')\n",
    "    if (filename != ''):\n",
    "        plt.savefig('lab11/'+filename,dpi=300)\n",
    "        plt.close()"
   ]
  },
  {
   "cell_type": "code",
   "execution_count": 6,
   "metadata": {
    "tags": []
   },
   "outputs": [
    {
     "data": {
      "text/plain": [
       "<matplotlib.colorbar.Colorbar at 0x11f116b10>"
      ]
     },
     "execution_count": 6,
     "metadata": {},
     "output_type": "execute_result"
    },
    {
     "data": {
      "image/png": "[encoded data removed]",
      "text/plain": [
       "<Figure size 600x100 with 1 Axes>"
      ]
     },
     "metadata": {},
     "output_type": "display_data"
    }
   ],
   "source": [
    "fig, ax = plt.subplots(figsize=(6, 1), layout='constrained')\n",
    "\n",
    "cmap = plt.cm.viridis\n",
    "bounds = [-1, 2, 5, 7, 12, 15]\n",
    "norm = mpl.colors.BoundaryNorm(bounds, cmap.N, extend='both')\n",
    "\n",
    "fig.colorbar(mpl.cm.ScalarMappable(norm=norm, cmap=cmap),\n",
    "             cax=ax, orientation='horizontal',\n",
    "             label=\"Discrete intervals with extend='both' keyword\")"
   ]
  },
  {
   "cell_type": "markdown",
   "metadata": {},
   "source": [
    "----\n",
    "## Parameter values"
   ]
  },
  {
   "cell_type": "code",
   "execution_count": 7,
   "metadata": {},
   "outputs": [],
   "source": [
    "xmin = 0. \n",
    "xmax = 10.\n",
    "ymin = -1. \n",
    "ymax = +1.\n",
    "nx   = 101\n",
    "ny   = 21"
   ]
  },
  {
   "cell_type": "markdown",
   "metadata": {},
   "source": [
    "We then need to define the parameter values for \n",
    "advection ($velx,vely$), \n",
    "diffusion ($D_A,D_B,D_C$), \n",
    "reaction ($k_1$), and decay ($\\lambda_A,\\lambda_B,\\lambda_C$),\n",
    "as well as time constraints.\n",
    "Time is defined as $t$ [s] on the interval [$t_{min},t_{max}$],\n",
    "and the time step is $dt$.\n",
    "\n",
    "We first set standard values:"
   ]
  },
  {
   "cell_type": "code",
   "execution_count": 8,
   "metadata": {},
   "outputs": [],
   "source": [
    "DA    = 1e-3\n",
    "DB    = 1e-3\n",
    "DC    = 1e-3\n",
    "lambA = 0.0\n",
    "lambB = 0.0\n",
    "lambC = 0.0\n",
    "k1    = 100.\n",
    "velx  = 0.1\n",
    "vely  = 0.\n",
    "tmin  = 0.\n",
    "tmax  = 110\n",
    "dt    = 0.001"
   ]
  },
  {
   "cell_type": "markdown",
   "metadata": {},
   "source": [
    "Test the functions ..."
   ]
  },
  {
   "cell_type": "code",
   "execution_count": 9,
   "metadata": {
    "tags": []
   },
   "outputs": [
    {
     "name": "stdout",
     "output_type": "stream",
     "text": [
      "(21, 101) 0.1\n",
      "(21, 101) 0.1\n"
     ]
    },
    {
     "data": {
      "image/png": "[encoded data removed]",
      "text/plain": [
       "<Figure size 800x1000 with 6 Axes>"
      ]
     },
     "metadata": {},
     "output_type": "display_data"
    }
   ],
   "source": [
    "X,Y,dx,dy = create_mesh(xmin,xmax,ymin,ymax,nx,ny)\n",
    "print(X.shape,dx)\n",
    "print(Y.shape,dy)\n",
    "A,B,C,Vx,Vy,Vabs = init_fields(X,Y,velx,vely,nx,ny)\n",
    "A,B = inject_fields(A,B)\n",
    "plot_fields(X,Y,A,B,C,Vx,Vy,Vabs)"
   ]
  },
  {
   "cell_type": "markdown",
   "metadata": {},
   "source": [
    "We then check the **Courant-Friedrich-Levi criteria** for stability:\n",
    "$$\n",
    "\\begin{array}{rcl}\n",
    "CFL_a &=& \\Delta t \\left( \\frac{u_x}{dx} + \\frac{u_y}{dy} \\right) < 1 \\\\\n",
    "CFL_d &=& \\Delta t \\left( \\frac{D_x}{dx^2} + \\frac{D_y}{dy^2} \\right) < 0.5\n",
    "\\end{array}\n",
    "$$\n",
    "The first one is for **advection**, the second one for **diffusion**."
   ]
  },
  {
   "cell_type": "code",
   "execution_count": 23,
   "metadata": {},
   "outputs": [
    {
     "name": "stdout",
     "output_type": "stream",
     "text": [
      "CFL_a:   0.9091\n",
      "CFL_dA:  0.25\n",
      "CFL_dB:  0.25\n",
      "CFL_dC:  0.25\n",
      "CFL:     0.25\n",
      "CFL:     0.025 (save used)\n",
      "0.025000000000000005\n"
     ]
    }
   ],
   "source": [
    "def Courant(DA,DB,DC,velx,vely,dx,dy,save=1.):\n",
    "    \"\"\"\n",
    "    Courant-Friedrich-Levy criteria for time control\n",
    "    \"\"\"\n",
    "    if (velx==0 and vely==0):\n",
    "        CFLa = np.nan\n",
    "    else:\n",
    "        CFLa = 1 / (velx/dx + vely/dy)\n",
    "    CFLdA = 0.5 / (DA/dx**2 + DA/dy**2)\n",
    "    CFLdB = 0.5 / (DB/dx**2 + DB/dy**2)\n",
    "    CFLdC = 0.5 / (DC/dx**2 + DC/dy**2)\n",
    "    print('CFL_a:  ',round(CFLa,4))\n",
    "    print('CFL_dA: ',round(CFLdA,4))\n",
    "    print('CFL_dB: ',round(CFLdB,4))\n",
    "    print('CFL_dC: ',round(CFLdC,4))\n",
    "    dtCourant = np.nanmin([CFLa,CFLdA,CFLdB,CFLdC])\n",
    "    print('CFL:    ',round(dtCourant,6))\n",
    "    if (save > 1):\n",
    "        dtCourant /= save\n",
    "        print('CFL:    ',round(dtCourant,6), '(save used)')\n",
    "    return dtCourant\n",
    "    \n",
    "dtCourant = Courant(DA,DB,DC,velx,vely,dx,dy,save=10)\n",
    "print(dtCourant)"
   ]
  },
  {
   "cell_type": "markdown",
   "metadata": {},
   "source": [
    "Next, we write a function for plotting the fields ..."
   ]
  },
  {
   "cell_type": "markdown",
   "metadata": {},
   "source": [
    "## Define differential operators as finite-difference operators"
   ]
  },
  {
   "cell_type": "code",
   "execution_count": 11,
   "metadata": {},
   "outputs": [],
   "source": [
    "def diffusion(M,dx,dy):\n",
    "    \"\"\"L = nabla^2 M\"\"\"\n",
    "    L = -4*M\n",
    "    L += np.roll(M, (0,-1), (0,1)) # right neighbor\n",
    "    L += np.roll(M, (0,+1), (0,1)) # left neighbor\n",
    "    L += np.roll(M, (-1,0), (0,1)) # top neighbor\n",
    "    L += np.roll(M, (+1,0), (0,1)) # bottom neighbor\n",
    "    L = L / (dx*dy)\n",
    "    return L\n",
    "\n",
    "def advection(M,Vx,Vy,dx,dy):\n",
    "    \"\"\"L = V*nabla M\"\"\"\n",
    "    gradx  = np.roll(M, (0,-1), (0,1)) # right neighbor\n",
    "    gradx -= np.roll(M, (0,+1), (0,1)) # left neighbor\n",
    "    gradx  = gradx / (2*dx)\n",
    "    grady  = np.roll(M, (-1,0), (0,1)) # top neighbor\n",
    "    grady -= np.roll(M, (+1,0), (0,1)) # bottom neighbor\n",
    "    grady  = grady / (2*dy)\n",
    "    L = Vx*gradx + Vy*grady\n",
    "    return L"
   ]
  },
  {
   "cell_type": "markdown",
   "metadata": {},
   "source": [
    " ----\n",
    "## Function for solving differential equation\n",
    "In this final function, we solve the 2D transport equation for three species ..."
   ]
  },
  {
   "cell_type": "code",
   "execution_count": 12,
   "metadata": {},
   "outputs": [],
   "source": [
    "def update_fields(A,B,C,Vx,Vy,DA,DB,DC,lambA,lambB,lambdaC,k1,dt,dx,dy):\n",
    "    nx = A.shape[0]\n",
    "    ny = A.shape[1]\n",
    "    # diffusion and advection A\n",
    "    laplacian = diffusion(A,dx,dy)\n",
    "    gradient  = advection(A,Vx,Vy,dx,dy)\n",
    "    # Now apply the update formula\n",
    "    diff_A = (-gradient + DA*laplacian - lambA*A - k1*A*B) * dt\n",
    "    # diffusion and advection B\n",
    "    laplacian = diffusion(B,dx,dy)\n",
    "    gradient  = advection(B,Vx,Vy,dx,dy)\n",
    "    # Now apply the update formula\n",
    "    diff_B = (-gradient + DB*laplacian - lambB*B - k1*A*B) * dt\n",
    "    # diffusion and advection C\n",
    "    laplacian = diffusion(C,dx,dy)\n",
    "    gradient  = advection(C,Vx,Vy,dx,dy)\n",
    "    # Now apply the update formula\n",
    "    diff_C = (-gradient + DC*laplacian - lambC*C + k1*A*B) * dt\n",
    "\n",
    "    A += diff_A\n",
    "    B += diff_B\n",
    "    C += diff_C\n",
    "    # no concentrations below 0\n",
    "    A = np.where(A<0,0,A)\n",
    "    B = np.where(B<0,0,B)\n",
    "    C = np.where(C<0,0,C)\n",
    "    # no concentrations above 1\n",
    "    A = np.where(A>1,1,A)\n",
    "    B = np.where(B>1,1,B)\n",
    "    C = np.where(C>1,1,C)\n",
    "    #print(A.min(),A.max())\n",
    "\n",
    "    return A,B,C"
   ]
  },
  {
   "cell_type": "code",
   "execution_count": 13,
   "metadata": {},
   "outputs": [],
   "source": [
    "def advance_field(X,Y,A,B,C,Vx,Vy,DA,DB,DC,lambA,lambB,lambC,k1,dt,tmax,dx,dy):\n",
    "    time   = 0.\n",
    "    tsave  = 0.\n",
    "    twrite = 10.\n",
    "    iwrite = 1\n",
    "    while (time < tmax):\n",
    "        #print(time)\n",
    "        tsave = tsave + dt\n",
    "        time = time + dt\n",
    "        A,B = inject_fields(A,B)\n",
    "        A,B,C = update_fields(A,B,C,Vx,Vy,DA,DB,DC,lambA,lambB,lambC,k1,dt,dx,dy)\n",
    "        if (tsave >= twrite):\n",
    "            tsave = 0.\n",
    "            print(\"t: %6.2f A: %5.2f %5.2f B: %5.2f %5.2f C: %5.2f %5.2f\" % (time,A.min(),A.max(),B.min(),B.max(),C.min(),C.max()))\n",
    "            plot_fields(X,Y,A,B,C,Vx,Vy,Vabs,name+f\"{iwrite:04}.png\")\n",
    "            iwrite = iwrite + 1\n",
    "    return"
   ]
  },
  {
   "cell_type": "markdown",
   "metadata": {},
   "source": [
    "---- \n",
    "## Example 1\n",
    "\n",
    "Velocity unidirectional, diffusivity for all species the same, high reactivity.\n",
    "\n",
    "- Play with diffusivity, e.g. $D\\simeq 10^{-4}$ m$^2$/s keeps the shape of the plume,\n",
    "while $D\\simeq 10^{-3}$ m$^2$/s initiates better mixing ..."
   ]
  },
  {
   "cell_type": "code",
   "execution_count": 14,
   "metadata": {},
   "outputs": [
    {
     "name": "stdout",
     "output_type": "stream",
     "text": [
      "CFL_a:   1.0\n",
      "CFL_dA:  2.5\n",
      "CFL_dB:  2.5\n",
      "CFL_dC:  2.5\n",
      "CFL:     1.0\n",
      "t:  10.10 A:  0.00  1.00 B:  0.00  1.00 C:  0.02  0.76\n",
      "t:  20.20 A:  0.00  1.00 B:  0.00  1.00 C:  0.03  0.79\n",
      "t:  30.30 A:  0.00  1.00 B:  0.00  1.00 C:  0.03  0.74\n",
      "t:  40.40 A:  0.00  1.00 B:  0.00  1.00 C:  0.03  0.68\n",
      "t:  50.50 A:  0.00  1.00 B:  0.00  1.00 C:  0.02  0.63\n",
      "t:  60.60 A:  0.00  1.00 B:  0.00  1.00 C:  0.03  0.58\n",
      "t:  70.70 A:  0.00  1.00 B:  0.00  1.00 C:  0.03  0.55\n",
      "t:  80.80 A:  0.00  1.00 B:  0.00  1.00 C:  0.03  0.52\n",
      "t:  90.90 A:  0.00  1.00 B:  0.00  1.00 C:  0.05  0.52\n",
      "t: 101.00 A:  0.00  1.00 B:  0.00  1.00 C:  0.05  0.52\n"
     ]
    }
   ],
   "source": [
    "DA = 1e-3; DB = 1e-3; DC = 1e-3\n",
    "dtCourant = Courant(DA,DB,DC,velx,vely,dx,dy) / 10.\n",
    "name = 'THREE-1a-'\n",
    "\n",
    "X,Y,dx,dy = create_mesh(xmin,xmax,ymin,ymax,nx,ny)\n",
    "A,B,C,Vx,Vy,Vabs = init_fields(X,Y,velx,vely,nx,ny,shake=0.1)\n",
    "A,B = inject_fields(A,B)\n",
    "#print(A.min(),A.max(),B.min(),B.max())\n",
    "plot_fields(X,Y,A,B,C,Vx,Vy,Vabs,name+f\"{0:04}.png\")\n",
    "advance_field(X,Y,A,B,C,Vx,Vy,DA,DB,DC,lambA,lambB,lambC,k1,dtCourant,tmax,dx,dy)"
   ]
  },
  {
   "cell_type": "code",
   "execution_count": 15,
   "metadata": {},
   "outputs": [
    {
     "name": "stdout",
     "output_type": "stream",
     "text": [
      "CFL_a:   1.0\n",
      "CFL_dA:  0.5\n",
      "CFL_dB:  0.5\n",
      "CFL_dC:  2.5\n",
      "CFL:     0.5\n",
      "t:  10.00 A:  0.00  1.00 B:  0.00  1.00 C:  0.00  1.00\n",
      "t:  20.00 A:  0.00  1.00 B:  0.00  1.00 C:  0.00  1.00\n",
      "t:  30.00 A:  0.00  1.00 B:  0.00  1.00 C:  0.00  1.00\n",
      "t:  40.00 A:  0.00  1.00 B:  0.00  1.00 C:  0.00  1.00\n",
      "t:  50.00 A:  0.00  1.00 B:  0.00  1.00 C:  0.00  1.00\n",
      "t:  60.00 A:  0.00  1.00 B:  0.00  1.00 C:  0.00  1.00\n",
      "t:  70.00 A:  0.00  1.00 B:  0.00  1.00 C:  0.00  1.00\n",
      "t:  80.00 A:  0.00  1.00 B:  0.00  1.00 C:  0.00  1.00\n",
      "t:  90.00 A:  0.00  1.00 B:  0.00  1.00 C:  0.00  1.00\n",
      "t: 100.00 A:  0.00  1.00 B:  0.00  1.00 C:  0.05  1.00\n",
      "t: 110.00 A:  0.00  1.00 B:  0.00  1.00 C:  0.06  1.00\n"
     ]
    }
   ],
   "source": [
    "DA = 5e-3; DB = 5e-3; DC = 1e-3\n",
    "dtCourant = Courant(DA,DB,DC,velx,vely,dx,dy) / 10.\n",
    "name = 'THREE-1b-'\n",
    "\n",
    "X,Y,dx,dy = create_mesh(xmin,xmax,ymin,ymax,nx,ny)\n",
    "A,B,C,Vx,Vy,Vabs = init_fields(X,Y,velx,vely,nx,ny,shake=0.1)\n",
    "A,B = inject_fields(A,B)\n",
    "plot_fields(X,Y,A,B,C,Vx,Vy,Vabs,name+f\"{0:04}.png\")\n",
    "advance_field(X,Y,A,B,C,Vx,Vy,DA,DB,DC,lambA,lambB,lambC,k1,dtCourant,tmax,dx,dy)"
   ]
  },
  {
   "cell_type": "markdown",
   "metadata": {},
   "source": [
    "----\n",
    "## Example 2\n",
    "Velocity in two directions, diffusivity for all species the same, high reactivity.\n",
    "\n",
    "Substances leave domain an come back because of cyclic boundary conditions in solver ..."
   ]
  },
  {
   "cell_type": "code",
   "execution_count": 16,
   "metadata": {},
   "outputs": [
    {
     "name": "stdout",
     "output_type": "stream",
     "text": [
      "CFL_a:   0.9091\n",
      "CFL_dA:  2.5\n",
      "CFL_dB:  2.5\n",
      "CFL_dC:  25.0\n",
      "CFL:     0.909091\n",
      "t:  10.00 A:  0.00  1.00 B:  0.00  1.00 C:  0.00  1.00\n",
      "t:  20.00 A:  0.00  1.00 B:  0.00  1.00 C:  0.00  1.00\n",
      "t:  30.00 A:  0.00  1.00 B:  0.00  1.00 C:  0.00  1.00\n",
      "t:  40.00 A:  0.00  1.00 B:  0.00  1.00 C:  0.00  1.00\n",
      "t:  50.00 A:  0.00  1.00 B:  0.00  1.00 C:  0.00  1.00\n",
      "t:  60.00 A:  0.00  1.00 B:  0.00  1.00 C:  0.00  1.00\n",
      "t:  70.00 A:  0.00  1.00 B:  0.00  1.00 C:  0.00  1.00\n",
      "t:  80.00 A:  0.00  1.00 B:  0.00  1.00 C:  0.00  1.00\n",
      "t:  90.00 A:  0.00  1.00 B:  0.00  1.00 C:  0.00  1.00\n",
      "t: 100.00 A:  0.00  1.00 B:  0.00  1.00 C:  0.00  1.00\n",
      "t: 110.00 A:  0.00  1.00 B:  0.00  1.00 C:  0.00  1.00\n"
     ]
    }
   ],
   "source": [
    "DA = 1e-3; DB = 1e-3; DC = 1e-4\n",
    "velx  = 0.1; vely  = 0.01\n",
    "dtCourant = Courant(DA,DB,DC,velx,vely,dx,dy) / 10.\n",
    "name  = 'THREE-2a-'\n",
    "\n",
    "X,Y,dx,dy = create_mesh(xmin,xmax,ymin,ymax,nx,ny)\n",
    "A,B,C,Vx,Vy,Vabs = init_fields(X,Y,velx,vely,nx,ny,shake=0.1)\n",
    "A,B = inject_fields(A,B)\n",
    "plot_fields(X,Y,A,B,C,Vx,Vy,Vabs,name+f\"{0:04}.png\")\n",
    "advance_field(X,Y,A,B,C,Vx,Vy,DA,DB,DC,lambA,lambB,lambC,k1,dtCourant,tmax,dx,dy)"
   ]
  },
  {
   "cell_type": "markdown",
   "metadata": {},
   "source": [
    "----\n",
    "## Example 3\n",
    "Velocities converge, upper part downwards, lower part upwards, towards central part."
   ]
  },
  {
   "cell_type": "code",
   "execution_count": 17,
   "metadata": {},
   "outputs": [],
   "source": [
    "def init_fields(X,Y,velx,vely,nx,ny,shake=0.):\n",
    "    # concentrations A,B,C\n",
    "    A = np.zeros(nx*ny).reshape(ny,nx)\n",
    "    B = np.zeros(nx*ny).reshape(ny,nx)\n",
    "    C = np.zeros(nx*ny).reshape(ny,nx)\n",
    "    A = (1-shake)*A + shake * np.random.random((ny,nx))\n",
    "    B = (1-shake)*B + shake * np.random.random((ny,nx))\n",
    "    # velocity\n",
    "    Vx = np.ones(nx*ny).reshape(ny,nx)\n",
    "    Vy = np.ones(nx*ny).reshape(ny,nx)\n",
    "    Vx = velx*Vx\n",
    "    Vy = vely*Vy\n",
    "    Vy = np.where(Y>0.15,-vely,0)\n",
    "    Vy = np.where(Y<-0.15,vely,Vy)\n",
    "    Vabs = np.sqrt(Vx**2 + Vy**2)\n",
    "    return A,B,C,Vx,Vy,Vabs"
   ]
  },
  {
   "cell_type": "code",
   "execution_count": 18,
   "metadata": {
    "tags": []
   },
   "outputs": [],
   "source": [
    "def inject_fields(A,B):\n",
    "    # re-set A and B within defined area\n",
    "    A[-7:-4,1:5] = 1.\n",
    "    B[4:7,1:5] = 1.\n",
    "    return A,B"
   ]
  },
  {
   "cell_type": "code",
   "execution_count": 19,
   "metadata": {},
   "outputs": [
    {
     "name": "stdout",
     "output_type": "stream",
     "text": [
      "CFL_a:   0.9091\n",
      "CFL_dA:  2.5\n",
      "CFL_dB:  2.5\n",
      "CFL_dC:  2.5\n",
      "CFL:     0.909091\n",
      "t:  10.00 A:  0.00  1.00 B:  0.00  1.00 C:  0.00  0.07\n",
      "t:  20.00 A:  0.00  1.00 B:  0.00  1.00 C:  0.01  0.07\n",
      "t:  30.00 A:  0.00  1.00 B:  0.00  1.00 C:  0.02  0.12\n",
      "t:  40.00 A:  0.00  1.00 B:  0.00  1.00 C:  0.03  0.17\n",
      "t:  50.00 A:  0.00  1.00 B:  0.00  1.00 C:  0.03  0.19\n",
      "t:  60.00 A:  0.00  1.00 B:  0.00  1.00 C:  0.03  0.19\n",
      "t:  70.00 A:  0.00  1.00 B:  0.00  1.00 C:  0.03  0.18\n",
      "t:  80.00 A:  0.00  1.00 B:  0.00  1.00 C:  0.04  0.18\n",
      "t:  90.00 A:  0.00  1.00 B:  0.00  1.00 C:  0.04  0.18\n",
      "t: 100.00 A:  0.00  1.00 B:  0.00  1.00 C:  0.04  0.19\n",
      "t: 110.00 A:  0.00  1.00 B:  0.00  1.00 C:  0.04  0.19\n"
     ]
    }
   ],
   "source": [
    "DA = 1e-3; DB = 1e-3; DC = 1e-3\n",
    "velx  = 0.1; vely  = 0.01\n",
    "k1 = 1\n",
    "dtCourant = Courant(DA,DB,DC,velx,vely,dx,dy) / 10.\n",
    "name  = 'THREE-3a-'\n",
    "\n",
    "X,Y,dx,dy = create_mesh(xmin,xmax,ymin,ymax,nx,ny)\n",
    "A,B,C,Vx,Vy,Vabs = init_fields(X,Y,velx,vely,nx,ny,shake=0.1)\n",
    "A,B = inject_fields(A,B)\n",
    "plot_fields(X,Y,A,B,C,Vx,Vy,Vabs,name+f\"{0:04}.png\")\n",
    "advance_field(X,Y,A,B,C,Vx,Vy,DA,DB,DC,lambA,lambB,lambC,k1,dtCourant,tmax,dx,dy)"
   ]
  },
  {
   "cell_type": "code",
   "execution_count": 20,
   "metadata": {},
   "outputs": [
    {
     "name": "stdout",
     "output_type": "stream",
     "text": [
      "CFL_a:   0.9091\n",
      "CFL_dA:  0.25\n",
      "CFL_dB:  0.25\n",
      "CFL_dC:  0.25\n",
      "CFL:     0.25\n",
      "t:  10.00 A:  0.01  1.00 B:  0.01  1.00 C:  0.02  0.13\n",
      "t:  20.00 A:  0.00  1.00 B:  0.00  1.00 C:  0.02  0.22\n",
      "t:  30.00 A:  0.00  1.00 B:  0.00  1.00 C:  0.03  0.26\n",
      "t:  40.00 A:  0.00  1.00 B:  0.00  1.00 C:  0.03  0.28\n",
      "t:  50.00 A:  0.00  1.00 B:  0.00  1.00 C:  0.04  0.30\n",
      "t:  60.00 A:  0.00  1.00 B:  0.00  1.00 C:  0.04  0.31\n",
      "t:  70.00 A:  0.00  1.00 B:  0.00  1.00 C:  0.04  0.32\n",
      "t:  80.00 A:  0.00  1.00 B:  0.00  1.00 C:  0.07  0.32\n",
      "t:  90.00 A:  0.00  1.00 B:  0.00  1.00 C:  0.12  0.33\n",
      "t: 100.00 A:  0.00  1.00 B:  0.00  1.00 C:  0.20  0.33\n",
      "t: 110.00 A:  0.00  1.00 B:  0.00  1.00 C:  0.28  0.38\n"
     ]
    }
   ],
   "source": [
    "DA = 1e-2; DB = 1e-2; DC = 1e-2\n",
    "velx  = 0.1; vely  = 0.01\n",
    "k1 = 1\n",
    "dtCourant = Courant(DA,DB,DC,velx,vely,dx,dy) / 10.\n",
    "name  = 'THREE-3b-'\n",
    "\n",
    "X,Y,dx,dy = create_mesh(xmin,xmax,ymin,ymax,nx,ny)\n",
    "A,B,C,Vx,Vy,Vabs = init_fields(X,Y,velx,vely,nx,ny,shake=0.1)\n",
    "A,B = inject_fields(A,B)\n",
    "plot_fields(X,Y,A,B,C,Vx,Vy,Vabs,name+f\"{0:04}.png\")\n",
    "advance_field(X,Y,A,B,C,Vx,Vy,DA,DB,DC,lambA,lambB,lambC,k1,dtCourant,tmax,dx,dy)"
   ]
  },
  {
   "cell_type": "markdown",
   "metadata": {},
   "source": [
    "### 4\n",
    "Two opposing velocities"
   ]
  },
  {
   "cell_type": "code",
   "execution_count": null,
   "metadata": {},
   "outputs": [],
   "source": [
    "def init_fields(X,Y,velx,vely,nx,ny,shake=0.):\n",
    "    # concentrations A,B,C\n",
    "    A = np.zeros(nx*ny).reshape(ny,nx)\n",
    "    B = np.zeros(nx*ny).reshape(ny,nx)\n",
    "    C = np.zeros(nx*ny).reshape(ny,nx)\n",
    "    A = (1-shake)*A + shake * np.random.random((ny,nx))\n",
    "    B = (1-shake)*B + shake * np.random.random((ny,nx))\n",
    "    # velocity\n",
    "    Vx = np.ones(nx*ny).reshape(ny,nx)\n",
    "    Vy = np.ones(nx*ny).reshape(ny,nx)\n",
    "    Vx = velx*Vx\n",
    "    Vy = vely*Vy\n",
    "    Vx = np.where(X<=5,velx,-velx)\n",
    "    Vabs = np.sqrt(Vx**2 + Vy**2)\n",
    "    return A,B,C,Vx,Vy,Vabs"
   ]
  },
  {
   "cell_type": "code",
   "execution_count": null,
   "metadata": {},
   "outputs": [],
   "source": [
    "def inject_fields(A,B):\n",
    "    A[10:13,1:5] = 1.\n",
    "    B[10:13,-5:-1] = 1.\n",
    "    return A,B"
   ]
  },
  {
   "cell_type": "code",
   "execution_count": null,
   "metadata": {},
   "outputs": [],
   "source": [
    "DA = 5e-3; DB = 5e-3; DC = 1e-3\n",
    "velx  = 0.1; vely  = 0.\n",
    "k1 = 100\n",
    "name  = 'THREE-4a-'\n",
    "\n",
    "X,Y,dx,dy = create_mesh(xmin,xmax,ymin,ymax,nx,ny)\n",
    "A,B,C,Vx,Vy,Vabs = init_fields(X,Y,velx,vely,nx,ny,shake=0.1)\n",
    "A,B = inject_fields(A,B)\n",
    "plot_fields(X,Y,A,B,C,Vx,Vy,Vabs,name+f\"{0:04}.png\")\n",
    "advance_field(X,Y,A,B,C,Vx,Vy,DA,DB,DC,lambA,lambB,lambC,k1,dt,tmax,dx,dy)"
   ]
  },
  {
   "cell_type": "markdown",
   "metadata": {},
   "source": [
    "... done"
   ]
  }
 ],
 "metadata": {
  "kernelspec": {
   "display_name": "Python 3 (ipykernel)",
   "language": "python",
   "name": "python3"
  },
  "language_info": {
   "codemirror_mode": {
    "name": "ipython",
    "version": 3
   },
   "file_extension": ".py",
   "mimetype": "text/x-python",
   "name": "python",
   "nbconvert_exporter": "python",
   "pygments_lexer": "ipython3",
   "version": "3.11.3"
  }
 },
 "nbformat": 4,
 "nbformat_minor": 4
}
