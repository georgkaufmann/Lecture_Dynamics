{
 "cells": [
  {
   "cell_type": "markdown",
   "id": "3fd06a18",
   "metadata": {},
   "source": [
    "<table>\n",
    "<tr><td><img style=\"height: 150px;\" src=\"images/geo_hydro1.jpg\"></td>\n",
    "<td bgcolor=\"#FFFFFF\">\n",
    "    <p style=\"font-size: xx-large; font-weight: 900; line-height: 100%\">AG Dynamics of the Earth</p>\n",
    "    <p style=\"font-size: large; color: rgba(0,0,0,0.5);\">Jupyter notebooks</p>\n",
    "    <p style=\"font-size: large; color: rgba(0,0,0,0.5);\">Georg Kaufmann</p>\n",
    "    </td>\n",
    "</tr>\n",
    "</table>"
   ]
  },
  {
   "cell_type": "markdown",
   "id": "8ebec8bf",
   "metadata": {},
   "source": [
    "# Dynamic systems: 2. Flux\n",
    "## Simple tank\n",
    "----\n",
    "*Georg Kaufmann,\n",
    "Geophysics Section,\n",
    "Institute of Geological Sciences,\n",
    "Freie Universität Berlin,\n",
    "Germany*\n",
    "\n",
    "This notebook compiles recharge and discahrge data from the Blautopf catchment in the Swabian Alb."
   ]
  },
  {
   "cell_type": "code",
   "execution_count": 1,
   "id": "470dbd46",
   "metadata": {},
   "outputs": [],
   "source": [
    "import numpy as np\n",
    "import matplotlib.pyplot as plt\n",
    "import datetime"
   ]
  },
  {
   "cell_type": "markdown",
   "id": "b83804ed",
   "metadata": {},
   "source": [
    "----\n",
    "## Tank geometry\n",
    "\n",
    "<img style=\"height: 250px;\" src=\"images/tank.jpg\">\n",
    "\n",
    "We define a **tank** with height $\\Delta h=h_1-h_2$ [m] and cross section $A_{catch}$ [m$^2$],\n",
    "which will be filled with a recharge rate $Q_{in}$ [m$^3$/s].\n",
    "\n",
    "\n",
    "Along the right side, the tank is drained via a small outlet pipe with cross section $A_{pipe}$ [m$^2$],\n",
    "thus water leaves the tank with an outflow rate $Q_{out}$ [m$^3$/s].\n",
    "\n",
    "In a first step, we will fill the tank using a **precipitation rate** $N(=v_{in})$ [mm/yr], \n",
    "accululated over a **time period** $\\Delta t$."
   ]
  },
  {
   "cell_type": "markdown",
   "id": "ddc4873d",
   "metadata": {},
   "source": [
    "----\n",
    "## Reading data\n",
    "Read precipitation data from Merklingen station."
   ]
  },
  {
   "cell_type": "code",
   "execution_count": 2,
   "id": "4f1e3e0c",
   "metadata": {},
   "outputs": [],
   "source": [
    "Merklingen_N = np.loadtxt('data/Merklingen2020_recharge_N.x')\n",
    "N_times = []\n",
    "for i in range(Merklingen_N.shape[0]):\n",
    "    yyyy = str(Merklingen_N[i,0])[0:4]\n",
    "    mm   = str(Merklingen_N[i,0])[4:6]\n",
    "    dd   = str(Merklingen_N[i,0])[6:8]\n",
    "    hh   = str(Merklingen_N[i,0])[8:10]\n",
    "    N_times.append(datetime.datetime(int(yyyy),int(mm),int(dd),int(hh),0))"
   ]
  },
  {
   "cell_type": "code",
   "execution_count": 3,
   "id": "586ec91b",
   "metadata": {},
   "outputs": [
    {
     "name": "stdout",
     "output_type": "stream",
     "text": [
      "Annual precipitation N[mm/yr]:  664.7\n"
     ]
    }
   ],
   "source": [
    "print('Annual precipitation N[mm/yr]: ',Merklingen_N[:,1].sum())"
   ]
  },
  {
   "cell_type": "markdown",
   "id": "fe6ddcea",
   "metadata": {},
   "source": [
    "----\n",
    "## Filling the tank (no outflow)\n",
    "\n",
    "We define the **precipitation rate** $v_{in}$ [mm/d], and a **catchment area** $A_{catch}$ [m$^2$].\n",
    "\n",
    "Multiplying precipitation rate and catchment area gives the flow into the tank, $Q_{in}$ [m$^3$/s]:\n",
    "$$\n",
    "Q_{in} = v_{in} A_{catch}\n",
    "$$\n",
    "\n",
    "The change in volume $V$ [m$^3$] of the tank is given  by:\n",
    "$$\n",
    "\\frac{dV}{dt} = Q_{in} - Q_{out}\n",
    "$$\n",
    "with $t$ [s] time and $Q_{out}$ [m$^3$/s] the outflow rate.\n",
    "\n",
    "The volume itself for a cylindrical tank is catchment area $A_{catch}$ times **fill height** $h$ [m]:\n",
    "$$\n",
    "V = A_{catch} h\n",
    "$$\n",
    "\n",
    "Combining these three equations and neglecting outflow ($Q_{out}=0$), we obtain a \n",
    "differential equation of first orer for the fill height:\n",
    "$$\\fbox{$\n",
    "\\frac{dh}{dt} = v_{in}\n",
    "$}$$\n",
    "Integration the differential equation, we obtain fill height as a function of time:\n",
    "$$\n",
    "h(t) = \\int_{0}^{t} v_{in} dt\n",
    "$$\n"
   ]
  },
  {
   "cell_type": "code",
   "execution_count": 4,
   "id": "3e01c70a",
   "metadata": {},
   "outputs": [
    {
     "data": {
      "text/plain": [
       "[<matplotlib.lines.Line2D at 0x13d0484c0>]"
      ]
     },
     "execution_count": 4,
     "metadata": {},
     "output_type": "execute_result"
    },
    {
     "data": {
      "image/png": "[encoded data removed]",
      "text/plain": [
       "<Figure size 864x432 with 1 Axes>"
      ]
     },
     "metadata": {
      "needs_background": "light"
     },
     "output_type": "display_data"
    }
   ],
   "source": [
    "Qin = [0]\n",
    "dt  = 1. # hour\n",
    "for i in range(1,Merklingen_N.shape[0]):\n",
    "    Qin.append(Qin[i-1]+Merklingen_N[i,1]/100*dt)\n",
    "    \n",
    "plt.figure(figsize=(12,6))\n",
    "plt.xlabel('Time')\n",
    "plt.ylabel('h [m]')\n",
    "plt.plot(N_times,Qin,linewidth=2,color='blue',label='$Q_{in}$')"
   ]
  },
  {
   "cell_type": "markdown",
   "id": "77b3a48c",
   "metadata": {},
   "source": [
    "----\n",
    "## Draining the tank (no inflow)\n",
    "\n",
    "Next, we drain the tank with a given outflow rate $Q_{out}$ [m$^3$/s] through a pipe at the bottom\n",
    "of the tank, which has a diameter $A_{pipe}$ [m$^2$].\n",
    "\n",
    "The volume change in the tank is then given as ($Q_{in}=0$):\n",
    "$$\n",
    "\\frac{dV}{dt} = - Q_{out} = - v_{out} A_{pipe}\n",
    "$$\n",
    "\n",
    "As before, the volume of the tank is given as\n",
    "$$\n",
    "V = A_{catch} h\n",
    "$$\n",
    "\n",
    "Then, combining the two equations, the change in water height is given as:\n",
    "$$\\fbox{$\n",
    "\\frac{dh}{dt} = - \\frac{A_{pipe}}{A_{catch}} v_{out}\n",
    "$}$$\n",
    "\n",
    "To estimate $v_{out}$, we need to look at the **energy balance** for the tank, which leads us to the ..."
   ]
  },
  {
   "cell_type": "markdown",
   "id": "2b562044",
   "metadata": {},
   "source": [
    "[Bernoulli equation ->](Dynamics_lab02_bernoulli.ipynb)"
   ]
  },
  {
   "cell_type": "markdown",
   "id": "378d332f",
   "metadata": {},
   "source": [
    "... done"
   ]
  }
 ],
 "metadata": {
  "kernelspec": {
   "display_name": "Python 3 (ipykernel)",
   "language": "python",
   "name": "python3"
  },
  "language_info": {
   "codemirror_mode": {
    "name": "ipython",
    "version": 3
   },
   "file_extension": ".py",
   "mimetype": "text/x-python",
   "name": "python",
   "nbconvert_exporter": "python",
   "pygments_lexer": "ipython3",
   "version": "3.9.6"
  }
 },
 "nbformat": 4,
 "nbformat_minor": 5
}
