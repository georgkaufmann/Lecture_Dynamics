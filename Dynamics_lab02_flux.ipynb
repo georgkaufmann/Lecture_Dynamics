{
 "cells": [
  {
   "cell_type": "markdown",
   "metadata": {},
   "source": [
    "<table>\n",
    "<tr><td><img style=\"height: 150px;\" src=\"images/geo_hydro1.jpg\"></td>\n",
    "<td bgcolor=\"#FFFFFF\">\n",
    "    <p style=\"font-size: xx-large; font-weight: 900; line-height: 100%\">AG Dynamics of the Earth</p>\n",
    "    <p style=\"font-size: large; color: rgba(0,0,0,0.5);\">Jupyter notebooks</p>\n",
    "    <p style=\"font-size: large; color: rgba(0,0,0,0.5);\">Georg Kaufmann</p>\n",
    "    </td>\n",
    "</tr>\n",
    "</table>"
   ]
  },
  {
   "cell_type": "markdown",
   "metadata": {},
   "source": [
    "# Dynamic systems: 2. Flux\n",
    "## Flux-rate laws\n",
    "----\n",
    "*Georg Kaufmann,\n",
    "Geophysics Section,\n",
    "Institute of Geological Sciences,\n",
    "Freie Universität Berlin,\n",
    "Germany*"
   ]
  },
  {
   "cell_type": "markdown",
   "metadata": {},
   "source": [
    "----\n",
    "## Flux\n",
    "\n",
    "A **flux** is a quantity, which moves with a certain velocity through a certain area. \n",
    "The quantity can be anything, from a mass, a fluid, an electron, a photon, or a substance.\n",
    "\n",
    "We determine flux by observing its movement through a reference surface. Thus\n",
    "the unit of a flux $\\vec{F}$is always quantity per time per reference area,\n",
    "[quantity/m2/s].\n",
    "\n",
    "<img src=\"images/Flux.jpg\">\n",
    "\n",
    "Often fluxes are defined as a **flux vector** $\\vec{F}$, \n",
    "derived as spatial derivative of a **scalar quantity** $Q$.\n",
    "\n",
    "$$\\fbox{$\n",
    "\\vec{F} = -K \\nabla Q\n",
    "$}$$\n",
    "with $Q$ [unit] field flowing (e.g. temperature, mass, charge, ...), \n",
    "$K$ [W/m/K] the thermal conductivity,\n",
    "$\\vec{F}$ [quantity/m$^2$/s] the flux, and\n",
    "$\\nabla$ [1/m] the Nabla operator. "
   ]
  },
  {
   "cell_type": "markdown",
   "metadata": {},
   "source": [
    "----\n",
    "We will discuss flux equations for:\n",
    "\n",
    "- **Water flow**\n",
    "- **Heat flux**\n",
    "- **Current flow**\n",
    "- **Particle flow**"
   ]
  },
  {
   "cell_type": "markdown",
   "metadata": {},
   "source": [
    "... done"
   ]
  }
 ],
 "metadata": {
  "kernelspec": {
   "display_name": "Python 3 (ipykernel)",
   "language": "python",
   "name": "python3"
  },
  "language_info": {
   "codemirror_mode": {
    "name": "ipython",
    "version": 3
   },
   "file_extension": ".py",
   "mimetype": "text/x-python",
   "name": "python",
   "nbconvert_exporter": "python",
   "pygments_lexer": "ipython3",
   "version": "3.11.3"
  }
 },
 "nbformat": 4,
 "nbformat_minor": 4
}
