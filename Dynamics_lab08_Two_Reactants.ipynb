{
 "cells": [
  {
   "cell_type": "markdown",
   "metadata": {},
   "source": [
    "<table>\n",
    "<tr><td><img style=\"height: 150px;\" src=\"images/geo_hydro1.jpg\"></td>\n",
    "<td bgcolor=\"#FFFFFF\">\n",
    "    <p style=\"font-size: xx-large; font-weight: 900; line-height: 100%\">AG Dynamics of the Earth</p>\n",
    "    <p style=\"font-size: large; color: rgba(0,0,0,0.5);\">Jupyter notebooks</p>\n",
    "    <p style=\"font-size: large; color: rgba(0,0,0,0.5);\">Georg Kaufmann</p>\n",
    "    </td>\n",
    "</tr>\n",
    "</table>"
   ]
  },
  {
   "cell_type": "markdown",
   "metadata": {},
   "source": [
    "# Dynamic systems: 8. Reactions\n",
    "## Two reactants\n",
    "----\n",
    "*Georg Kaufmann,\n",
    "Geophysics Section,\n",
    "Institute of Geological Sciences,\n",
    "Freie Universität Berlin,\n",
    "Germany*"
   ]
  },
  {
   "cell_type": "markdown",
   "metadata": {},
   "source": [
    "----\n",
    "In this notebook, we solve the continuity equation for **two reactants** with terms for:\n",
    "- advection\n",
    "- diffusion\n",
    "- reaction\n",
    "- source-sink"
   ]
  },
  {
   "cell_type": "markdown",
   "metadata": {},
   "source": [
    "----\n",
    "## 2D advection-diffusion-reaction equation\n",
    "\n",
    "Check the interesting pages from [Karl Sims](http://www.karlsims.com/rd.html)\n",
    "and [Robert Munafo](http://mrob.com/pub/comp/xmorphia).\n",
    "\n",
    "We consider the transport equations for species $A$ and $B$:\n",
    "$$\n",
    "\\begin{array}{rcl}\n",
    "\\frac{\\partial A}{\\partial t}\n",
    "+ \\vec{u} \\cdot \\nabla A\n",
    "- \\nabla \\cdot (D \\nabla A) \n",
    "&=& f_A - k_1 A B - \\lambda_A A \\\\\n",
    "\\frac{\\partial B}{\\partial t}\n",
    "+ \\vec{u} \\cdot \\nabla B\n",
    "- \\nabla \\cdot (D \\nabla B)\n",
    "&=& f_B + k_1 A B - \\lambda_B B \n",
    "\\end{array}\n",
    "$$\n",
    "\n",
    "We rewrite the transport equation into a finite difference scheme with explicit time\n",
    "integration, using $\\frac{\\partial A}{\\partial t}=\\frac{A(t_{i+1})-A(t_i)}{\\Delta t}$:\n",
    "$$\n",
    "\\begin{array}{rcl}\n",
    "A(t_{i+1}) = A(t_i) +\n",
    "\\left[\n",
    "- \\vec{u} \\cdot \\nabla A\n",
    "+ \\nabla \\cdot (D \\nabla A)\n",
    "+ f_A - k_1 A B\n",
    "- \\lambda_A A\n",
    "\\right] \\Delta t \\\\\n",
    "B(t_{i+1}) = B(t_i) +\n",
    "\\left[\n",
    "- \\vec{u} \\cdot \\nabla B\n",
    "+ \\nabla \\cdot (D \\nabla B)\n",
    "+ f_B + k_1 A B\n",
    "- \\lambda_B B\n",
    "\\right] \\Delta t\n",
    "\\end{array}\n",
    "$$\n",
    "In the square brackets, we have the **advection term**, the **diffusion term**,\n",
    "a **source-sink term**, and a **reaction term**.\n",
    "\n",
    "### Reaction\n",
    "\n",
    "We use for the two reactant exercise a special reaction, known as the **Gray-Scott model**.\n",
    "\n",
    "One part of $A$ reacts with two parts of $B$ to form three parts of $B$:\n",
    "$$\n",
    "A B B \\stackrel{k_1}{<->} B B B\n",
    "$$\n",
    "Reformulated as differential equation:\n",
    "$$\n",
    "\\frac{dB}{dt} = k_1 A B B\n",
    "$$\n",
    "We set $k_1=1$."
   ]
  },
  {
   "cell_type": "code",
   "execution_count": null,
   "metadata": {},
   "outputs": [],
   "source": [
    "import numpy as np\n",
    "import matplotlib.pyplot as plt"
   ]
  },
  {
   "cell_type": "markdown",
   "metadata": {},
   "source": [
    "## Set parameter values"
   ]
  },
  {
   "cell_type": "markdown",
   "metadata": {},
   "source": [
    "## Create mesh"
   ]
  },
  {
   "cell_type": "code",
   "execution_count": null,
   "metadata": {},
   "outputs": [],
   "source": [
    "def create_mesh(xmin,xmax,ymin,ymax,nx=11,ny=11):\n",
    "    x = np.linspace(xmin,xmax,nx)\n",
    "    y = np.linspace(ymin,ymax,ny)\n",
    "    dx = x[1]-x[0]\n",
    "    dy = y[1]-y[0]\n",
    "    X,Y = np.meshgrid(x,y)\n",
    "    return X,Y,dx,dy"
   ]
  },
  {
   "cell_type": "markdown",
   "metadata": {},
   "source": [
    "## Initialize field values"
   ]
  },
  {
   "cell_type": "code",
   "execution_count": null,
   "metadata": {},
   "outputs": [],
   "source": [
    "def init_fields(X,Y,velx,vely,nx,ny,shake=0.):\n",
    "    # concentration A\n",
    "    A = np.ones(nx*ny).reshape(ny,nx)\n",
    "    B = np.zeros(nx*ny).reshape(ny,nx)\n",
    "    A = (1-shake)*A + shake * np.random.random((ny,nx))\n",
    "    B = (1-shake)*B + shake * np.random.random((ny,nx))\n",
    "    xc = (X.min()+X.max()) / 2\n",
    "    yc = (Y.min()+Y.max()) / 2\n",
    "    rc = 10.\n",
    "    print(xc,yc,rc)\n",
    "    for i in range(ny):\n",
    "        for j in range(nx):\n",
    "            dist = np.sqrt((X[i,j]-xc)**2 + (Y[i,j]-yc)**2)\n",
    "            if (dist <= rc):\n",
    "                A[i,j] = 0.50\n",
    "                B[i,j] = 0.25\n",
    "    # velocity\n",
    "    Vx = np.ones(nx*ny).reshape(ny,nx)\n",
    "    Vy = np.ones(nx*ny).reshape(ny,nx)\n",
    "    Vx = velx*Vx\n",
    "    Vy = vely*Vy\n",
    "    Vabs = np.sqrt(Vx**2 + Vy**2)\n",
    "    return A,B,Vx,Vy,Vabs"
   ]
  },
  {
   "cell_type": "code",
   "execution_count": null,
   "metadata": {},
   "outputs": [],
   "source": [
    "def plot_fields(X,Y,A,B,Vx,Vy,Vabs,filename):\n",
    "    fig, axs = plt.subplots(2,1,figsize=(8,10))\n",
    "    \n",
    "    v = np.linspace(0.0, 1.0, 11, endpoint=True)\n",
    "    #plt.contour(xi, yi, zi, v, linewidths=0.5, colors='k')\n",
    "    #plt.contourf(xi, yi, zi, v, cmap=plt.cm.jet)\n",
    "    #x = plt.colorbar(ticks=v)\n",
    "\n",
    "    axs[0].set_xlim([xmin,xmax])\n",
    "    axs[0].set_ylim([ymin,ymax])\n",
    "    CS0=axs[0].contourf(X,Y,A,v, cmap=plt.cm.jet_r)\n",
    "    axs[0].quiver(X,Y,Vx/Vabs,Vy/Vabs,Vabs,alpha=0.2,width=0.002,scale=150,pivot=\"middle\")\n",
    "    axs[0].quiver(X,Y,Vx/Vabs,Vy/Vabs, alpha=0.2,edgecolor='k', facecolor='None', \n",
    "              linewidth=.5,width=0.002,scale=150,pivot=\"middle\")\n",
    "    cbar = fig.colorbar(CS0,ax=axs[0],orientation=\"vertical\",shrink=0.9)\n",
    "    cbar.ax.set_ylabel('A [mol/m$^3$]')\n",
    "    \n",
    "    CS1=axs[1].contourf(X,Y,B,v, cmap=plt.cm.jet_r)\n",
    "    cbar = fig.colorbar(CS1,ax=axs[1],orientation=\"vertical\",shrink=0.9)\n",
    "    cbar.ax.set_ylabel('B [mol/m$^3$]')\n",
    "    \n",
    "    axs[0].set_title('A')\n",
    "    axs[1].set_title('B')\n",
    "    #axs[0].axis('off')\n",
    "    #axs[1].axis('off')\n",
    "    plt.savefig('lab08/'+filename,dpi=300)\n",
    "    plt.close()"
   ]
  },
  {
   "cell_type": "markdown",
   "metadata": {},
   "source": [
    "## Define differential operators as finite-difference operators"
   ]
  },
  {
   "cell_type": "code",
   "execution_count": null,
   "metadata": {},
   "outputs": [],
   "source": [
    "def diffusion_old(A,dx,dy):\n",
    "    L = 0.*A\n",
    "    for i in range(1,A.shape[0]-1):\n",
    "        for j in range(1,A.shape[1]-1):\n",
    "            L[i,j] = (A[i+1,j]+A[i-1,j]+A[i,j+1]+A[i,j-1]-4*A[i,j]) / (dx*dy)\n",
    "    return L\n",
    "\n",
    "def advection_old(A,Vx,Vy,dx,dy):\n",
    "    L = 0.*A\n",
    "    for i in range(1,A.shape[0]-1):\n",
    "        for j in range(1,A.shape[1]-1):\n",
    "            grady = (A[i+1,j]-A[i-1,j]) / (2*dy)\n",
    "            gradx = (A[i,j+1]-A[i,j-1]) / (2*dx)\n",
    "            L[i,j] = Vx[i,j]*gradx + Vy[i,j]*grady\n",
    "    return L"
   ]
  },
  {
   "cell_type": "code",
   "execution_count": null,
   "metadata": {},
   "outputs": [],
   "source": [
    "def diffusion(M,dx,dy):\n",
    "    \"\"\"L = nabla^2 M\"\"\"\n",
    "    L = -4*M\n",
    "    L += np.roll(M, (0,-1), (0,1)) # right neighbor\n",
    "    L += np.roll(M, (0,+1), (0,1)) # left neighbor\n",
    "    L += np.roll(M, (-1,0), (0,1)) # top neighbor\n",
    "    L += np.roll(M, (+1,0), (0,1)) # bottom neighbor\n",
    "    L = L / (dx*dy)\n",
    "    return L\n",
    "\n",
    "def advection(M,Vx,Vy,dx,dy):\n",
    "    \"\"\"L = V*nabla M\"\"\"\n",
    "    gradx  = np.roll(M, (0,-1), (0,1)) # right neighbor\n",
    "    gradx -= np.roll(M, (0,+1), (0,1)) # left neighbor\n",
    "    gradx  = gradx / (2*dx)\n",
    "    grady  = np.roll(M, (-1,0), (0,1)) # top neighbor\n",
    "    grady -= np.roll(M, (+1,0), (0,1)) # bottom neighbor\n",
    "    grady  = grady / (2*dy)\n",
    "    L = Vx*gradx + Vy*grady\n",
    "    return L"
   ]
  },
  {
   "cell_type": "code",
   "execution_count": null,
   "metadata": {},
   "outputs": [],
   "source": [
    "def update_fields(A,B,Vx,Vy,DA,DB,lambA,lambB,f,k,dt,dx,dy):\n",
    "    nx = A.shape[0]\n",
    "    ny = A.shape[1]\n",
    "    # diffusion\n",
    "    laplacian = diffusion(A,dx,dy)\n",
    "    gradient  = advection(A,Vx,Vy,dx,dy)\n",
    "    # Now apply the update formula\n",
    "    diff_A = (-gradient + DA*laplacian - lambA*A - A*B**2 + f*(1-A)) * dt\n",
    "    # diffusion\n",
    "    laplacian = diffusion(B,dx,dy)\n",
    "    gradient  = advection(B,Vx,Vy,dx,dy)\n",
    "    # Now apply the update formula\n",
    "    diff_B = (-gradient + DB*laplacian - lambB*B + A*B**2 - (k+f)*B) * dt\n",
    "\n",
    "    A += diff_A\n",
    "    B += diff_B\n",
    "    #print(A.min(),A.max())\n",
    "\n",
    "    return A,B"
   ]
  },
  {
   "cell_type": "markdown",
   "metadata": {},
   "source": [
    "---- \n",
    "## Examples\n",
    "\n",
    "### 1"
   ]
  },
  {
   "cell_type": "code",
   "execution_count": null,
   "metadata": {
    "scrolled": false
   },
   "outputs": [],
   "source": [
    "xmin = 0. \n",
    "xmax = 200.\n",
    "ymin = 0. \n",
    "ymax = 200.\n",
    "nx   = 200\n",
    "ny   = 200\n",
    "DA   = 0.16\n",
    "DB   = 0.08\n",
    "lambA = 0.0\n",
    "lambB = 0.0\n",
    "f = 0.060\n",
    "k = 0.062\n",
    "velx = 0.0\n",
    "vely = 0.\n",
    "tmin = 0.\n",
    "tmax = 10000.\n",
    "dt   = 1.0\n",
    "name = 'TWO-1-'\n",
    "\n",
    "X,Y,dx,dy = create_mesh(xmin,xmax,ymin,ymax,nx,ny)\n",
    "A,B,Vx,Vy,Vabs = init_fields(X,Y,velx,vely,nx,ny,shake=0.2)\n",
    "#print(A.min(),A.max(),B.min(),B.max())\n",
    "plot_fields(X,Y,A,B,Vx,Vy,Vabs,name+f\"{0:04}.png\")\n",
    "time = 0.\n",
    "tsave = 0.\n",
    "twrite = 100.\n",
    "iwrite = 1\n",
    "while (time < tmax):\n",
    "    #print(time)\n",
    "    tsave = tsave + dt\n",
    "    time = time + dt\n",
    "    A,B = update_fields(A,B,Vx,Vy,DA,DB,lambA,lambB,f,k,dt,dx,dy)\n",
    "    if (tsave >= twrite):\n",
    "        tsave = 0.\n",
    "        print(time,tsave,twrite,A.min(),A.max(),np.sum(A))\n",
    "        plot_fields(X,Y,A,B,Vx,Vy,Vabs,name+f\"{iwrite:04}.png\")\n",
    "        iwrite = iwrite + 1"
   ]
  },
  {
   "cell_type": "markdown",
   "metadata": {},
   "source": [
    "### 2"
   ]
  },
  {
   "cell_type": "code",
   "execution_count": null,
   "metadata": {
    "scrolled": false
   },
   "outputs": [],
   "source": [
    "xmin = 0. \n",
    "xmax = 200.\n",
    "ymin = 0. \n",
    "ymax = 200.\n",
    "nx   = 200\n",
    "ny   = 200\n",
    "DA = 0.14\n",
    "DB = 0.06\n",
    "f = 0.035\n",
    "k = 0.065\n",
    "lambA = 0.0\n",
    "lambB = 0.0\n",
    "velx = 0.0\n",
    "vely = 0.\n",
    "tmin = 0.\n",
    "tmax = 10000.\n",
    "dt   = 1.0\n",
    "name = 'TWO-2-'\n",
    "\n",
    "X,Y,dx,dy = create_mesh(xmin,xmax,ymin,ymax,nx,ny)\n",
    "A,B,Vx,Vy,Vabs = init_fields(X,Y,velx,vely,nx,ny,shake=0.0)\n",
    "#print(A.min(),A.max(),B.min(),B.max())\n",
    "plot_fields(X,Y,A,B,Vx,Vy,Vabs,name+f\"{0:04}.png\")\n",
    "time = 0.\n",
    "tsave = 0.\n",
    "twrite = 100.\n",
    "iwrite = 1\n",
    "while (time < tmax):\n",
    "    #print(time)\n",
    "    tsave = tsave + dt\n",
    "    time = time + dt\n",
    "    A,B = update_fields(A,B,Vx,Vy,DA,DB,lambA,lambB,f,k,dt,dx,dy)\n",
    "    if (tsave >= twrite):\n",
    "        tsave = 0.\n",
    "        print(time,tsave,twrite,A.min(),A.max(),np.sum(A))\n",
    "        plot_fields(X,Y,A,B,Vx,Vy,Vabs,name+f\"{iwrite:04}.png\")\n",
    "        iwrite = iwrite + 1"
   ]
  },
  {
   "cell_type": "markdown",
   "metadata": {},
   "source": [
    "... done"
   ]
  }
 ],
 "metadata": {
  "kernelspec": {
   "display_name": "Python 3 (ipykernel)",
   "language": "python",
   "name": "python3"
  },
  "language_info": {
   "codemirror_mode": {
    "name": "ipython",
    "version": 3
   },
   "file_extension": ".py",
   "mimetype": "text/x-python",
   "name": "python",
   "nbconvert_exporter": "python",
   "pygments_lexer": "ipython3",
   "version": "3.9.6"
  }
 },
 "nbformat": 4,
 "nbformat_minor": 2
}
