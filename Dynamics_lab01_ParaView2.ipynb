{
 "cells": [
  {
   "cell_type": "markdown",
   "metadata": {},
   "source": [
    "<table>\n",
    "<tr><td><img style=\"height: 150px;\" src=\"images/geo_hydro1.jpg\"></td>\n",
    "<td bgcolor=\"#FFFFFF\">\n",
    "    <p style=\"font-size: xx-large; font-weight: 900; line-height: 100%\">AG Dynamics of the Earth</p>\n",
    "    <p style=\"font-size: large; color: rgba(0,0,0,0.5);\">Jupyter notebooks</p>\n",
    "    <p style=\"font-size: large; color: rgba(0,0,0,0.5);\">Georg Kaufmann</p>\n",
    "    </td>\n",
    "</tr>\n",
    "</table>"
   ]
  },
  {
   "cell_type": "markdown",
   "metadata": {},
   "source": [
    "# Dynamic systems: 1. Introduction \n",
    "# ParaView: spheres\n",
    "----\n",
    "*Georg Kaufmann,\n",
    "Geophysics Section,\n",
    "Institute of Geological Sciences,\n",
    "Freie Universität Berlin,\n",
    "Germany*"
   ]
  },
  {
   "cell_type": "code",
   "execution_count": 13,
   "metadata": {
    "tags": []
   },
   "outputs": [],
   "source": [
    "import numpy as np\n",
    "import matplotlib.pyplot as plt"
   ]
  },
  {
   "cell_type": "markdown",
   "metadata": {},
   "source": [
    "`ParaView` is an open-source, multi-platform data analysis and visualization application.\n",
    "\n",
    "It is a very powerful tool to **visualize** and **analyse** data structure in three dimensions.\n",
    "\n",
    "You need to install `ParaView` for your system from the [ParaView web site](https://www.paraview.org)."
   ]
  },
  {
   "cell_type": "markdown",
   "metadata": {},
   "source": [
    "----\n",
    "## Data structure for sphere\n",
    "\n",
    "We use the `quad` element from the **vtk legacy format** \n",
    "[see also](https://vtk.org/wp-content/uploads/2015/04/file-formats.pdf).\n",
    "\n",
    "We want to create a simple **sphere** with center $(x_m,y_m,z_m)$ and radius $r$:\n",
    "\n",
    "For plotting a nice sphere, we need to dissect the surface of the the sphere into\n",
    "**facets**  both in **latitudinal** and in **longitudinal** direction.\n",
    "\n",
    "We use $n$ and $m$ as counter for the directions. Thus $n=3,m=2$ means to\n",
    "points in latitudinal and 3 points in longitudinal direction.\n",
    "\n",
    "<img src=\"images/sphereForParaview.jpg\">\n",
    "\n",
    "We use **spherical coordinates** to address each corner of each facets.\n",
    "$$\n",
    "\\begin{array}{rcl}\n",
    "x &=& x_m + r \\cos(u) \\sin(v) \\\\\n",
    "y &=& y_m + r \\sin(u) \\sin(v) \\\\\n",
    "z &=& z_m + r \\cos(v)\n",
    "\\end{array}\n",
    "$$                "
   ]
  },
  {
   "cell_type": "code",
   "execution_count": 14,
   "metadata": {
    "tags": []
   },
   "outputs": [],
   "source": [
    "def VTKspheres(xm,ym,zm,rad,color,n=6,m=6,filename='3Dsphere.vtk'):\n",
    "    \"\"\"\n",
    "    plot spheres in VTK legacy format\n",
    "    \"\"\"\n",
    "    # get number of spheres\n",
    "    nspheres = xm.shape[0]\n",
    "    # direcretisation\n",
    "    \n",
    "    # open VTK file\n",
    "    f = open(filename,'w')\n",
    "    # n facets in latitude direction\n",
    "    # m facets in longitude direction\n",
    "    # n*m facets together, each with four nodes\n",
    "    # element is quader (CELL_TYPES: 9)\n",
    "    header  = '# vtk DataFile Version 2.0\\n'\n",
    "    header += '3D sphere\\n'\n",
    "    header += 'ASCII\\n'\n",
    "    header += '  \\n'\n",
    "    header += 'DATASET UNSTRUCTURED_GRID\\n'\n",
    "    print(header,file=f)\n",
    "    # collect vertices\n",
    "    print('POINTS '+str(4*m*n*nspheres)+' float',file=f)\n",
    "    x = np.zeros(4);y=np.zeros(4);z=np.zeros(4)\n",
    "    for isphere in range(nspheres):\n",
    "        for i in range(m):\n",
    "            v  = float(i)/float(m)*np.pi\n",
    "            v1 = float(i+1)/float(m)*np.pi\n",
    "            for j in range(n):\n",
    "                u  = float(j)/float(n)*2*np.pi\n",
    "                u1 = float(j+1)/float(n)*2*np.pi\n",
    "                x[0]= xm[isphere] + rad[isphere]*np.cos(u )*np.sin(v )\n",
    "                y[0]= ym[isphere] + rad[isphere]*np.sin(u )*np.sin(v )\n",
    "                z[0]= zm[isphere] + rad[isphere]*np.cos(v )\n",
    "                x[1]= xm[isphere] + rad[isphere]*np.cos(u )*np.sin(v1)\n",
    "                y[1]= ym[isphere] + rad[isphere]*np.sin(u )*np.sin(v1)\n",
    "                z[1]= zm[isphere] + rad[isphere]*np.cos(v1)\n",
    "                x[2]= xm[isphere] + rad[isphere]*np.cos(u1)*np.sin(v1)\n",
    "                y[2]= ym[isphere] + rad[isphere]*np.sin(u1)*np.sin(v1)\n",
    "                z[2]= zm[isphere] + rad[isphere]*np.cos(v1)\n",
    "                x[3]= xm[isphere] + rad[isphere]*np.cos(u1)*np.sin(v )\n",
    "                y[3]= ym[isphere] + rad[isphere]*np.sin(u1)*np.sin(v )\n",
    "                z[3]= zm[isphere] + rad[isphere]*np.cos(v )\n",
    "                for k in range(4):\n",
    "                    print(x[k],y[k],z[k],file=f)\n",
    "\n",
    "    print('CELLS ',n*m*nspheres,5*n*m*nspheres,file=f)\n",
    "    for i in range(n*m*nspheres):\n",
    "        ishift = 4*i\n",
    "        print(4,0+ishift,1+ishift,2+ishift,3+ishift,file=f)        \n",
    "\n",
    "    print('CELL_TYPES ',n*m*nspheres,file=f)\n",
    "    for i in range(n*m*nspheres):\n",
    "        print(9,file=f)\n",
    "\n",
    "    print('POINT_DATA ',4*n*m*nspheres,file=f)\n",
    "    print('SCALARS buildings float',file=f)\n",
    "    print('LOOKUP_TABLE default',file=f)\n",
    "    for isphere in range(nspheres):\n",
    "        for i in range(4*n*m):\n",
    "            print(color[isphere],file=f)\n",
    "\n",
    "    f.close()\n",
    "    print('File written: ',filename)\n",
    "    return"
   ]
  },
  {
   "cell_type": "code",
   "execution_count": 16,
   "metadata": {
    "tags": []
   },
   "outputs": [
    {
     "name": "stdout",
     "output_type": "stream",
     "text": [
      "File written:  3Dsphere.vtk\n"
     ]
    }
   ],
   "source": [
    "xm  = np.array([0.,5.])\n",
    "ym  = np.array([2.,5.])\n",
    "zm  = np.array([0.,-2.])\n",
    "rad = np.array([1.,2.])\n",
    "color = np.array([1,2],dtype='int')\n",
    "VTKspheres(xm,ym,zm,rad,color,n=8,m=8)"
   ]
  },
  {
   "cell_type": "markdown",
   "metadata": {},
   "source": [
    "Loading the file `3Dsphere.vtk`into `ParaView` should then result in:\n",
    "<img style=\"width: 700px;\" src=\"images/ParaView2.png\">"
   ]
  },
  {
   "cell_type": "markdown",
   "metadata": {},
   "source": [
    "**Play** with the cube data:\n",
    "\n",
    "- rotate, zoom\n",
    "- show grid\n",
    "- add axes\n",
    "- Add transparency\n",
    "- change color table\n",
    "- beautify color table\n",
    "\n",
    "**Modify** the cube data:\n",
    "\n",
    "- Add the missing sides of the cube\n",
    "- replace some of the rectangle elements (9) to triangular elements (5).\n",
    "- Build something new ..."
   ]
  },
  {
   "cell_type": "markdown",
   "metadata": {},
   "source": [
    "... done"
   ]
  }
 ],
 "metadata": {
  "kernelspec": {
   "display_name": "Python 3 (ipykernel)",
   "language": "python",
   "name": "python3"
  },
  "language_info": {
   "codemirror_mode": {
    "name": "ipython",
    "version": 3
   },
   "file_extension": ".py",
   "mimetype": "text/x-python",
   "name": "python",
   "nbconvert_exporter": "python",
   "pygments_lexer": "ipython3",
   "version": "3.11.3"
  }
 },
 "nbformat": 4,
 "nbformat_minor": 4
}
