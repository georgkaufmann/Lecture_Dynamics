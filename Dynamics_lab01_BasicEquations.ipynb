{
 "cells": [
  {
   "cell_type": "markdown",
   "metadata": {},
   "source": [
    "<table>\n",
    "<tr><td><img style=\"height: 150px;\" src=\"images/geo_hydro1.jpg\"></td>\n",
    "<td bgcolor=\"#FFFFFF\">\n",
    "    <p style=\"font-size: xx-large; font-weight: 900; line-height: 100%\">AG Dynamics of the Earth</p>\n",
    "    <p style=\"font-size: large; color: rgba(0,0,0,0.5);\">Jupyter notebooks</p>\n",
    "    <p style=\"font-size: large; color: rgba(0,0,0,0.5);\">Georg Kaufmann</p>\n",
    "    </td>\n",
    "</tr>\n",
    "</table>"
   ]
  },
  {
   "cell_type": "markdown",
   "metadata": {},
   "source": [
    "# Dynamic systems: 1. Introduction\n",
    "## Basic equations\n",
    "----\n",
    "*Georg Kaufmann,\n",
    "Geophysics Section,\n",
    "Institute of Geological Sciences,\n",
    "Freie Universität Berlin,\n",
    "Germany*\n",
    "\n",
    "This notebook is a summary of all relevant equations we will derive and use in this lecture.\n",
    "It is a sort of spoiler, but you can use it later for a quick overview ..."
   ]
  },
  {
   "cell_type": "markdown",
   "metadata": {},
   "source": [
    "----\n",
    "## Flux\n",
    "\n",
    "A **flux** is a quantity, which moves with a certain velocity through a certain area. \n",
    "The quantity can be anything, from a mass, a fluid, an electron, a photon, or a substance.\n",
    "\n",
    "We determine flux by observing its movement through a reference surface. Thus\n",
    "the unit of a flux is always quantity per time per reference area,\n",
    "[quantity/m2/s].\n",
    "\n",
    "Often fluxes are defined as a **flux vector**, derived as spatial derivative of a **scalar quantity**.\n",
    "\n",
    "We collect different flux equations:\n",
    "\n",
    "- **Heat flux**\n",
    "$$\\fbox{$\n",
    "\\vec{F} = -K_t \\nabla T\n",
    "$}$$\n",
    "with:\n",
    "- $T$ [K] temperature, \n",
    "- $K_t$ [W/m/K] the thermal conductivity,\n",
    "- $\\vec{F}$ [W/m$^2$=J/m$^2$/s] the heat flux, and\n",
    "- $\\nabla$ [1/m] the Nabla operator. "
   ]
  },
  {
   "cell_type": "markdown",
   "metadata": {},
   "source": [
    "----\n",
    "## Continuity\n",
    "\n",
    "The **continuity equation** describes the flux of a quantity through a medium, e.g. for **temperature** $T$:\n",
    "$$\\fbox{$\n",
    "\\rho c_p \\frac{\\partial T}{\\partial t} + \\rho c_p \\vec{u} \\cdot \\nabla T  = - \\nabla \\cdot \\vec{F} + H^*\n",
    "$}$$\n",
    "with: \n",
    "- $\\rho$ [kg/m$^3$] density,\n",
    "- $c_p$ [W/m$^3$] specific heat,\n",
    "- $T$ [K] temperature,\n",
    "- $t$ [s] time,\n",
    "- $\\vec{u}$ [m/s] velocity,\n",
    "- $\\nabla$ [1/m] Nabla operator,\n",
    "- $\\vec{F}$ [W/m$^2$=J/m$^2$/s] heat flux, and\n",
    "- $H^*$ [W/m$^3$] heat sources.\n",
    "\n",
    "\n",
    "Quantities conserved are e.g. mass, energy, particles, ...\n",
    "\n",
    "Fluxes we have derived in the previous part ...\n",
    "\n",
    "We will discuss continuity equations for:\n",
    "1. Groundwater flow\n",
    "2. Particle flow\n",
    "3. Heat flow\n",
    "4. Sediment flow\n",
    "5. Electrical current flow"
   ]
  },
  {
   "cell_type": "markdown",
   "metadata": {},
   "source": [
    "----\n",
    "## Motion\n",
    "\n",
    "The **equation of motion** describes the velocity induced by surface and/or body forces:\n",
    "$$\\fbox{$\n",
    "\\rho \\frac{\\partial \\vec{u}}{\\partial t}\n",
    "+ \\rho \\left( \\vec{u} \\cdot \\nabla \\right) \\vec{u}\n",
    "= \\nabla \\cdot \\bar{\\sigma}\n",
    "- \\rho \\vec{g}\n",
    "$}$$\n",
    "with:\n",
    "- $\\rho$ [kg/m$^3$] density,\n",
    "- $\\vec{u}$ [m/s] velocity,\n",
    "- $t$ [s] time,\n",
    "- $\\nabla$ [1/m] Nabla operator,\n",
    "- $\\mathbb{\\sigma}$ [Pa] Cauchy stress tensor,\n",
    "- $\\vec{g}$ [m/s] gravitational acceleration."
   ]
  },
  {
   "cell_type": "markdown",
   "metadata": {},
   "source": [
    "----\n",
    "## Material\n",
    "\n",
    "### Elastic\n",
    "\n",
    "The **Cauchy stress tensor** is defined as:\n",
    "$$\\fbox{$\n",
    "\\mathbb{\\sigma} = 2 \\mu \\mathbb{\\epsilon} + \\lambda tr(\\mathbb{\\epsilon}) \\mathbb{1}\n",
    "$}$$\n",
    "with:\n",
    "- $\\mu$ [Pa] shear modulus,\n",
    "- $\\lambda$ [Pa] first Lame parameter,\n",
    "- $\\mathbb{\\epsilon}$ [-] strain tensor,\n",
    "- $\\mathbb{1}$ [-] the unity tensor.\n",
    "\n",
    "The **strain tensor** is defined as:\n",
    "$$\\fbox{$\n",
    "\\mathbb{\\epsilon} = \\frac{1}{2} \\left[ \\nabla \\vec{r} + (\\nabla \\vec{r})^T \\right]\n",
    "$}$$\n",
    "with:\n",
    "- $\\vec{r}$ [m] displacement.\n",
    "\n",
    "### Viscous\n",
    "\n",
    "The **Cauchy stress tensor** is defined as:\n",
    "$$\\fbox{$\n",
    "\\mathbb{\\sigma} = -p \\mathbb{1} + 2 \\eta \\dot{\\mathbb{\\epsilon}} \n",
    "$}$$\n",
    "with:\n",
    "- $p$ [Pa] pressure,\n",
    "- $\\eta$ [Pas] dynamic viscosity,\n",
    "- $\\dot{\\mathbb{\\epsilon}}$ [1/s] strain-rate tensor,\n",
    "- $\\mathbb{1}$ [-] the unity tensor.\n",
    "\n",
    "The **strain-rate tensor** is defined as:\n",
    "$$\\fbox{$\n",
    "\\dot{\\mathbb{\\epsilon}} = \\frac{1}{2} \\left[ \\nabla \\vec{u} + (\\nabla \\vec{u})^T \\right]\n",
    "$}$$\n",
    "with:\n",
    "- $\\vec{u}$ [m/s] velocity."
   ]
  },
  {
   "cell_type": "markdown",
   "metadata": {},
   "source": [
    "----\n",
    "## Navier-Stokes equation\n",
    "\n",
    "Combining the equation of motion, Cauchy stress and strain-rate, we arrive at the \n",
    "**Navier-Stokes equation** for a viscous fluid:\n",
    "$$\\fbox{$\n",
    "\\rho \\frac{\\partial \\vec{u}}{\\partial t}\n",
    "+ \\rho \\left( \\vec{u} \\cdot \\nabla \\right) \\vec{u}\n",
    "= - \\nabla p\n",
    "+ \\eta \\Delta \\vec{u}\n",
    "- \\rho \\vec{g}\n",
    "$}$$"
   ]
  },
  {
   "cell_type": "markdown",
   "metadata": {},
   "source": [
    "... done"
   ]
  }
 ],
 "metadata": {
  "kernelspec": {
   "display_name": "Python 3 (ipykernel)",
   "language": "python",
   "name": "python3"
  },
  "language_info": {
   "codemirror_mode": {
    "name": "ipython",
    "version": 3
   },
   "file_extension": ".py",
   "mimetype": "text/x-python",
   "name": "python",
   "nbconvert_exporter": "python",
   "pygments_lexer": "ipython3",
   "version": "3.9.6"
  }
 },
 "nbformat": 4,
 "nbformat_minor": 2
}
