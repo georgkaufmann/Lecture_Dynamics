{
 "cells": [
  {
   "cell_type": "markdown",
   "id": "3fd06a18",
   "metadata": {},
   "source": [
    "<table>\n",
    "<tr><td><img style=\"height: 150px;\" src=\"images/geo_hydro1.jpg\"></td>\n",
    "<td bgcolor=\"#FFFFFF\">\n",
    "    <p style=\"font-size: xx-large; font-weight: 900; line-height: 100%\">AG Dynamics of the Earth</p>\n",
    "    <p style=\"font-size: large; color: rgba(0,0,0,0.5);\">Jupyter notebooks</p>\n",
    "    <p style=\"font-size: large; color: rgba(0,0,0,0.5);\">Georg Kaufmann</p>\n",
    "    </td>\n",
    "</tr>\n",
    "</table>"
   ]
  },
  {
   "cell_type": "markdown",
   "id": "8ebec8bf",
   "metadata": {},
   "source": [
    "# Dynamic systems: 2. Flux\n",
    "## Bernoulli equation\n",
    "----\n",
    "*Georg Kaufmann,\n",
    "Geophysics Section,\n",
    "Institute of Geological Sciences,\n",
    "Freie Universität Berlin,\n",
    "Germany*\n",
    "\n",
    "This notebook derives the **Bernoulli equation** from energy conservation principles,\n",
    "and applies the equation to the tank problem."
   ]
  },
  {
   "cell_type": "code",
   "execution_count": 1,
   "id": "6b4f8752",
   "metadata": {},
   "outputs": [],
   "source": [
    "import numpy as np\n",
    "import matplotlib.pyplot as plt\n",
    "import datetime"
   ]
  },
  {
   "cell_type": "markdown",
   "id": "c18d0212",
   "metadata": {},
   "source": [
    "----\n",
    "## Bernoulli equation\n",
    "\n",
    "We derive the **Bernoulli equation** from an energy balance. \n",
    "The Bernoulli equation describes flow through a pipe for an **incompressible**,\n",
    "**frictionless** fluid.\n",
    "\n",
    "We use the famous constricted pipe\n",
    "for the derivation:\n",
    "<img style=\"width: 700px;\" src=\"images/bernoulli.jpg\">\n",
    "\n",
    "Flow through the pipe is driven by a pressure gradient, the pipe changes its elevation, and\n",
    "the pipe diameter changes along the pipe. We therefore have to balance the applied pressure force $dW$\n",
    "with kinetic $dE_{kin}$ and potential enery $dE_{pot}$:\n",
    "$$\n",
    "dW = dE_{kin} + dE_{pot}\n",
    "$$\n",
    "\n",
    "For these three contributions we obtain:\n",
    "\n",
    "**1. Pressure force:**\n",
    "\n",
    "A force $F$ [Pa] acting on the nomral face of the pipe, the cross section $A$ [m$^2$] of the pipe,\n",
    "is applied:\n",
    "$$\n",
    "\\begin{array}{rcl}\n",
    "dW &=& F_1 \\Delta x_1 - F_2 \\Delta x_2 \\\\\n",
    "   &=& p_1 A_1 \\Delta x_1 - p_2 A_2 \\Delta x_2 \\\\\n",
    "   &=& p_1 dV - p_2 dV \n",
    "\\end{array} \n",
    "$$\n",
    "Note that in the last line, the volumes are equal, $dV_1=dV_2=dV$, because the \n",
    "fluid is **incompressible**.\n",
    "\n",
    "**2. Kinetic energy:**\n",
    "\n",
    "When the pipe narrows, the fluid flows faster, kinetic energy increases:\n",
    "$$\n",
    "\\begin{array}{rcl}\n",
    "dE_{kin} &=& \\frac{1}{2} m v_2^2 - \\frac{1}{2} m v_1^2 \\\\\n",
    "   &=& \\frac{1}{2} \\rho \\left( v_2^2 - v_1^2 \\right) dV\n",
    "\\end{array}\n",
    "$$\n",
    "\n",
    "**3. Potential energy:**\n",
    "\n",
    "The pipe rises from left to right, thus the fluid gains potential energy:\n",
    "$$\n",
    "\\begin{array}{rcl}\n",
    "dE_{pot} &=& m g h_2 - m g h_1 \\\\\n",
    "         &=& \\rho g \\left( h_2 - h_1 \\right) dV\n",
    "\\end{array}\n",
    "$$\n",
    "\n",
    "Inserting $dW$, $dE_{kin}$, and $dE_{pot}$ into the energy balance, we obtain,\n",
    "after dropping the volume $dV$:\n",
    "$$\n",
    "p_1 - p_2 = \\frac{1}{2} \\rho \\left( v_2^2 - v_1^2 \\right) + \\rho g \\left( h_2 - h_1 \\right)\n",
    "$$\n",
    "or, sorting for left and right fluid volumes:\n",
    "$$\n",
    "p_1 + \\frac{1}{2} \\rho v_1^2 + \\rho g h_1 \n",
    "=\n",
    "p_2 + \\frac{1}{2} \\rho v_2^2 + \\rho g h_2\n",
    "$$\n",
    "\n",
    "This is the **Bernoulli equation**, which can be formulated more generally as conservation equation:\n",
    "$$\\fbox{$\n",
    "p + \\frac{1}{2} \\rho v^2 + \\rho g h = \\mbox{const.}\n",
    "$}$$"
   ]
  },
  {
   "cell_type": "markdown",
   "id": "a5d9e865",
   "metadata": {},
   "source": [
    "----\n",
    "## Application of Bernoulli equation to tank\n",
    "\n",
    "<img style=\"height: 250px;\" src=\"images/tank.jpg\">\n",
    "\n",
    "We now apply Bernoulli's equation to our tank example. \n",
    "$$\n",
    "p_1 + \\frac{1}{2} \\rho v_1^2 + \\rho g h_1 \n",
    "=\n",
    "p_2 + \\frac{1}{2} \\rho v_2^2 + \\rho g h_2\n",
    "$$\n",
    "\n",
    "We define two regions:\n",
    "\n",
    "1. **Water table:** Gravitational potential largest, kinetic potential negligible ($v_1\\simeq0$).\n",
    "\n",
    "2. **Bottom of tank:** Gravitational potential negligible (choose $h_2=0$ as reference point), \n",
    "kinetic potential largest.\n",
    "\n",
    "3. **No external forcing:** The system is not subject to external forcing except *atmospheric pressure*\n",
    "$p_{atm}$. But atmospheric pressure is similar in both points, thus $p_1=p_2$.\n",
    "\n",
    "Then:\n",
    "$$\n",
    "\\rho g h_1 = \\frac{1}{2} \\rho v_2^2\n",
    "$$\n",
    "or, solving for the velocity at the bottom:\n",
    "$$\\fbox{$\n",
    "v_2 = \\sqrt{2gh_1}\n",
    "$}$$\n",
    "\n",
    "Our $v_2$ is the velocity $v_{out}$ from the previous notebook, thus we can recast the\n",
    "**differential equation** for the drop in water table:\n",
    "$$\\fbox{$\n",
    "\\frac{dh}{dt} = - \\frac{A_{pipe}}{A_{catch}} \\sqrt{2gh}\n",
    "$}$$\n",
    "\n",
    "Solve for $h$ by integration and use $h(t=0)=h_0$ as boundary condition:\n",
    "$$\n",
    "\\begin{array}{rcl}\n",
    "\\int \\frac{dh}{\\sqrt{h}} &=& - \\frac{A_{pipe}}{A_{catch}} \\sqrt{2g} \\int dt \\\\\n",
    "2\\sqrt{h} &=& - \\frac{A_{pipe}}{A_{catch}} \\sqrt{2g} t + c_1\n",
    "\\end{array}\n",
    "$$\n",
    "Then, $c_1=2\\sqrt{h_0}$ follows, and we then find:\n",
    "$$\\fbox{$\n",
    "h(t) = \\left( \\sqrt{h_0} - \\frac{A_{pipe}}{2A_{catch}} \\sqrt{2g} t \\right)^2\n",
    "$}$$"
   ]
  },
  {
   "cell_type": "markdown",
   "id": "ddc4873d",
   "metadata": {},
   "source": [
    "----\n",
    "## Plotting tank discharge\n",
    "\n",
    "We start with a full \"tank\" with a water table in 6m ($h(t=0)=6$m). As catchment area,\n",
    "we use the Blautopf catchment, $A_{catch}=160$ km$^2$.\n",
    "\n",
    "The outlet of the tank is defined by an outlet area, $A_{pipe}$.\n",
    "\n",
    "Read precipitation data from Merklingen station."
   ]
  },
  {
   "cell_type": "code",
   "execution_count": 16,
   "id": "53d0f53b",
   "metadata": {},
   "outputs": [
    {
     "name": "stdout",
     "output_type": "stream",
     "text": [
      "(50,)\n",
      "(50, 4)\n"
     ]
    }
   ],
   "source": [
    "h0 = 6.\n",
    "g  = 9.81\n",
    "day2sec = 24*3600.\n",
    "\n",
    "Acatch = 160e6\n",
    "\n",
    "rpipe = [0.5,1,2,3]\n",
    "Apipe = []\n",
    "for i in range(len(rpipe)):\n",
    "    Apipe.append(np.pi*rpipe[i]**2)\n",
    "    \n",
    "# define time window t (1 year in days)\n",
    "# and stage h (initialized with h0)\n",
    "t = np.linspace(0,366)\n",
    "h = np.ones(len(t)*len(rpipe)).reshape(len(t),len(rpipe))*h0\n",
    "print(t.shape)\n",
    "print(h.shape)\n",
    "\n",
    "# calculate stage h\n",
    "for i in range(1,len(t)):\n",
    "    for j in range(len(rpipe)):\n",
    "        h[i,j] = (np.sqrt(h0) - Apipe[j]/2/Acatch*np.sqrt(2*g)*t[i]*day2sec)**2\n",
    "        if (h[i,j]>h[i-1,j]):\n",
    "            h[i,j]=0."
   ]
  },
  {
   "cell_type": "code",
   "execution_count": 17,
   "id": "4f8aeba8",
   "metadata": {},
   "outputs": [
    {
     "data": {
      "text/plain": [
       "<matplotlib.legend.Legend at 0x1183bc220>"
      ]
     },
     "execution_count": 17,
     "metadata": {},
     "output_type": "execute_result"
    },
    {
     "data": {
      "image/png": "[encoded data removed]",
      "text/plain": [
       "<Figure size 864x432 with 1 Axes>"
      ]
     },
     "metadata": {
      "needs_background": "light"
     },
     "output_type": "display_data"
    }
   ],
   "source": [
    "plt.figure(figsize=(12,6))\n",
    "plt.xlabel('Time [d]')\n",
    "plt.ylabel('h [m]')\n",
    "for i in range(len(rpipe)):\n",
    "    plt.plot(t,h[:,i],linewidth=2,label='$r_{pipe}=$'+str(round(rpipe[i],1))+' m')\n",
    "#plt.plot(t,h2,linewidth=2,color='red',label='$r_{pipe}=2$ m')\n",
    "plt.legend()"
   ]
  },
  {
   "cell_type": "code",
   "execution_count": 15,
   "id": "c7db88b8",
   "metadata": {},
   "outputs": [
    {
     "name": "stdout",
     "output_type": "stream",
     "text": [
      "Difference:  2 days, 2:00:00\n",
      "Difference in days:  2.0833333333333335\n"
     ]
    }
   ],
   "source": [
    "tstart = datetime.datetime(2021,11,7,12,0)\n",
    "tend  = datetime.datetime(2021,11,9,14,0)\n",
    "tdiff = tend-tstart\n",
    "print('Difference: ',tdiff)\n",
    "tdays = tdiff.total_seconds() / 3600 / 24\n",
    "print('Difference in days: ', tdays)"
   ]
  },
  {
   "cell_type": "markdown",
   "id": "052cf90a",
   "metadata": {},
   "source": [
    "[Putting everything together ->](Dynamics_lab02_Blautopf_model.ipynb)"
   ]
  },
  {
   "cell_type": "markdown",
   "id": "378d332f",
   "metadata": {},
   "source": [
    "... done"
   ]
  }
 ],
 "metadata": {
  "kernelspec": {
   "display_name": "Python 3 (ipykernel)",
   "language": "python",
   "name": "python3"
  },
  "language_info": {
   "codemirror_mode": {
    "name": "ipython",
    "version": 3
   },
   "file_extension": ".py",
   "mimetype": "text/x-python",
   "name": "python",
   "nbconvert_exporter": "python",
   "pygments_lexer": "ipython3",
   "version": "3.9.6"
  }
 },
 "nbformat": 4,
 "nbformat_minor": 5
}
