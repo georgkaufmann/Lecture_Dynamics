{
 "cells": [
  {
   "cell_type": "markdown",
   "id": "9766f78c",
   "metadata": {},
   "source": [
    "<table>\n",
    "<tr><td><img style=\"height: 150px;\" src=\"images/geo_hydro1.jpg\"></td>\n",
    "<td bgcolor=\"#FFFFFF\">\n",
    "    <p style=\"font-size: xx-large; font-weight: 900; line-height: 100%\">AG Dynamics of the Earth</p>\n",
    "    <p style=\"font-size: large; color: rgba(0,0,0,0.5);\">Jupyter notebooks</p>\n",
    "    <p style=\"font-size: large; color: rgba(0,0,0,0.5);\">Georg Kaufmann</p>\n",
    "    </td>\n",
    "</tr>\n",
    "</table>"
   ]
  },
  {
   "cell_type": "markdown",
   "id": "fbfa38f3",
   "metadata": {},
   "source": [
    "# Dynamic systems: 3. Continuity \n",
    "## Reaction equation in 1D\n",
    "----\n",
    "*Georg Kaufmann,\n",
    "Geophysics Section,\n",
    "Institute of Geological Sciences,\n",
    "Freie Universität Berlin,\n",
    "Germany*"
   ]
  },
  {
   "cell_type": "markdown",
   "id": "78d858ba",
   "metadata": {},
   "source": [
    "----\n",
    "In this notebook, we solve a simple **transient reaction equation** in one dimension,\n",
    "using different numerical methods."
   ]
  },
  {
   "cell_type": "code",
   "execution_count": 1,
   "id": "94ade1f7",
   "metadata": {},
   "outputs": [],
   "source": [
    "import numpy as np\n",
    "import matplotlib.pyplot as plt"
   ]
  },
  {
   "cell_type": "markdown",
   "id": "d9b81bd9",
   "metadata": {},
   "source": [
    "----\n",
    "## Theoretical model\n",
    "\n",
    "The simple one-dimensional `transient reaction equation` reads:\n",
    "$$\n",
    "\\fbox{$\n",
    "\\frac{\\partial c(x,t)}{\\partial t} - R = 0\n",
    "$}\n",
    "$$\n",
    "\n",
    "As reaction $R$, we define radiogenic decay:\n",
    "$$\n",
    "c(t) = c_0 e^{\\displaystyle -\\lambda t}\n",
    "$$\n",
    "with\n",
    "$t$ [s] time, $\\lambda$ [1/s] the decay constant, and $c_0$ [mol/m$^3$] an initial concentration.\n",
    "\n",
    "The reaction term $R$ is simply the temporal derivative of $c$:\n",
    "$$\n",
    "R = -\\lambda c\n",
    "$$\n",
    "\n",
    "Then the transient reaction equation in 1D follows as:\n",
    "$$\n",
    "\\frac{\\partial c}{\\partial t} + \\lambda c = 0\n",
    "$$"
   ]
  },
  {
   "cell_type": "markdown",
   "id": "0b5a14ee",
   "metadata": {},
   "source": [
    "----\n",
    "## Gaussian function\n",
    "\n",
    "As initial condition, we again use the `Gaussian` function:\n",
    "$$\n",
    "c(x,t) = e^{-\\frac{(x-vt-\\mu)^2}{\\sigma^2}}\n",
    "$$\n",
    "with mean $\\mu$, standard deviation $\\sigma$, and for completeness,\n",
    "$v$ [m/s] the advection velocity."
   ]
  },
  {
   "cell_type": "code",
   "execution_count": 11,
   "id": "68ed28b0",
   "metadata": {},
   "outputs": [],
   "source": [
    "def gaussian(x,v=0.,t=0.,mu=5.,sigma=1.):\n",
    "    f = np.exp(-(x-v*t-mu)**2/(sigma)**2)\n",
    "    return f"
   ]
  },
  {
   "cell_type": "code",
   "execution_count": 12,
   "id": "d683871e",
   "metadata": {},
   "outputs": [],
   "source": [
    "xstep = 101\n",
    "x = np.linspace(0,10,xstep)"
   ]
  },
  {
   "cell_type": "code",
   "execution_count": 13,
   "id": "31ec5eef",
   "metadata": {},
   "outputs": [
    {
     "data": {
      "text/plain": [
       "<matplotlib.legend.Legend at 0x13d669b20>"
      ]
     },
     "execution_count": 13,
     "metadata": {},
     "output_type": "execute_result"
    },
    {
     "data": {
      "image/png": "[encoded data removed]",
      "text/plain": [
       "<Figure size 720x432 with 1 Axes>"
      ]
     },
     "metadata": {
      "needs_background": "light"
     },
     "output_type": "display_data"
    }
   ],
   "source": [
    "u0 = gaussian(x)\n",
    "\n",
    "plt.figure(figsize=(10,6))\n",
    "plt.xlabel('x')\n",
    "plt.ylabel('c')\n",
    "plt.grid(alpha=0.3)\n",
    "plt.plot(x,u0,label='t=0s')\n",
    "#plt.plot(x,gaussian(x,t=4),label='t=4s')\n",
    "#plt.plot(x,gaussian(x,t=8),label='t=8s')\n",
    "#plt.plot(x,gaussian(x,t=10),label='t=10s')\n",
    "plt.legend()"
   ]
  },
  {
   "cell_type": "markdown",
   "id": "c611976d",
   "metadata": {},
   "source": [
    "----\n",
    "## Numerical solution methods\n",
    "\n",
    "Next, we derive several numerical methods, which can be used to solve the transient advection equation.\n",
    "We first need to assign the temporal and spatial time steps, $\\Delta t$ [s] and $\\Delta x$ [m], \n",
    "and the velocity $c$ [m/s]:"
   ]
  },
  {
   "cell_type": "code",
   "execution_count": 21,
   "id": "b210f4c5",
   "metadata": {},
   "outputs": [
    {
     "name": "stdout",
     "output_type": "stream",
     "text": [
      "4 0.17328679513998632\n"
     ]
    }
   ],
   "source": [
    "dt = 0.05\n",
    "dx = (x.max()-x.min()) / (xstep-1)\n",
    "v  = 0.5\n",
    "thalf = 4\n",
    "lamb = np.log(2)/thalf\n",
    "print(thalf,lamb)"
   ]
  },
  {
   "cell_type": "markdown",
   "id": "cbcabffb",
   "metadata": {},
   "source": [
    "Thus we have discretised both spatial and temporal variables:\n",
    "$$\n",
    "\\begin{array}{rcl}\n",
    "t_n &=& t_0 + n \\Delta T, \\quad n=0,N \\\\\n",
    "x_i &=& x_0 + i \\Delta x, \\quad i=0,I\n",
    "\\end{array}\n",
    "$$"
   ]
  },
  {
   "cell_type": "markdown",
   "id": "d255e5ba",
   "metadata": {},
   "source": [
    "The `Courant number`, defined as\n",
    "$$\n",
    "Co = \\frac{c \\Delta t}{\\Delta x}\n",
    "$$\n",
    "defines the stability of the numerical solutions. Explicit solutions are stable\n",
    "for $Co <1$."
   ]
  },
  {
   "cell_type": "code",
   "execution_count": 22,
   "id": "ba0ccdce",
   "metadata": {},
   "outputs": [
    {
     "name": "stdout",
     "output_type": "stream",
     "text": [
      "Courant number:  0.25\n"
     ]
    }
   ],
   "source": [
    "Courant = v*dt/dx\n",
    "print ('Courant number: ',Courant)"
   ]
  },
  {
   "cell_type": "markdown",
   "id": "a61befd5",
   "metadata": {},
   "source": [
    "----\n",
    "## FTCS scheme (forward time centered space)\n",
    "\n",
    "Our first scheme is called `FTCS`, forward time, centered space, thus the derivatives in the\n",
    "transient advection equations are replaced by **forward differences in time** and \n",
    "**central differences is space**:\n",
    "$$\n",
    "\\frac{c_{i}^{n+1}-c_{i}^{n}}{\\Delta t}\n",
    "=\n",
    "-\\lambda c^n_i\n",
    "$$\n",
    "or solved for the next time step\n",
    "$$\n",
    "c_{i}^{n+1}\n",
    "=\n",
    "c_{i}^{n} - \\lambda c^n_i\n",
    "$$\n",
    "\n",
    "<img src=\"images/PDE_FTCS.jpg\" style=\"height:5cm;\">\n",
    "\n",
    "We implement the FTCS method:"
   ]
  },
  {
   "cell_type": "code",
   "execution_count": 23,
   "id": "d2a0aeae",
   "metadata": {},
   "outputs": [],
   "source": [
    "# start time\n",
    "t = 0\n",
    "# initial values\n",
    "u = gaussian(x)\n",
    "\n",
    "# solution\n",
    "for n in range(200):\n",
    "    t = t + dt\n",
    "    uold = u\n",
    "    for i in range(1,u.shape[0]-1):\n",
    "        u[i] = uold[i] - lamb*uold[i]*dt\n",
    "    if (np.abs(t-4) < dt/2):\n",
    "        u04 = np.copy(u)\n",
    "    elif (np.abs(t-8) < dt/2):\n",
    "        u08 = np.copy(u)\n",
    "    elif (np.abs(t-10) < dt/2):\n",
    "        u10 = np.copy(u)"
   ]
  },
  {
   "cell_type": "code",
   "execution_count": 24,
   "id": "588329b8",
   "metadata": {},
   "outputs": [
    {
     "name": "stdout",
     "output_type": "stream",
     "text": [
      "[5.] [1.]\n",
      "[5.] [0.49849213]\n",
      "[5.] [0.24849441]\n",
      "[5.] [0.17544693]\n"
     ]
    }
   ],
   "source": [
    "print(x[np.where(u0 == np.amax(u0))],u0[np.where(u0 == np.amax(u0))])\n",
    "print(x[np.where(u04 == np.amax(u04))],u04[np.where(u04 == np.amax(u04))])\n",
    "print(x[np.where(u08 == np.amax(u08))],u08[np.where(u08 == np.amax(u08))])\n",
    "print(x[np.where(u10 == np.amax(u10))],u10[np.where(u10 == np.amax(u10))])"
   ]
  },
  {
   "cell_type": "code",
   "execution_count": 25,
   "id": "82d52146",
   "metadata": {},
   "outputs": [
    {
     "data": {
      "text/plain": [
       "<matplotlib.legend.Legend at 0x13cfc54c0>"
      ]
     },
     "execution_count": 25,
     "metadata": {},
     "output_type": "execute_result"
    },
    {
     "data": {
      "image/png": "[encoded data removed]",
      "text/plain": [
       "<Figure size 720x432 with 1 Axes>"
      ]
     },
     "metadata": {
      "needs_background": "light"
     },
     "output_type": "display_data"
    }
   ],
   "source": [
    "plt.figure(figsize=(10,6))\n",
    "plt.xlabel('x')\n",
    "plt.ylabel('c')\n",
    "plt.grid(alpha=0.3)\n",
    "plt.plot(x,u0,label='t=0')\n",
    "plt.plot(x,u04,label='t=4s')\n",
    "plt.plot(x,u08,label='t=8s')\n",
    "plt.plot(x,u10,label='t=10s')\n",
    "plt.title('FTCS method')\n",
    "plt.legend()"
   ]
  },
  {
   "cell_type": "markdown",
   "id": "107c7614",
   "metadata": {},
   "source": [
    "... done"
   ]
  }
 ],
 "metadata": {
  "kernelspec": {
   "display_name": "Python 3 (ipykernel)",
   "language": "python",
   "name": "python3"
  },
  "language_info": {
   "codemirror_mode": {
    "name": "ipython",
    "version": 3
   },
   "file_extension": ".py",
   "mimetype": "text/x-python",
   "name": "python",
   "nbconvert_exporter": "python",
   "pygments_lexer": "ipython3",
   "version": "3.9.6"
  }
 },
 "nbformat": 4,
 "nbformat_minor": 5
}
