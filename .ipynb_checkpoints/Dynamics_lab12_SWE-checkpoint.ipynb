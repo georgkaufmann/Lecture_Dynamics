{
 "cells": [
  {
   "cell_type": "markdown",
   "metadata": {},
   "source": [
    "<table>\n",
    "<tr><td><img style=\"height: 150px;\" src=\"images/geo_hydro1.jpg\"></td>\n",
    "<td bgcolor=\"#FFFFFF\">\n",
    "    <p style=\"font-size: xx-large; font-weight: 900; line-height: 100%\">AG Dynamics of the Earth</p>\n",
    "    <p style=\"font-size: large; color: rgba(0,0,0,0.5);\">Jupyter notebooks</p>\n",
    "    <p style=\"font-size: large; color: rgba(0,0,0,0.5);\">Georg Kaufmann</p>\n",
    "    </td>\n",
    "</tr>\n",
    "</table>"
   ]
  },
  {
   "cell_type": "markdown",
   "metadata": {},
   "source": [
    "# Dynamic systems: 12. Shallow-water\n",
    "## Shallow-water equations\n",
    "----\n",
    "*Georg Kaufmann,\n",
    "Geophysics Section,\n",
    "Institute of Geological Sciences,\n",
    "Freie Universität Berlin,\n",
    "Germany*"
   ]
  },
  {
   "cell_type": "code",
   "execution_count": 1,
   "metadata": {},
   "outputs": [],
   "source": [
    "import numpy as np\n",
    "import scipy.special\n",
    "import matplotlib.pyplot as plt"
   ]
  },
  {
   "cell_type": "markdown",
   "metadata": {},
   "source": [
    "## Derivation of **Shallow-water equations**\n",
    "\n",
    "**Navier-Stokes equation** for a viscous fluid is defined as\n",
    "$$\n",
    "\\rho \\frac{\\partial \\vec{u}}{\\partial t}\n",
    "+ \\rho \\left( \\vec{u} \\cdot \\nabla \\right) \\vec{u}\n",
    "= - \\nabla p\n",
    "+ \\eta \\Delta \\vec{u}\n",
    "- \\rho \\vec{g}\n",
    "$$\n",
    "with:\n",
    "\n",
    "- $\\vec{u}$ [m/s] is the velocity vector,\n",
    "- $\\rho$ [kg/m$^3$] fluid density,\n",
    "- $\\eta$ [Pas] fluid dynamic viscosity,\n",
    "- $\\vec{g}$ [m/s$^2$] gravitational acceleration,\n",
    "- $p$ [Pa] pressure,\n",
    "- $t$ [s] time, \n",
    "- $\\nabla$ [1/m] the Nabla operator, and\n",
    "- $\\Delta$ [1/m$^2$] the Laplace operator. \n",
    "\n",
    "We define the fluid as **incompressible**, thus the continuity equation reads:\n",
    "$$\n",
    "\\nabla \\cdot \\vec{u} = 0\n",
    "$$\n",
    "\n",
    "\n",
    "Combining ..., we arrive at the \n",
    "**Shallow-water equations**:\n",
    "$$\\fbox{$\n",
    "\\begin{array}{rcl}\n",
    "\\frac{\\partial h}{\\partial t}\n",
    "+ \\frac{\\partial (hu)}{\\partial x}\n",
    "+ \\frac{\\partial (hv)}{\\partial y} = 0 \\\\\n",
    "\\frac{\\partial (hu)}{\\partial t}\n",
    "+ \\frac{\\partial (hu^2 + \\frac{1}{2}gh^2)}{\\partial x}\n",
    "+ \\frac{\\partial (huv)}{\\partial y} = 0 \\\\\n",
    "\\frac{\\partial (hv)}{\\partial t}\n",
    "+ \\frac{\\partial (huv)}{\\partial x}\n",
    "+ \\frac{\\partial (hv^2 + \\frac{1}{2}gh^2)}{\\partial y} = 0\n",
    "\\end{array}\n",
    "$}$$\n",
    "Here is:\n",
    "\n",
    "- $h$ [m] - water height,\n",
    "- $u,v$ [m/s] - velocity in $x$- and $y$-direction,\n",
    "- $g$ [m/s$^2$] - grav. acceleration,\n",
    "- $t$ [s] - time,\n",
    "- $x,y$ [m] - $x$- and $y$-coordinates.\n",
    "\n"
   ]
  },
  {
   "cell_type": "markdown",
   "metadata": {},
   "source": [
    "... done"
   ]
  }
 ],
 "metadata": {
  "kernelspec": {
   "display_name": "Python 3 (ipykernel)",
   "language": "python",
   "name": "python3"
  },
  "language_info": {
   "codemirror_mode": {
    "name": "ipython",
    "version": 3
   },
   "file_extension": ".py",
   "mimetype": "text/x-python",
   "name": "python",
   "nbconvert_exporter": "python",
   "pygments_lexer": "ipython3",
   "version": "3.10.8"
  }
 },
 "nbformat": 4,
 "nbformat_minor": 2
}
