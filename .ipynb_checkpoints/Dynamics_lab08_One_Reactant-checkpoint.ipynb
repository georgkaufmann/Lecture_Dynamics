{
 "cells": [
  {
   "cell_type": "markdown",
   "metadata": {},
   "source": [
    "<table>\n",
    "<tr><td><img style=\"height: 150px;\" src=\"images/geo_hydro1.jpg\"></td>\n",
    "<td bgcolor=\"#FFFFFF\">\n",
    "    <p style=\"font-size: xx-large; font-weight: 900; line-height: 100%\">AG Dynamics of the Earth</p>\n",
    "    <p style=\"font-size: large; color: rgba(0,0,0,0.5);\">Jupyter notebooks</p>\n",
    "    <p style=\"font-size: large; color: rgba(0,0,0,0.5);\">Georg Kaufmann</p>\n",
    "    </td>\n",
    "</tr>\n",
    "</table>"
   ]
  },
  {
   "cell_type": "markdown",
   "metadata": {},
   "source": [
    "# Dynamic systems: 8. Reactions\n",
    "## One reactant\n",
    "----\n",
    "*Georg Kaufmann,\n",
    "Geophysics Section,\n",
    "Institute of Geological Sciences,\n",
    "Freie Universität Berlin,\n",
    "Germany*"
   ]
  },
  {
   "cell_type": "markdown",
   "metadata": {},
   "source": [
    "----\n",
    "In this notebook, we solve the continuity equation for **one reactant** with terms for:\n",
    "- advection\n",
    "- diffusion\n",
    "- decay"
   ]
  },
  {
   "cell_type": "code",
   "execution_count": 1,
   "metadata": {},
   "outputs": [],
   "source": [
    "import numpy as np\n",
    "import matplotlib.pyplot as plt"
   ]
  },
  {
   "cell_type": "markdown",
   "metadata": {},
   "source": [
    "----\n",
    "## 2D advection-diffusion-reaction equation\n",
    "\n",
    "We consider the transport equation for species $A$:\n",
    "$$\n",
    "\\frac{\\partial A}{\\partial t}\n",
    "+ \\vec{u} \\cdot \\nabla A\n",
    "- \\nabla \\cdot (D \\nabla A)\n",
    "= f_1 - \\lambda_A A\n",
    "$$\n",
    "\n",
    "We rewrite the transport equation into a finite difference scheme with explicit time\n",
    "integration, using $\\frac{\\partial A}{\\partial t}=\\frac{A(t_{i+1})-A(t_i)}{\\Delta t}$:\n",
    "$$\n",
    "A(t_{i+1}) = A(t_i) +\n",
    "\\left[\n",
    "- \\vec{u} \\cdot \\nabla A\n",
    "+ \\nabla \\cdot (D \\nabla A)\n",
    "+ f_1 - \\lambda_A A\n",
    "\\right] \\Delta t\n",
    "$$\n",
    "In the square brackets, we have the **advection term**, the **diffusion term**,\n",
    "a **source-sink term**, and a **decay term**."
   ]
  },
  {
   "cell_type": "markdown",
   "metadata": {},
   "source": [
    "## Create mesh"
   ]
  },
  {
   "cell_type": "code",
   "execution_count": 2,
   "metadata": {},
   "outputs": [],
   "source": [
    "def create_mesh(xmin,xmax,ymin,ymax,nx=11,ny=11):\n",
    "    x = np.linspace(xmin,xmax,nx)\n",
    "    y = np.linspace(ymin,ymax,ny)\n",
    "    dx = x[1]-x[0]\n",
    "    dy = y[1]-y[0]\n",
    "    X,Y = np.meshgrid(x,y)\n",
    "    return X,Y,dx,dy"
   ]
  },
  {
   "cell_type": "markdown",
   "metadata": {},
   "source": [
    "## Initialize field values"
   ]
  },
  {
   "cell_type": "code",
   "execution_count": 3,
   "metadata": {},
   "outputs": [],
   "source": [
    "def init_fields(X,Y,velx,vely,nx,ny):\n",
    "    # concentration A\n",
    "    A = np.zeros(nx*ny).reshape(ny,nx)\n",
    "    xc = (X.min()+X.max()) / 2\n",
    "    yc = (Y.min()+Y.max()) / 2\n",
    "    rc = 0.5\n",
    "    #print(xc,yc,rc)\n",
    "    for i in range(ny):\n",
    "        for j in range(nx):\n",
    "            dist = np.sqrt((X[i,j]-xc)**2 + (Y[i,j]-yc)**2)\n",
    "            if (dist <= rc):\n",
    "                A[i,j] = 1.\n",
    "    # velocity\n",
    "    Vx = np.ones(nx*ny).reshape(ny,nx)\n",
    "    Vy = np.ones(nx*ny).reshape(ny,nx)\n",
    "    Vx = velx*Vx\n",
    "    Vy = vely*Vy\n",
    "    Vabs = np.sqrt(Vx**2 + Vy**2)\n",
    "    return A,Vx,Vy,Vabs"
   ]
  },
  {
   "cell_type": "code",
   "execution_count": 4,
   "metadata": {},
   "outputs": [],
   "source": [
    "def plot_fields(X,Y,A,Vx,Vy,Vabs,filename):\n",
    "    fig, axs = plt.subplots(2,1,figsize=(10,4))\n",
    "    \n",
    "    v = np.linspace(0.0, 1.0, 11, endpoint=True)\n",
    "    #plt.contour(xi, yi, zi, v, linewidths=0.5, colors='k')\n",
    "    #plt.contourf(xi, yi, zi, v, cmap=plt.cm.jet)\n",
    "    #x = plt.colorbar(ticks=v)\n",
    "\n",
    "    axs[0].set_xlim([xmin,xmax])\n",
    "    axs[0].set_ylim([ymin,ymax])\n",
    "    CS0=axs[0].contourf(X,Y,A,v, cmap=plt.cm.jet_r)\n",
    "    cbar = fig.colorbar(CS0,ax=axs[0],orientation=\"vertical\",shrink=0.9)\n",
    "    cbar.ax.set_ylabel('A [mol/m$^3$]')\n",
    "    \n",
    "    axs[1].set_xlim([xmin,xmax])\n",
    "    axs[1].set_ylim([ymin,ymax])\n",
    "    CS1=axs[1].quiver(X,Y,Vx/Vabs,Vy/Vabs,Vabs,alpha=0.5,width=0.002,scale=150,pivot=\"middle\")\n",
    "    axs[1].quiver(X,Y,Vx/Vabs,Vy/Vabs, edgecolor='k', facecolor='None', \n",
    "              linewidth=.5,width=0.002,scale=150,pivot=\"middle\")\n",
    "    cbar = fig.colorbar(CS1,ax=axs[1],orientation=\"vertical\",shrink=0.9)\n",
    "    cbar.ax.set_ylabel('V [m/s]')\n",
    "    \n",
    "    axs[0].set_title('A')\n",
    "    axs[1].set_title('B')\n",
    "    axs[0].axis('off')\n",
    "    axs[1].axis('off')\n",
    "    plt.savefig('lab08/'+filename,dpi=300)\n",
    "    plt.close()"
   ]
  },
  {
   "cell_type": "markdown",
   "metadata": {},
   "source": [
    "## Define differential operators as finite-difference operators"
   ]
  },
  {
   "cell_type": "code",
   "execution_count": 5,
   "metadata": {},
   "outputs": [],
   "source": [
    "def diffusion(A,dx,dy):\n",
    "    L = 0.*A\n",
    "    for i in range(1,A.shape[0]-1):\n",
    "        for j in range(1,A.shape[1]-1):\n",
    "            L[i,j] = (A[i+1,j]+A[i-1,j]+A[i,j+1]+A[i,j-1]-4*A[i,j]) / (dx*dy)\n",
    "    return L\n",
    "\n",
    "def advection(A,Vx,Vy,dx,dy):\n",
    "    L = 0.*A\n",
    "    for i in range(1,A.shape[0]-1):\n",
    "        for j in range(1,A.shape[1]-1):\n",
    "            grady = (A[i+1,j]-A[i-1,j]) / (2*dy)\n",
    "            gradx = (A[i,j+1]-A[i,j-1]) / (2*dx)\n",
    "            L[i,j] = Vx[i,j]*gradx + Vy[i,j]*grady\n",
    "    return L"
   ]
  },
  {
   "cell_type": "code",
   "execution_count": 6,
   "metadata": {},
   "outputs": [],
   "source": [
    "def discrete_laplacian(M,dx,dy):\n",
    "    \"\"\"L = nabla^2 M\"\"\"\n",
    "    L = -4*M\n",
    "    L += np.roll(M, (0,-1), (0,1)) # right neighbor\n",
    "    L += np.roll(M, (0,+1), (0,1)) # left neighbor\n",
    "    L += np.roll(M, (-1,0), (0,1)) # top neighbor\n",
    "    L += np.roll(M, (+1,0), (0,1)) # bottom neighbor\n",
    "    L = L / (dx*dy)\n",
    "    return L\n",
    "\n",
    "def discrete_divergence(M,Vx,Vy,dx,dy):\n",
    "    \"\"\"L = V*nabla M\"\"\"\n",
    "    gradx  = np.roll(M, (0,-1), (0,1)) # right neighbor\n",
    "    gradx -= np.roll(M, (0,+1), (0,1)) # left neighbor\n",
    "    gradx  = gradx / (2*dx)\n",
    "    grady  = np.roll(M, (-1,0), (0,1)) # top neighbor\n",
    "    grady -= np.roll(M, (+1,0), (0,1)) # bottom neighbor\n",
    "    grady  = grady / (2*dy)\n",
    "    L = Vx*gradx + Vy*grady\n",
    "    return L"
   ]
  },
  {
   "cell_type": "code",
   "execution_count": 7,
   "metadata": {},
   "outputs": [],
   "source": [
    "def update_fields(A,Vx,Vy,DA,lambA,dt,dx,dy):\n",
    "    nx = A.shape[0]\n",
    "    ny = A.shape[1]\n",
    "    # diffusion\n",
    "    #laplacian = diffusion(A,dx,dy)\n",
    "    #gradient  = advection(A,Vx,Vy,dx,dy)\n",
    "    laplacian = discrete_laplacian(A,dx,dy)\n",
    "    gradient  = discrete_divergence(A,Vx,Vy,dx,dy)\n",
    "\n",
    "    # Now apply the update formula\n",
    "    diff_A = (-gradient + DA*laplacian - lambA*A) * dt\n",
    "    #diff_B = (DB*LB + A*B**2 - (k+f)*B) * delta_t\n",
    "\n",
    "    A += diff_A\n",
    "    #B += diff_B\n",
    "    #print(A.min(),A.max())\n",
    "\n",
    "    return A"
   ]
  },
  {
   "cell_type": "markdown",
   "metadata": {},
   "source": [
    "---- \n",
    "## Examples\n",
    "\n",
    "### Diffusion only"
   ]
  },
  {
   "cell_type": "code",
   "execution_count": 8,
   "metadata": {},
   "outputs": [
    {
     "name": "stderr",
     "output_type": "stream",
     "text": [
      "/opt/local/Library/Frameworks/Python.framework/Versions/3.7/lib/python3.7/site-packages/ipykernel_launcher.py:17: RuntimeWarning: invalid value encountered in true_divide\n",
      "/opt/local/Library/Frameworks/Python.framework/Versions/3.7/lib/python3.7/site-packages/ipykernel_launcher.py:18: RuntimeWarning: invalid value encountered in true_divide\n"
     ]
    },
    {
     "name": "stdout",
     "output_type": "stream",
     "text": [
      "1.0000000000000007 0.0 1.0 3.7413998116070996e-83 0.9997259170986238 77.0\n",
      "1.9999999999999793 0.0 1.0 7.923194362532803e-66 0.9944128466702686 77.0\n",
      "2.9999999999999583 0.0 1.0 1.780330459578295e-56 0.9769306259587341 77.0\n",
      "3.999999999999937 0.0 1.0 3.702013012788781e-50 0.9471537433462199 77.0\n",
      "4.999999999999916 0.0 1.0 1.8955774035444785e-45 0.9092805291998314 76.99999999999999\n",
      "5.999999999999894 0.0 1.0 9.806824256444287e-42 0.8676263101761207 77.0\n",
      "6.999999999999873 0.0 1.0 1.0721173562503709e-38 0.8252355134979756 77.0\n",
      "7.999999999999852 0.0 1.0 3.8232423137131435e-36 0.7839230379086335 77.0\n",
      "9.000000000000007 0.0 1.0 5.865907873987475e-34 0.7446446424865333 76.99999999999999\n",
      "10.000000000000163 0.0 1.0 4.6692244975829533e-32 0.7078260941361877 76.99999999999999\n",
      "11.00000000000032 0.0 1.0 2.2010108759815298e-30 0.6735875795469379 77.0\n",
      "12.000000000000476 0.0 1.0 6.769161062585062e-29 0.6418824420973948 76.99999999999997\n",
      "13.000000000000632 0.0 1.0 1.4610587037230992e-27 0.612579070392926 76.99999999999997\n",
      "14.000000000000789 0.0 1.0 2.3412826485056408e-26 0.5855078893539392 76.99999999999997\n",
      "15.000000000000945 0.0 1.0 2.911467470503043e-25 0.5604876468431642 76.99999999999999\n"
     ]
    }
   ],
   "source": [
    "xmin = 0. \n",
    "xmax = 10.\n",
    "ymin = -1. \n",
    "ymax = +1.\n",
    "nx   = 101\n",
    "ny   = 21\n",
    "DA   = 5e-3\n",
    "lambA   = 0.0\n",
    "velx = 0.0\n",
    "vely = 0.\n",
    "tmin = 0.\n",
    "tmax = 15.\n",
    "dt   = 0.005\n",
    "name = 'ONE-diff-'\n",
    "\n",
    "X,Y,dx,dy = create_mesh(xmin,xmax,ymin,ymax,nx,ny)\n",
    "A,Vx,Vy,Vabs = init_fields(X,Y,velx,vely,nx,ny)\n",
    "plot_fields(X,Y,A,Vx,Vy,Vabs,name+f\"{0:04}.png\")\n",
    "time = 0.\n",
    "tsave = 0.\n",
    "twrite = 1.\n",
    "iwrite = 1\n",
    "while (time < tmax):\n",
    "    #print(time)\n",
    "    tsave = tsave + dt\n",
    "    time = time + dt\n",
    "    A = update_fields(A,Vx,Vy,DA,lambA,dt,dx,dy)\n",
    "    if (tsave >= twrite):\n",
    "        tsave = 0.\n",
    "        filename = f\"ONE-{iwrite:04}.png\"\n",
    "        print(time,tsave,twrite,A.min(),A.max(),np.sum(A))\n",
    "        plot_fields(X,Y,A,Vx,Vy,Vabs,name+f\"{iwrite:04}.png\")\n",
    "        iwrite = iwrite + 1"
   ]
  },
  {
   "cell_type": "markdown",
   "metadata": {},
   "source": [
    "### Diffusion and advection"
   ]
  },
  {
   "cell_type": "code",
   "execution_count": 9,
   "metadata": {},
   "outputs": [
    {
     "name": "stdout",
     "output_type": "stream",
     "text": [
      "1.0000000000000007 0.0 1.0 1.1009739294457015e-143 0.9997784055653343 77.0\n",
      "1.9999999999999793 0.0 1.0 2.7182170472313977e-114 0.9946371322112559 77.0\n",
      "2.9999999999999583 0.0 1.0 2.166844530084549e-98 0.9783849423053178 77.00000000000001\n",
      "3.999999999999937 0.0 1.0 6.396846039320388e-87 0.951233272218998 77.0\n",
      "4.999999999999916 0.0 1.0 7.268832193544101e-79 0.9134264174979955 77.0\n",
      "5.999999999999894 0.0 1.0 1.0668649956309308e-71 0.8706464814277092 77.0\n",
      "6.999999999999873 0.0 1.0 6.593504602680333e-67 0.8269258422798409 77.0\n",
      "7.999999999999852 0.0 1.0 7.851156654889358e-62 0.7844580844848815 77.0\n",
      "9.000000000000007 0.0 1.0 1.9235270581710335e-57 0.7442875592107197 77.0\n",
      "10.000000000000163 0.0 1.0 8.110511762798851e-54 0.7068225257515915 77.0\n",
      "11.00000000000032 0.0 1.0 4.340984457551185e-51 0.6721367739009737 77.0\n",
      "12.000000000000476 0.0 1.0 5.589425202818725e-48 0.6401364290404241 77.0\n",
      "13.000000000000632 0.0 1.0 3.638296575090824e-45 0.6106502415684361 76.99999999999999\n",
      "14.000000000000789 0.0 1.0 1.3283284823930334e-42 0.5834777729811222 77.0\n",
      "15.000000000000945 0.0 1.0 2.954806176600137e-40 0.5584145727521583 76.99999999999999\n"
     ]
    }
   ],
   "source": [
    "xmin = 0. \n",
    "xmax = 10.\n",
    "ymin = -1. \n",
    "ymax = +1.\n",
    "nx   = 101\n",
    "ny   = 21\n",
    "DA   = 5e-3\n",
    "lambA = 0.0\n",
    "velx = 0.1\n",
    "vely = 0.\n",
    "tmin = 0.\n",
    "tmax = 15.\n",
    "dt   = 0.005\n",
    "name = 'ONE-diff-adv-'\n",
    "\n",
    "X,Y,dx,dy = create_mesh(xmin,xmax,ymin,ymax,nx,ny)\n",
    "A,Vx,Vy,Vabs = init_fields(X,Y,velx,vely,nx,ny)\n",
    "plot_fields(X,Y,A,Vx,Vy,Vabs,name+f\"{0:04}.png\")\n",
    "time = 0.\n",
    "tsave = 0.\n",
    "twrite = 1.\n",
    "iwrite = 1\n",
    "while (time < tmax):\n",
    "    #print(time)\n",
    "    tsave = tsave + dt\n",
    "    time = time + dt\n",
    "    A = update_fields(A,Vx,Vy,DA,lambA,dt,dx,dy)\n",
    "    if (tsave >= twrite):\n",
    "        tsave = 0.\n",
    "        filename = f\"ONE-{iwrite:04}.png\"\n",
    "        print(time,tsave,twrite,A.min(),A.max(),np.sum(A))\n",
    "        plot_fields(X,Y,A,Vx,Vy,Vabs,name+f\"{iwrite:04}.png\")\n",
    "        iwrite = iwrite + 1"
   ]
  },
  {
   "cell_type": "markdown",
   "metadata": {},
   "source": [
    "### Diffusion, advection, and decay"
   ]
  },
  {
   "cell_type": "code",
   "execution_count": 10,
   "metadata": {},
   "outputs": [
    {
     "name": "stdout",
     "output_type": "stream",
     "text": [
      "1.0000000000000007 0.0 1.0 8.775334537209632e-144 0.8184665933297394 63.03595986985495\n",
      "1.9999999999999793 0.0 1.0 1.9941406273626065e-114 0.6665815773955747 51.604314762518996\n",
      "2.9999999999999583 0.0 1.0 1.3005242637057443e-98 0.5367407590241677 42.24581187638326\n",
      "3.999999999999937 0.0 1.0 2.846196377052429e-87 0.42717696526393495 34.5844844429758\n",
      "4.999999999999916 0.0 1.0 2.917610508855789e-79 0.33579016033318515 28.312547707364217\n",
      "5.999999999999894 0.0 1.0 3.5004711583083023e-72 0.2620096159114537 23.178034040191747\n",
      "6.999999999999873 0.0 1.0 1.7704174380381727e-67 0.20371737543041304 18.97467043661895\n",
      "7.999999999999852 0.0 1.0 1.7233189005304213e-62 0.15820521722903091 15.533591742680976\n",
      "9.000000000000007 0.0 1.0 3.451827530769488e-58 0.12288069608612098 12.716556697744782\n",
      "10.000000000000163 0.0 1.0 1.3205174692174685e-54 0.09553152222038085 10.41039425560747\n",
      "11.00000000000032 0.0 1.0 5.212816503908524e-52 0.07436840774018591 8.522457071764169\n",
      "12.000000000000476 0.0 1.0 5.487899959131743e-49 0.05798273042518609 6.976899506081658\n",
      "13.000000000000632 0.0 1.0 2.9208773494430625e-46 0.045280844792755764 5.711630614043821\n",
      "14.000000000000789 0.0 1.0 8.719812560990304e-44 0.03541951443893533 4.675819716601316\n",
      "15.000000000000945 0.0 1.0 1.5860836152713272e-41 0.027750554293236376 3.8278543378487924\n"
     ]
    }
   ],
   "source": [
    "xmin = 0. \n",
    "xmax = 10.\n",
    "ymin = -1. \n",
    "ymax = +1.\n",
    "nx   = 101\n",
    "ny   = 21\n",
    "DA   = 5e-3\n",
    "lambA = 0.2\n",
    "velx = 0.1\n",
    "vely = 0.\n",
    "tmin = 0.\n",
    "tmax = 15.\n",
    "dt   = 0.005\n",
    "name = 'ONE-diff-adv-decay-'\n",
    "\n",
    "X,Y,dx,dy = create_mesh(xmin,xmax,ymin,ymax,nx,ny)\n",
    "A,Vx,Vy,Vabs = init_fields(X,Y,velx,vely,nx,ny)\n",
    "plot_fields(X,Y,A,Vx,Vy,Vabs,name+f\"{0:04}.png\")\n",
    "time = 0.\n",
    "tsave = 0.\n",
    "twrite = 1.\n",
    "iwrite = 1\n",
    "while (time < tmax):\n",
    "    #print(time)\n",
    "    tsave = tsave + dt\n",
    "    time = time + dt\n",
    "    A = update_fields(A,Vx,Vy,DA,lambA,dt,dx,dy)\n",
    "    if (tsave >= twrite):\n",
    "        tsave = 0.\n",
    "        filename = f\"ONE-{iwrite:04}.png\"\n",
    "        print(time,tsave,twrite,A.min(),A.max(),np.sum(A))\n",
    "        plot_fields(X,Y,A,Vx,Vy,Vabs,name+f\"{iwrite:04}.png\")\n",
    "        iwrite = iwrite + 1"
   ]
  },
  {
   "cell_type": "markdown",
   "metadata": {},
   "source": [
    "... done"
   ]
  }
 ],
 "metadata": {
  "kernelspec": {
   "display_name": "Python 3 (ipykernel)",
   "language": "python",
   "name": "python3"
  },
  "language_info": {
   "codemirror_mode": {
    "name": "ipython",
    "version": 3
   },
   "file_extension": ".py",
   "mimetype": "text/x-python",
   "name": "python",
   "nbconvert_exporter": "python",
   "pygments_lexer": "ipython3",
   "version": "3.9.6"
  }
 },
 "nbformat": 4,
 "nbformat_minor": 2
}
