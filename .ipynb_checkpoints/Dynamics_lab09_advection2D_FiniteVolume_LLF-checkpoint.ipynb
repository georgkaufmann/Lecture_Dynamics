{
 "cells": [
  {
   "cell_type": "markdown",
   "id": "ce77ca75",
   "metadata": {},
   "source": [
    "<table>\n",
    "<tr><td><img style=\"height: 150px;\" src=\"images/geo_hydro1.jpg\"></td>\n",
    "<td bgcolor=\"#FFFFFF\">\n",
    "    <p style=\"font-size: xx-large; font-weight: 900; line-height: 100%\">AG Dynamics of the Earth</p>\n",
    "    <p style=\"font-size: large; color: rgba(0,0,0,0.5);\">Jupyter notebooks</p>\n",
    "    <p style=\"font-size: large; color: rgba(0,0,0,0.5);\">Georg Kaufmann</p>\n",
    "    </td>\n",
    "</tr>\n",
    "</table>"
   ]
  },
  {
   "cell_type": "markdown",
   "id": "ad92caf5",
   "metadata": {},
   "source": [
    "# Dynamic systems: 9. Shallow-water equations\n",
    "## 2D advection equation revisited (finite volumes)\n",
    "----\n",
    "*Georg Kaufmann,\n",
    "Geophysics Section,\n",
    "Institute of Geological Sciences,\n",
    "Freie Universität Berlin,\n",
    "Germany*"
   ]
  },
  {
   "cell_type": "code",
   "execution_count": 1,
   "id": "8e523360",
   "metadata": {},
   "outputs": [],
   "source": [
    "import numpy as np\n",
    "import matplotlib.pyplot as plt"
   ]
  },
  {
   "cell_type": "markdown",
   "id": "f7ce14f4",
   "metadata": {},
   "source": [
    "----\n",
    "## 2D\n",
    "\n",
    "Consider a partial differential equation of the form:\n",
    "$$\n",
    "\\frac{\\partial h}{\\partial t}\n",
    "+ u \\frac{\\partial h}{\\partial x} \n",
    "+ v \\frac{\\partial h}{\\partial y}= 0\n",
    "$$\n",
    "with\n",
    "- $h$ [m] height,\n",
    "- $t$ [s] time,\n",
    "- $x,y$ [m] $x$- and $y$ distance,\n",
    "- $u,v$ [m/s] $x$ and $y$ advection velocities.\n",
    "\n",
    "We need an initial condition $h(x,y,t=0)$ to solve the problem.\n",
    "\n",
    "We reformulate the 2D problem to a (pseudo-)non-linear flux problem:\n",
    "$$\n",
    "\\frac{\\partial h}{\\partial t}\n",
    "+ \\frac{\\partial (hu)}{\\partial x} \n",
    "+ \\frac{\\partial (hv)}{\\partial y}= 0\n",
    "$$\n",
    "and we identify the terms $hu$ and $hv$ as flux terms:\n",
    "$$\n",
    "\\begin{array}{rcl}\n",
    "f(u) &=& h u \\\\\n",
    "g(v) &=& h v\n",
    "\\end{array}\n",
    "$$\n",
    "\n",
    "Define model domain $x \\in [xmin,xmax]$ with $nx$ points,\n",
    "$y \\in [ymin,ymax]$ with $ny$ points,\n",
    "maximum time $T$,\n",
    "velocities $u,v$ as constant,\n",
    "and spatial ($dx,dy$) as well time ($dt$) increments. Check **Courant number**!"
   ]
  },
  {
   "cell_type": "code",
   "execution_count": 2,
   "id": "188a5542",
   "metadata": {},
   "outputs": [
    {
     "name": "stdout",
     "output_type": "stream",
     "text": [
      "dx:  0.1  dt:  0.05  u:  1.0  v:  0.3\n",
      "Courant number:  0.5\n"
     ]
    }
   ],
   "source": [
    "nx = 101\n",
    "ny = 51\n",
    "xmin = 0;xmax = 10\n",
    "ymin = 0;ymax = 10\n",
    "T    = 5\n",
    "x = np.linspace(xmin,xmax,nx)\n",
    "y = np.linspace(ymin,ymax,ny)\n",
    "X,Y = np.meshgrid(x,y,indexing='ij')\n",
    "dt = 0.05\n",
    "dx = (x.max()-x.min()) / (nx-1)\n",
    "dy = (y.max()-y.min()) / (ny-1)\n",
    "u  = 1.0 # and test with u=1!!!\n",
    "v  = 0.3\n",
    "g  = 9.81\n",
    "mu = 2\n",
    "sigma = 1\n",
    "\n",
    "print(\"dx: \",dx,\" dt: \",dt,\" u: \",u,\" v: \",v)\n",
    "#print(x)\n",
    "Courant = u*dt/dx\n",
    "print ('Courant number: ',Courant)"
   ]
  },
  {
   "cell_type": "markdown",
   "id": "0e908130",
   "metadata": {},
   "source": [
    "----\n",
    "#### 1. Example\n",
    "\n",
    "Use a Gaussian function in 2D as initial condition:\n",
    "$$\n",
    "h(x,y) = \\exp(-\\frac{(x-\\mu)^2+(y-\\mu)^2}{\\sigma^2})\n",
    "$$\n",
    "with\n",
    "- $\\mu=2$ mean,\n",
    "- $\\sigma=1$ standard deviation."
   ]
  },
  {
   "cell_type": "code",
   "execution_count": 4,
   "id": "564f550d",
   "metadata": {},
   "outputs": [
    {
     "data": {
      "image/png": "[encoded data removed]",
      "text/plain": [
       "<Figure size 504x504 with 1 Axes>"
      ]
     },
     "metadata": {
      "needs_background": "light"
     },
     "output_type": "display_data"
    }
   ],
   "source": [
    "# Finite volume with Rusanov flux scheme\n",
    "# start time\n",
    "time   = 0\n",
    "dtplot = 1.00\n",
    "tplot  = dtplot\n",
    "# initial values\n",
    "h = np.exp(-((X-mu)**2+(Y-mu)**2)/sigma**2)\n",
    "plt.figure(figsize=(7,7))\n",
    "plt.xlabel('x [m]')\n",
    "plt.ylabel('y [m]')\n",
    "plt.title('Advection of Gauss function in 2D')\n",
    "plt.contour(X,Y,h,levels=[0.5,0.8])\n",
    "# solution\n",
    "while (time < T):\n",
    "    time = time + dt\n",
    "    ### PERIODIC BC ###\n",
    "    h[0,:]  = h[-2,:]\n",
    "    h[-1,:] = h[1,:]\n",
    "    h[:,0]  = h[:,-2]\n",
    "    h[:,-1] = h[:,1]\n",
    "    \n",
    "    Fhup = h[1:,:]*u\n",
    "    Fhum = h[:-1,:]*u\n",
    "    Fhvp = h[:,1:]*v\n",
    "    Fhvm = h[:,:-1]*v\n",
    "    #print(Fhup.shape,Fhum.shape)\n",
    "    #print(Fhvp.shape,Fhvm.shape)\n",
    "    Rhx  = (Fhup+Fhum)/2 - u/2*(h[1:,:]-h[:-1,:])\n",
    "    Rhy  = (Fhvp+Fhvm)/2 - v/2*(h[:,1:]-h[:,:-1])\n",
    "    #print(Rhx.shape,Rhy.shape)\n",
    "    h[1:-1,1:-1] = h[1:-1,1:-1] - dt/dx*(Rhx[1:,1:-1]-Rhx[:-1,1:-1]) \\\n",
    "                                - dt/dy*(Rhy[1:-1,1:]-Rhy[1:-1,:-1])\n",
    "    if (time > tplot):\n",
    "        plt.contour(X,Y,h,levels=[0.5,0.8])\n",
    "        tplot = tplot + dtplot"
   ]
  },
  {
   "cell_type": "markdown",
   "id": "ee9b6a33",
   "metadata": {},
   "source": [
    "... done"
   ]
  }
 ],
 "metadata": {
  "kernelspec": {
   "display_name": "Python 3 (ipykernel)",
   "language": "python",
   "name": "python3"
  },
  "language_info": {
   "codemirror_mode": {
    "name": "ipython",
    "version": 3
   },
   "file_extension": ".py",
   "mimetype": "text/x-python",
   "name": "python",
   "nbconvert_exporter": "python",
   "pygments_lexer": "ipython3",
   "version": "3.9.6"
  }
 },
 "nbformat": 4,
 "nbformat_minor": 5
}
