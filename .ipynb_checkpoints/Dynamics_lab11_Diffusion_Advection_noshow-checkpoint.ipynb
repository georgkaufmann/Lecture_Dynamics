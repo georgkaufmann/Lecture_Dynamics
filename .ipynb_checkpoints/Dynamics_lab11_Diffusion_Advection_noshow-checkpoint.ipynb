{
 "cells": [
  {
   "cell_type": "markdown",
   "id": "f30c2591",
   "metadata": {},
   "source": [
    "<table>\n",
    "<tr><td><img style=\"height: 150px;\" src=\"images/geo_hydro1.jpg\"></td>\n",
    "<td bgcolor=\"#FFFFFF\">\n",
    "    <p style=\"font-size: xx-large; font-weight: 900; line-height: 100%\">AG Dynamics of the Earth</p>\n",
    "    <p style=\"font-size: large; color: rgba(0,0,0,0.5);\">Jupyter notebooks</p>\n",
    "    <p style=\"font-size: large; color: rgba(0,0,0,0.5);\">Georg Kaufmann</p>\n",
    "    </td>\n",
    "</tr>\n",
    "</table>"
   ]
  },
  {
   "cell_type": "markdown",
   "id": "b041b3c4",
   "metadata": {},
   "source": [
    "# Dynamic systems: 11. Reactions\n",
    "## Diffusion, advection, reaction\n",
    "----\n",
    "*Georg Kaufmann,\n",
    "Geophysics Section,\n",
    "Institute of Geological Sciences,\n",
    "Freie Universität Berlin,\n",
    "Germany*"
   ]
  },
  {
   "cell_type": "markdown",
   "id": "1321ed07",
   "metadata": {},
   "source": [
    "----\n",
    "In this notebook, we derive operators for numerically calculating **diffusion** and **advection**\n",
    "terms. We start with **one-dimensional functions**, then expand to **two dimenions**."
   ]
  },
  {
   "cell_type": "code",
   "execution_count": 1,
   "id": "015bafbb",
   "metadata": {},
   "outputs": [],
   "source": [
    "import numpy as np\n",
    "import matplotlib.pyplot as plt\n",
    "import scipy.sparse as sp"
   ]
  },
  {
   "cell_type": "markdown",
   "id": "bb97bcc3",
   "metadata": {},
   "source": [
    "----\n",
    "## 1D function\n",
    "\n",
    "Consider the 1D function $f(x)$ and its first and second derivative:\n",
    "$$\n",
    "\\begin{array}{rcl}\n",
    "f(x) &=& x^2 \\\\\n",
    "\\frac{d}{dx} f(x) &=& 2x \\\\\n",
    "\\frac{d^2}{dx^2} f(x) &=& 2\n",
    "\\end{array}\n",
    "$$\n",
    "We define these three functions and plot them in the interval $x \\in [-3,3]$:"
   ]
  },
  {
   "cell_type": "code",
   "execution_count": 2,
   "id": "7af37f15",
   "metadata": {},
   "outputs": [],
   "source": [
    "def f(x):\n",
    "    return x**2\n",
    "\n",
    "def df(x):\n",
    "    return 2*x\n",
    "\n",
    "def d2f(x):\n",
    "    return 2.*np.ones(len(x))"
   ]
  },
  {
   "cell_type": "code",
   "execution_count": 3,
   "id": "9c6aa1ed",
   "metadata": {},
   "outputs": [],
   "source": [
    "def gradient1D(f,x,dx):\n",
    "    gradient1D = (f(x+dx)-f(x-dx)) / (2*dx)\n",
    "    return gradient1D\n",
    "\n",
    "def laplacian1D(f,x,dx):\n",
    "    laplacian1D = (f(x+dx)+f(x-dx)-2*f(x)) / (dx**2)\n",
    "    return laplacian1D"
   ]
  },
  {
   "cell_type": "code",
   "execution_count": 4,
   "id": "baacbf0d",
   "metadata": {},
   "outputs": [],
   "source": [
    "nx = 21\n",
    "x  = np.linspace(-3,3,nx)\n",
    "dx = x[1]-x[0]"
   ]
  },
  {
   "cell_type": "code",
   "execution_count": 5,
   "id": "ae3c5e05",
   "metadata": {},
   "outputs": [
    {
     "data": {
      "text/plain": [
       "<matplotlib.legend.Legend at 0x1406d1670>"
      ]
     },
     "execution_count": 5,
     "metadata": {},
     "output_type": "execute_result"
    },
    {
     "data": {
      "image/png": "[encoded data removed]",
      "text/plain": [
       "<Figure size 720x432 with 1 Axes>"
      ]
     },
     "metadata": {
      "needs_background": "light"
     },
     "output_type": "display_data"
    }
   ],
   "source": [
    "plt.figure(figsize=(10,6))\n",
    "plt.xlabel('x')\n",
    "plt.ylabel('y')\n",
    "plt.grid(alpha=0.3)\n",
    "plt.plot(x,gradient1D(f,x,dx),linewidth=6,color='blue',alpha=0.4,label='gradient1D')\n",
    "plt.plot(x,laplacian1D(f,x,dx),linewidth=6,color='green',alpha=0.4,label='laplacian1D')\n",
    "plt.plot(x,f(x),linewidth=1,color='red',label='$f(x)$')\n",
    "plt.plot(x,df(x),linewidth=1,color='blue',label='$f\\'(x)$')\n",
    "plt.plot(x,d2f(x),linewidth=1,color='green',label='$f\\'\\'(x)$')\n",
    "plt.legend()"
   ]
  },
  {
   "cell_type": "code",
   "execution_count": 6,
   "id": "580c875a",
   "metadata": {},
   "outputs": [],
   "source": [
    "def Diff1D(Nx,dx):\n",
    "    \n",
    "    # First derivative\n",
    "    Diff1D_dfdx = sp.diags([-1, 1], [-1, 1], shape = (Nx,Nx)) # A division by (2*dx) is required later.\n",
    "    Diff1D_dfdx = sp.lil_matrix(Diff1D_dfdx)\n",
    "    Diff1D_dfdx[0,[0,1,2]] = [-3, 4, -1]               # this is 2nd order forward difference (2*dx division is required)\n",
    "    Diff1D_dfdx[Nx-1,[Nx-3, Nx-2, Nx-1]] = [1, -4, 3]  # this is 2nd order backward difference (2*dx division is required)\n",
    "    Diff1D_dfdx = Diff1D_dfdx / (2*dx)\n",
    "    \n",
    "    # Second derivative\n",
    "    Diff1D_d2fdx2 =  sp.diags([1, -2, 1], [-1,0,1], shape = (Nx, Nx)) # division by dx^2 required\n",
    "    Diff1D_d2fdx2 = sp.lil_matrix(Diff1D_d2fdx2)                  \n",
    "    Diff1D_d2fdx2[0,[0,1,2,3]] = [2, -5, 4, -1]                    # this is 2nd order forward difference. division by dx^2 required. \n",
    "    Diff1D_d2fdx2[Nx-1,[Nx-4, Nx-3, Nx-2, Nx-1]] = [-1, 4, -5, 2]  # this is 2nd order backward difference. division by dx^2 required.\n",
    "    Diff1D_d2fdx2 = Diff1D_d2fdx2 / (dx**2)\n",
    "    \n",
    "    return Diff1D_dfdx, Diff1D_d2fdx2"
   ]
  },
  {
   "cell_type": "code",
   "execution_count": 7,
   "id": "1d313c63",
   "metadata": {},
   "outputs": [],
   "source": [
    "Diff1D_dfdx, Diff1D_d2fdx2 = Diff1D(nx,dx)"
   ]
  },
  {
   "cell_type": "code",
   "execution_count": 9,
   "id": "4ecb5609",
   "metadata": {},
   "outputs": [
    {
     "data": {
      "text/plain": [
       "<matplotlib.legend.Legend at 0x1407a6070>"
      ]
     },
     "execution_count": 9,
     "metadata": {},
     "output_type": "execute_result"
    },
    {
     "data": {
      "image/png": "[encoded data removed]",
      "text/plain": [
       "<Figure size 720x432 with 1 Axes>"
      ]
     },
     "metadata": {
      "needs_background": "light"
     },
     "output_type": "display_data"
    }
   ],
   "source": [
    "plt.figure(figsize=(10,6))\n",
    "plt.xlabel('x')\n",
    "plt.ylabel('y')\n",
    "plt.grid(alpha=0.3)\n",
    "plt.plot(x,Diff1D_dfdx*f(x),linewidth=6,color='blue',alpha=0.4,label='gradient1D')\n",
    "plt.plot(x,Diff1D_d2fdx2*f(x),linewidth=6,color='green',alpha=0.4,label='laplacian1D')\n",
    "plt.plot(x,f(x),linewidth=1,color='red',label='$f(x)$')\n",
    "plt.plot(x,df(x),linewidth=1,color='blue',label='$f\\'(x)$')\n",
    "plt.plot(x,d2f(x),linewidth=1,color='green',label='$f\\'\\'(x)$')\n",
    "plt.legend()"
   ]
  },
  {
   "cell_type": "markdown",
   "id": "95cd80eb",
   "metadata": {},
   "source": [
    "----\n",
    "## 2D function\n",
    "\n",
    "Next, consider the 2D function $f(x,y)$ and its first and second derivative:\n",
    "$$\n",
    "\\begin{array}{rcl}\n",
    "f(x,y) &=& x^2+y^2 \\\\\n",
    "\\nabla f(x,y) &=& \\left( 2x,2y \\right)^T \\\\\n",
    "\\nabla^2 f(x,y) &=& 4\n",
    "\\end{array}\n",
    "$$\n",
    "Here, $\\nabla=(\\frac{d}{dx},\\frac{d}{dy})^T$ and \n",
    "$\\nabla^2=\\Delta=(\\frac{d^2}{dx^2}+\\frac{d^2}{dy^2})$\n",
    "holds.\n",
    "\n",
    "We define these three functions and plot them in the interval $x \\in [-4,4]$:"
   ]
  },
  {
   "cell_type": "code",
   "execution_count": null,
   "id": "f7eb86c0",
   "metadata": {},
   "outputs": [],
   "source": [
    "def fxy(x,y):\n",
    "    fxy = np.zeros(len(x)*len(y)).reshape(len(x),len(y))\n",
    "    fxy = 0.2*np.random.random(nx*ny).reshape(len(x),len(y))\n",
    "    for i in range(len(x)):\n",
    "        for j in range(len(y)):\n",
    "            fxy[i,j] = fxy[i,j] + x[i]**2+y[j]**2 \n",
    "    return fxy\n",
    "\n",
    "def dfxy(x,y):\n",
    "    dxfxy = np.zeros(len(x)*len(y)).reshape(len(x),len(y))\n",
    "    dyfxy = np.zeros(len(x)*len(y)).reshape(len(x),len(y))\n",
    "    for i in range(len(x)):\n",
    "        for j in range(len(y)):\n",
    "            dxfxy[i,j] = 2*x[i]\n",
    "            dyfxy[i,j] = 2*y[j]\n",
    "    return dxfxy,dyfxy\n",
    "\n",
    "def d2fxy(x,y):\n",
    "    d2fxy = np.zeros(len(x)*len(y)).reshape(len(x),len(y))\n",
    "    for i in range(len(x)):\n",
    "        for j in range(len(y)):\n",
    "            d2fxy[i,j] = 4\n",
    "    return d2fxy"
   ]
  },
  {
   "cell_type": "code",
   "execution_count": null,
   "id": "532ebe3a",
   "metadata": {},
   "outputs": [],
   "source": [
    "nx = 21\n",
    "ny = 21\n",
    "x = np.linspace(-4,4,nx)\n",
    "y = np.linspace(-3,3,ny)\n",
    "dx = x[1]-x[0]\n",
    "dy = y[1]-y[0]"
   ]
  },
  {
   "cell_type": "code",
   "execution_count": null,
   "id": "450e84ce",
   "metadata": {},
   "outputs": [],
   "source": [
    "fig,axs = plt.subplots(1,3,figsize=(14,5))\n",
    "axs[0].set_title('f(x,y)')\n",
    "axs[0].contourf(x,y,fxy(x,y))\n",
    "cs0=axs[0].contour(x,y,fxy(x,y),colors='white')\n",
    "axs[0].clabel(cs0, inline=1, fontsize=10,fmt='%5.1f',colors='black')\n",
    "\n",
    "axs[1].set_title('$\\\\nabla$f(x,y)')\n",
    "axs[1].contourf(x,y,dfxy(x,y)[0])\n",
    "csx=axs[1].contour(x,y,dfxy(x,y)[0],colors='white')\n",
    "csy=axs[1].contour(x,y,dfxy(x,y)[1],colors='red',alpha=0.3)\n",
    "axs[1].clabel(csx, inline=1, fontsize=10,fmt='%5.1f',colors='black')\n",
    "\n",
    "axs[2].set_title('$\\\\nabla^2$f(x,y)')\n",
    "axs[2].contourf(x,y,d2fxy(x,y))\n",
    "csxy=axs[2].contour(x,y,d2fxy(x,y),colors='white')\n",
    "axs[2].clabel(csxy, inline=1, fontsize=10,fmt='%5.1f',colors='black')\n",
    "\n",
    "plt.tight_layout()"
   ]
  },
  {
   "cell_type": "code",
   "execution_count": null,
   "id": "bceaf7f4",
   "metadata": {},
   "outputs": [],
   "source": [
    "def Diff2D(nx,ny,dx,dy):\n",
    "    # 1D differentiation matrices\n",
    "    Diff1D_dfdx, Diff1D_d2fdx2 = Diff1D(nx,dx)\n",
    "    Diff1D_dfdy, Diff1D_d2fdy2 = Diff1D(ny,dy)\n",
    "\n",
    "    # Sparse identity matrices\n",
    "    Ix = sp.eye(nx)\n",
    "    Iy = sp.eye(ny)\n",
    "\n",
    "    # 2D matrix operators from 1D operators using kronecker product\n",
    "    # First partial derivatives\n",
    "    Diff2D_dfdx = sp.kron(Iy,Diff1D_dfdx)\n",
    "    Diff2D_dfdy = sp.kron(Diff1D_dfdy,Ix)\n",
    "    \n",
    "    # Second partial derivatives\n",
    "    Diff2D_d2fdx2 = sp.kron(Iy,Diff1D_d2fdx2)\n",
    "    Diff2D_d2fdy2 = sp.kron(Diff1D_d2fdy2,Ix)\n",
    "     \n",
    "    # Return compressed Sparse Row format of the sparse matrices\n",
    "    return Diff2D_dfdx.tocsr(), Diff2D_dfdy.tocsr(), Diff2D_d2fdx2.tocsr(), Diff2D_d2fdy2.tocsr()"
   ]
  },
  {
   "cell_type": "code",
   "execution_count": null,
   "id": "b3da0436",
   "metadata": {},
   "outputs": [],
   "source": [
    "Diff2D_dfdx, Diff2D_dfdy, Diff2D_d2fdx2, Diff2D_d2fdy2 = Diff2D(nx,ny,dx,dy)\n",
    "print(Diff2D_dfdx.shape)\n",
    "\n",
    "dfxydx = (Diff2D_dfdx*fxy(x,y).ravel()).reshape([nx,ny])\n",
    "dfxydy = (Diff2D_dfdy*fxy(x,y).ravel()).reshape([nx,ny])\n",
    "d2fxydxdy = (Diff2D_d2fdx2*fxy(x,y).ravel()).reshape([nx,ny])+(Diff2D_d2fdy2*fxy(x,y).ravel()).reshape([nx,ny])"
   ]
  },
  {
   "cell_type": "code",
   "execution_count": null,
   "id": "40b5974f",
   "metadata": {},
   "outputs": [],
   "source": [
    "fig,axs = plt.subplots(1,3,figsize=(14,5))\n",
    "axs[0].set_title('f(x,y)')\n",
    "axs[0].contourf(x,y,fxy(x,y))\n",
    "cs0=axs[0].contour(x,y,fxy(x,y),colors='white')\n",
    "axs[0].clabel(cs0, inline=1, fontsize=10,fmt='%5.1f',colors='black')\n",
    "\n",
    "axs[1].set_title('$\\\\nabla$f(x,y)')\n",
    "axs[1].contourf(x,y,dfxy(x,y)[0])\n",
    "csx=axs[1].contour(x,y,dfxydx,colors='white')\n",
    "csy=axs[1].contour(x,y,dfxydy,colors='red',alpha=0.3)\n",
    "axs[1].clabel(csx, inline=1, fontsize=10,fmt='%5.1f',colors='black')\n",
    "\n",
    "axs[2].set_title('$\\\\nabla^2$f(x,y)')\n",
    "axs[2].contourf(x,y,d2fxy(x,y))\n",
    "csxy=axs[2].contour(x,y,d2fxydxdy,colors='white')\n",
    "axs[2].clabel(csxy, inline=1, fontsize=10,fmt='%5.1f',colors='black')\n",
    "\n",
    "plt.tight_layout()"
   ]
  },
  {
   "cell_type": "markdown",
   "id": "924b5d58",
   "metadata": {},
   "source": [
    "... done"
   ]
  }
 ],
 "metadata": {
  "kernelspec": {
   "display_name": "Python 3 (ipykernel)",
   "language": "python",
   "name": "python3"
  },
  "language_info": {
   "codemirror_mode": {
    "name": "ipython",
    "version": 3
   },
   "file_extension": ".py",
   "mimetype": "text/x-python",
   "name": "python",
   "nbconvert_exporter": "python",
   "pygments_lexer": "ipython3",
   "version": "3.9.6"
  }
 },
 "nbformat": 4,
 "nbformat_minor": 5
}
