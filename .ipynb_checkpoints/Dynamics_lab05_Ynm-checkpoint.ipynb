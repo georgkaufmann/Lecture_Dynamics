{
 "cells": [
  {
   "cell_type": "markdown",
   "id": "337340bb",
   "metadata": {},
   "source": [
    "<table>\n",
    "<tr><td><img style=\"height: 150px;\" src=\"images/geo_hydro1.jpg\"></td>\n",
    "<td bgcolor=\"#FFFFFF\">\n",
    "    <p style=\"font-size: xx-large; font-weight: 900; line-height: 100%\">AG Dynamics of the Earth</p>\n",
    "    <p style=\"font-size: large; color: rgba(0,0,0,0.5);\">Jupyter notebooks</p>\n",
    "    <p style=\"font-size: large; color: rgba(0,0,0,0.5);\">Georg Kaufmann</p>\n",
    "    </td>\n",
    "</tr>\n",
    "</table>"
   ]
  },
  {
   "cell_type": "markdown",
   "id": "20664f81",
   "metadata": {},
   "source": [
    "# Dynamic systems: 5. Gravity\n",
    "## Spherical harmonics\n",
    "---\n",
    "*Georg Kaufmann,\n",
    "Geophysics Section,\n",
    "Institute of Geological Sciences,\n",
    "Freie Universität Berlin,\n",
    "Germany*\n",
    "\n",
    "In this notebook, we introduce **spherical harmonics** as function space.\n",
    "\n",
    "We discuss:\n",
    "\n",
    "- **Legendre** polynomials $P_n$\n",
    "- **Associated Legendre** polynomials $P_{nm}$\n",
    "- **Spherical harmonics** $Y_{nm}$\n",
    "\n",
    "We start importing libraries first:"
   ]
  },
  {
   "cell_type": "code",
   "execution_count": null,
   "id": "c2973f6c",
   "metadata": {},
   "outputs": [],
   "source": [
    "import matplotlib.pyplot as plt\n",
    "import numpy as np\n",
    "import math\n",
    "from scipy.special import lpn,lpmn\n",
    "from scipy.special import sph_harm"
   ]
  },
  {
   "cell_type": "markdown",
   "id": "cbb2ae42",
   "metadata": {},
   "source": [
    "----\n",
    "## Legendre polynomials\n",
    "\n",
    "We refer to the recursive equation for Legendre polynomials, defined on $x \\in [-1,1]$:\n",
    "$$\n",
    " P_n(x) = -\\frac{n-1}{n} P_{n-2}(x)\n",
    "          +\\frac{2n-1}{n} x P_{n-1}(x),\n",
    "$$\n",
    "where we have to know the first two polynomials:\n",
    "$$\n",
    "\\begin{array}{rcl}\n",
    "P_0(x) &=& 1 \\\\\n",
    "P_1(x) &=& x\n",
    "\\end{array}\n",
    "$$\n",
    "\n",
    "We start defining the array for the argument $x$, then we call the function `lpn` from\n",
    "the `scipy.special` package for degree $n \\in [0,n_{max}]$."
   ]
  },
  {
   "cell_type": "code",
   "execution_count": null,
   "id": "7ef64af3",
   "metadata": {},
   "outputs": [],
   "source": [
    "nmax = 5\n",
    "x = np.linspace(-1,1,51)\n",
    "Pn = np.zeros(len(x)*(nmax+1)).reshape(nmax+1,len(x))\n",
    "print(Pn.shape)\n",
    "\n",
    "for i in range(len(x)):\n",
    "    tmp = lpn(nmax,x[i])\n",
    "    for n in range(nmax+1):\n",
    "        Pn[n,i] = tmp[0][n]"
   ]
  },
  {
   "cell_type": "code",
   "execution_count": null,
   "id": "c3fc224b",
   "metadata": {},
   "outputs": [],
   "source": [
    "plt.figure(figsize=(10,6))\n",
    "plt.xlim([-1.1,1.1])\n",
    "plt.ylim([-1.1,1.1])\n",
    "plt.xlabel('x')\n",
    "plt.ylabel('P$_{n}$(x)')\n",
    "plt.grid(linestyle='--')\n",
    "for n in range(nmax+1):\n",
    "    plt.plot(x,Pn[n,:],linewidth=3,label='P$_{'+str(n)+'}$')\n",
    "plt.legend()"
   ]
  },
  {
   "cell_type": "markdown",
   "id": "b801b722",
   "metadata": {},
   "source": [
    "----\n",
    "## Associated Legendre polynomials\n",
    "\n",
    "Next, we refer to the **associated Legendre Polynomials**, $P_n^m(x)$ with the\n",
    "recursive equation:\n",
    "$$\n",
    "(n-m+1) P_{n+1}^{m}(x) = (2n+1) x P_{n}^{m}(x) - (l+m) P_{n-1}^{m}(x)\n",
    "$$\n",
    "We normalize the calculated associated Legendre polynomials:\n",
    "$$\n",
    "P_{nm} = \\sqrt{2n+1} \\frac{(n-m)!}{(n+m)!} P_n^m\n",
    "$$"
   ]
  },
  {
   "cell_type": "code",
   "execution_count": null,
   "id": "1371d37a",
   "metadata": {},
   "outputs": [],
   "source": [
    "nmax = 5\n",
    "mmax = nmax\n",
    "x = np.linspace(-1,1,101)\n",
    "Pnm = np.zeros(len(x)*(nmax+1)*(mmax+1)).reshape(nmax+1,mmax+1,len(x))\n",
    "print(Pnm.shape)\n",
    "\n",
    "for i in range(len(x)):\n",
    "    tmp = lpmn(mmax,nmax,x[i])\n",
    "    for n in range(nmax+1):\n",
    "        for m in range(nmax+1):\n",
    "            #print(n,m)\n",
    "            if (m == 0):\n",
    "                norm = np.sqrt(2*(2*n+1))\n",
    "            elif (m > n):\n",
    "                norm = 0.\n",
    "            else:\n",
    "                norm = np.sqrt((2*n+1)*math.factorial(n-m)/math.factorial(n+m))\n",
    "            Pnm[n,m,i] = norm*tmp[0][m,n]"
   ]
  },
  {
   "cell_type": "code",
   "execution_count": null,
   "id": "095dab5c",
   "metadata": {},
   "outputs": [],
   "source": [
    "plt.figure(figsize=(10,6))\n",
    "plt.xlim([-1.1,1.1])\n",
    "plt.ylim([-3,3])\n",
    "plt.xlabel('x')\n",
    "plt.ylabel('P$_{nm}$(x)')\n",
    "plt.grid(linestyle='--')\n",
    "\n",
    "n = nmax\n",
    "for m in range(n+1):\n",
    "    plt.plot(x,Pnm[n,m,:],linewidth=3,label='P$_{'+str(n)+str(m)+'}$')\n",
    "plt.legend()"
   ]
  },
  {
   "cell_type": "markdown",
   "id": "28d0b1fe",
   "metadata": {},
   "source": [
    "----\n",
    "## Spherical harmonics\n",
    "\n",
    "$$\n",
    "Y_{nm}(\\vartheta,\\Phi) = \\sqrt{\\frac{2n+1}{4\\pi} \\frac{(n-m)!}{(n+m)!}} P_n^m(\\cos\\vartheta) e^{im \\Phi}\n",
    "$$\n",
    "with\n",
    "- $\\Theta \\in [90,-90]$ latitude\n",
    "- $\\vartheta \\in [0,180]$ co-latitude\n",
    "- $\\Phi \\in [0,360]$ longitude\n",
    "\n",
    "Note: $x=\\cos(\\vartheta)$.\n",
    "\n",
    "Note: **Latitude** $\\Theta$ and **Co-latitude** $\\vartheta$ are (roughly) related through:\n",
    "$$\n",
    "\\Theta = 90 - \\vartheta\n",
    "$$"
   ]
  },
  {
   "cell_type": "code",
   "execution_count": null,
   "id": "0d00c975",
   "metadata": {},
   "outputs": [],
   "source": [
    "# define coordinates\n",
    "d2r   = np.pi/180.\n",
    "dlong = 101 #21\n",
    "dcolat = 51 #11\n",
    "colat = np.linspace(0, np.pi, dcolat)\n",
    "long  = np.linspace(0, 2*np.pi, dlong)\n",
    "colat, long = np.meshgrid(colat, long)\n",
    "print(colat.shape)"
   ]
  },
  {
   "cell_type": "code",
   "execution_count": null,
   "id": "54ff0eea",
   "metadata": {},
   "outputs": [],
   "source": [
    "n=2;m=0\n",
    "Ynm = sph_harm(m, n, long, colat)\n",
    "\n",
    "fig,axs = plt.subplots(2,1,figsize=(10,10))\n",
    "axs[0].set_title('P$_{'+str(n)+str(m)+'}(\\\\theta) cos(\\\\phi)$')\n",
    "axs[0].set_ylabel('Latitude [$^{\\circ}$]')\n",
    "axs[0].contourf(long/d2r,90-colat/d2r,Ynm.real)\n",
    "axs[1].set_title('P$_{'+str(n)+str(m)+'}(\\\\theta) sin(\\\\phi)$')\n",
    "axs[1].contourf(long/d2r,90-colat/d2r,Ynm.imag)\n",
    "axs[1].set_xlabel('Longitude [$^{\\circ}$]')\n",
    "axs[1].set_ylabel('Latitude [$^{\\circ}$]')"
   ]
  },
  {
   "cell_type": "code",
   "execution_count": null,
   "id": "6ca7c32c",
   "metadata": {},
   "outputs": [],
   "source": [
    "n=2;m=1\n",
    "Ynm = sph_harm(m, n, long, colat)\n",
    "\n",
    "fig,axs = plt.subplots(2,1,figsize=(10,10))\n",
    "axs[0].set_title('P$_{'+str(n)+str(m)+'}(\\\\theta) cos(\\\\phi)$')\n",
    "axs[0].set_ylabel('Latitude [$^{\\circ}$]')\n",
    "axs[0].contourf(long/d2r,90-colat/d2r,Ynm.real)\n",
    "axs[1].set_title('P$_{'+str(n)+str(m)+'}(\\\\theta) sin(\\\\phi)$')\n",
    "axs[1].contourf(long/d2r,90-colat/d2r,Ynm.imag)\n",
    "axs[1].set_xlabel('Longitude [$^{\\circ}$]')\n",
    "axs[1].set_ylabel('Latitude [$^{\\circ}$]')"
   ]
  },
  {
   "cell_type": "code",
   "execution_count": null,
   "id": "8739d122",
   "metadata": {},
   "outputs": [],
   "source": [
    "n=2;m=2\n",
    "Ynm = sph_harm(m, n, long, colat)\n",
    "\n",
    "fig,axs = plt.subplots(2,1,figsize=(10,10))\n",
    "axs[0].set_title('P$_{'+str(n)+str(m)+'}(\\\\theta) cos(\\\\phi)$')\n",
    "axs[0].set_ylabel('Latitude [$^{\\circ}$]')\n",
    "axs[0].contourf(long/d2r,90-colat/d2r,Ynm.real)\n",
    "axs[1].set_title('P$_{'+str(n)+str(m)+'}(\\\\theta) sin(\\\\phi)$')\n",
    "axs[1].contourf(long/d2r,90-colat/d2r,Ynm.imag)\n",
    "axs[1].set_xlabel('Longitude [$^{\\circ}$]')\n",
    "axs[1].set_ylabel('Latitude [$^{\\circ}$]')"
   ]
  },
  {
   "cell_type": "markdown",
   "id": "705f3d0e",
   "metadata": {},
   "source": [
    "... done"
   ]
  }
 ],
 "metadata": {
  "kernelspec": {
   "display_name": "Python 3 (ipykernel)",
   "language": "python",
   "name": "python3"
  },
  "language_info": {
   "codemirror_mode": {
    "name": "ipython",
    "version": 3
   },
   "file_extension": ".py",
   "mimetype": "text/x-python",
   "name": "python",
   "nbconvert_exporter": "python",
   "pygments_lexer": "ipython3",
   "version": "3.9.6"
  }
 },
 "nbformat": 4,
 "nbformat_minor": 5
}
