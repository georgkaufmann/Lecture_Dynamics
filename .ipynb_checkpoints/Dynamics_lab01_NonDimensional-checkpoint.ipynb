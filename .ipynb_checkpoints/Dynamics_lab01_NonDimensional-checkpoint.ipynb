{
 "cells": [
  {
   "cell_type": "markdown",
   "metadata": {},
   "source": [
    "<table>\n",
    "<tr><td><img style=\"height: 150px;\" src=\"images/geo_hydro1.jpg\"></td>\n",
    "<td bgcolor=\"#FFFFFF\">\n",
    "    <p style=\"font-size: xx-large; font-weight: 900; line-height: 100%\">AG Dynamics of the Earth</p>\n",
    "    <p style=\"font-size: large; color: rgba(0,0,0,0.5);\">Jupyter notebooks</p>\n",
    "    <p style=\"font-size: large; color: rgba(0,0,0,0.5);\">Georg Kaufmann</p>\n",
    "    </td>\n",
    "</tr>\n",
    "</table>"
   ]
  },
  {
   "cell_type": "markdown",
   "metadata": {},
   "source": [
    "# Dynamic systems: 1. Introduction\n",
    "## Non-dimensional equations\n",
    "----\n",
    "*Georg Kaufmann,\n",
    "Geophysics Section,\n",
    "Institute of Geological Sciences,\n",
    "Freie Universität Berlin,\n",
    "Germany*\n",
    "\n",
    "In this notebook, we scale transport and Navier-Stokes equations by typical scale value. \n",
    "Our goal is to obtain **non-dimensional** equations better suited for solving numerically."
   ]
  },
  {
   "cell_type": "markdown",
   "metadata": {},
   "source": [
    "----\n",
    "## Transport and Navier-Stokes equations\n",
    "\n",
    "The **continuity equation** describes the flux of temperature $T$ through a medium:\n",
    "$$\\fbox{$\n",
    " \\frac{\\partial T}{\\partial t} + \\vec{u} \\cdot \\nabla T  = \\kappa_T \\nabla^2 T + \\frac{H^*}{\\rho c_p}\n",
    "$}$$\n",
    "The **Navier-Stokes equation** for a viscous fluid reads:\n",
    "$$\\fbox{$\n",
    "\\frac{\\partial \\vec{u}}{\\partial t}\n",
    "+ \\left( \\vec{u} \\cdot \\nabla \\right) \\vec{u}\n",
    "= - \\frac{1}{\\rho} \\nabla p\n",
    "+ \\frac{\\eta}{\\rho} \\Delta \\vec{u}\n",
    "- \\vec{g}\n",
    "$}$$\n",
    "with the independent variable\n",
    "- $t$ [s] time,\n",
    "\n",
    "the three unknown variables\n",
    "- $T$ [K] temperature,\n",
    "- $\\vec{u}$ [m/s] velocity,\n",
    "- $p$ [Pa] pressure,\n",
    "\n",
    "and the parameters\n",
    "- $\\rho$ [kg/m$^3$] density,\n",
    "- $c_p$ [W/m$^3$] specific heat,\n",
    "- $\\eta$ [Pa s] dynamic viscosity,\n",
    "- $\\vec{g}$ [m/s$^2$] gravitational acceleration,\n",
    "- $\\nabla$ [1/m] Nabla operator,\n",
    "- $\\kappa_T$ [m$^2$/s] thermal diffusivity, and\n",
    "- $H^*$ [W/m$^3$] heat sources.\n",
    "\n",
    "We can rewrite the ration $\\eta / \\rho$ as \n",
    "- $\\mu=\\frac{\\eta}{\\rho}$ [m$^2$/s] kinematic viscosity"
   ]
  },
  {
   "cell_type": "markdown",
   "metadata": {},
   "source": [
    "----\n",
    "## Scaling relations -1-\n",
    "\n",
    "We first define scaling relations:\n",
    "$$\n",
    "\\begin{array}{rrcl}\n",
    "\\mbox{Length} & \\vec{r}^* &=& \\frac{\\vec{r}}{L} \\\\\n",
    "\\mbox{Velocity} & \\vec{u}^* &=& \\frac{\\vec{u}}{U} \\\\\n",
    "\\mbox{Time} & t^* &=& \\frac{t}{L/U} \\\\\n",
    "\\mbox{Temperature} & T^* &=& \\frac{T}{\\Delta T} \\\\\n",
    "\\mbox{Pressure} & p^* &=& \\left\\{ \\begin{array}{cl} \\frac{p}{\\rho U^2} & \\eta \\mbox{ small} \\\\ \\frac{p L}{\\mu U} & \\eta \\mbox{ large} \\end{array} \\right.\n",
    "\\end{array}\n",
    "$$\n",
    "\n",
    "The non-dimensional temperature and Navier-Stokes equations then follow:\n",
    "$$\\fbox{$\n",
    "\\frac{\\partial \\vec{T}^*}{\\partial t^*}\n",
    "+ \\left( \\vec{u}^* \\cdot \\nabla^* \\right) T^*\n",
    "= \\frac{1}{Pe} \\Delta^* \\vec{u}^*\n",
    "$}$$\n",
    "$$\\fbox{$\n",
    "\\frac{\\partial \\vec{u}^*}{\\partial t^*}\n",
    "+ \\left( \\vec{u}^* \\cdot \\nabla^* \\right) \\vec{u}^*\n",
    "= - \\nabla^* p^*\n",
    "+ \\frac{1}{Re} \\Delta^* \\vec{u}^*\n",
    "- \\frac{1}{Fr^2} \\vec{g}^*\n",
    "$}$$\n",
    "\n",
    "- **Peclet number:**\n",
    "Describes the ratio of advection to diffusion:\n",
    "$$\n",
    "Pe = \\frac{U L}{\\kappa}\n",
    "$$\n",
    "- **Reynolds number:**\n",
    "Describes the ratio of inertial to viscous forces:\n",
    "$$\n",
    "Re = \\frac{U L}{\\mu}\n",
    "$$\n",
    "- **Froude number:**\n",
    "Describes the ratio of inertial to gravity forces:\n",
    "$$\n",
    "Fr = \\frac{U}{\\sqrt{g L}}\n",
    "$$"
   ]
  },
  {
   "cell_type": "markdown",
   "metadata": {},
   "source": [
    "----\n",
    "## Scaling relations -2-\n",
    "\n",
    "When we additionally assume that the density varies with temperature,\n",
    "$$\n",
    "\\rho = \\rho_0 \\left( 1 - \\alpha T \\right)\n",
    "$$\n",
    "with\n",
    "- $\\rho_0$ [kg/m$^3$] reference density,\n",
    "- $\\alpha$ [1/K] thermal expansion,\n",
    "\n",
    "then we arrive at the mantle convection equations, which need a different non-dimenionalisation.\n",
    "\n",
    "...\n",
    "\n",
    "- **Rayleigh number:**\n",
    "Describes the ratio of diffusive to convective time scales for thermal convection:\n",
    "$$\n",
    "Ra = \\frac{\\rho g \\alpha \\Delta T L^3}{\\eta \\kappa}\n",
    "$$"
   ]
  },
  {
   "cell_type": "markdown",
   "metadata": {},
   "source": [
    "... done"
   ]
  }
 ],
 "metadata": {
  "kernelspec": {
   "display_name": "Python 3 (ipykernel)",
   "language": "python",
   "name": "python3"
  },
  "language_info": {
   "codemirror_mode": {
    "name": "ipython",
    "version": 3
   },
   "file_extension": ".py",
   "mimetype": "text/x-python",
   "name": "python",
   "nbconvert_exporter": "python",
   "pygments_lexer": "ipython3",
   "version": "3.9.6"
  }
 },
 "nbformat": 4,
 "nbformat_minor": 2
}
