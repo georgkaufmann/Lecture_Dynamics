{
 "cells": [
  {
   "cell_type": "markdown",
   "metadata": {},
   "source": [
    "<table>\n",
    "<tr><td><img style=\"height: 150px;\" src=\"images/geo_hydro1.jpg\"></td>\n",
    "<td bgcolor=\"#FFFFFF\">\n",
    "    <p style=\"font-size: xx-large; font-weight: 900; line-height: 100%\">AG Dynamics of the Earth</p>\n",
    "    <p style=\"font-size: large; color: rgba(0,0,0,0.5);\">Jupyter notebooks</p>\n",
    "    <p style=\"font-size: large; color: rgba(0,0,0,0.5);\">Georg Kaufmann</p>\n",
    "    </td>\n",
    "</tr>\n",
    "</table>"
   ]
  },
  {
   "cell_type": "markdown",
   "metadata": {},
   "source": [
    "# Dynamic systems: 11. Reactions\n",
    "## Three reactants\n",
    "----\n",
    "*Georg Kaufmann,\n",
    "Geophysics Section,\n",
    "Institute of Geological Sciences,\n",
    "Freie Universität Berlin,\n",
    "Germany*"
   ]
  },
  {
   "cell_type": "markdown",
   "metadata": {},
   "source": [
    "----\n",
    "In this notebook, we solve the continuity equation for **three reactants** with terms for:\n",
    "- advection\n",
    "- diffusion\n",
    "- source-sink\n",
    "- reaction\n",
    "- decay"
   ]
  },
  {
   "cell_type": "markdown",
   "metadata": {},
   "source": [
    "----\n",
    "## 2D advection-diffusion-reaction equation\n",
    "\n",
    "Check the [Fenics project](https://fenicsproject.org/pub/tutorial/html/._ftut1010.html) for the equations.\n",
    "\n",
    "We consider the transport equations for species $A$, $B$ and $C$:\n",
    "$$\\fbox{$\n",
    "\\begin{array}{rcl}\n",
    "\\frac{\\partial A}{\\partial t}\n",
    "+ \\vec{u} \\cdot \\nabla A\n",
    "- \\nabla \\cdot (D_A \\nabla A) \n",
    "&=& f_A - \\lambda_A A \\\\\n",
    "\\frac{\\partial B}{\\partial t}\n",
    "+ \\vec{u} \\cdot \\nabla B\n",
    "- \\nabla \\cdot (D_B \\nabla B) \n",
    "&=& f_B - \\lambda_B B \\\\ \n",
    "\\frac{\\partial C}{\\partial t}\n",
    "+ \\vec{u} \\cdot \\nabla C\n",
    "- \\nabla \\cdot (D_C \\nabla C)\n",
    "&=& f_C - \\lambda_C C\n",
    "\\end{array}\n",
    "$}$$\n",
    "\n",
    "We rewrite the transport equation into a finite difference scheme with explicit time\n",
    "integration, using $\\frac{\\partial A}{\\partial t}=\\frac{A(t_{i+1})-A(t_i)}{\\Delta t}$:\n",
    "$$\n",
    "\\begin{array}{rcl}\n",
    "A(t_{i+1}) = A(t_i) +\n",
    "\\left[\n",
    "- \\vec{u} \\cdot \\nabla A\n",
    "+ \\nabla \\cdot (D_A \\nabla A)\n",
    "+ f_A\n",
    "- \\lambda_A A\n",
    "\\right] \\Delta t \\\\\n",
    "B(t_{i+1}) = B(t_i) +\n",
    "\\left[\n",
    "- \\vec{u} \\cdot \\nabla B\n",
    "+ \\nabla \\cdot (D_B \\nabla B)\n",
    "+ f_B\n",
    "- \\lambda_B B\n",
    "\\right] \\Delta t \\\\\n",
    "C(t_{i+1}) = C(t_i) +\n",
    "\\left[\n",
    "- \\vec{u} \\cdot \\nabla C\n",
    "+ \\nabla \\cdot (D_C \\nabla C)\n",
    "+ f_C\n",
    "- \\lambda_C C\n",
    "\\right] \\Delta t\n",
    "\\end{array}\n",
    "$$\n",
    "In the square brackets, we have the **advection term**, the **diffusion term**,\n",
    "a **source-sink/reaction term**, and a **decay term**.\n",
    "\n",
    "### Reaction\n",
    "\n",
    "The **reaction** considered is\n",
    "$$\n",
    "A + B \\stackrel{k_1}{<->} C\n",
    "$$\n",
    "which can be reformulated into the differential equations:\n",
    "$$\n",
    "\\begin{array}{rcl}\n",
    "\\frac{dA}{dt} = \\frac{dB}{dt} &=& - k_1 A B \\\\\n",
    "\\frac{dC}{dt} &=& k_1 A B\n",
    "\\end{array}\n",
    "$$\n",
    "Here, $k_1$ [m$^3$/mol/s] is the **reaction rate**.\n",
    "\n",
    "Thus our sink-source terms consist of the chemical reaction  of the species:\n",
    "$$\n",
    "\\begin{array}{rcl}\n",
    "f_A &=& - k_1 A B \\\\\n",
    "f_B &=& - k_1 A B \\\\\n",
    "f_C &=& + k_1 A B \n",
    "\\end{array}\n",
    "$$\n",
    "\n",
    "### Decay \n",
    "\n",
    "The **decay** considered is following an exponential decay model:\n",
    "$$\n",
    "C(t) = C_0 e^{-\\lambda_C t}\n",
    "$$\n",
    "which is the solution of the differential equation:\n",
    "$$\n",
    "\\frac{dC}{dt} = -\\lambda_C C\n",
    "$$\n",
    "Here, $\\lambda_C$ [1/s] is the **decay rate**."
   ]
  },
  {
   "cell_type": "code",
   "execution_count": 1,
   "metadata": {},
   "outputs": [],
   "source": [
    "import numpy as np\n",
    "import matplotlib.pyplot as plt"
   ]
  },
  {
   "cell_type": "markdown",
   "metadata": {},
   "source": [
    "## Set parameter values"
   ]
  },
  {
   "cell_type": "markdown",
   "metadata": {},
   "source": [
    "## Create mesh\n",
    "We solve the transport equation for three species $A, B, C$ in a 2D domain, with coordinates\n",
    "$x$ and $y$ [m], defined as 1D arrays with `linspace` from the `numpy` package, \n",
    "and then converted to 2D arrays, using `meshgrid` from the `numpy` package."
   ]
  },
  {
   "cell_type": "code",
   "execution_count": 2,
   "metadata": {},
   "outputs": [],
   "source": [
    "def create_mesh(xmin,xmax,ymin,ymax,nx=11,ny=11):\n",
    "    x,dx = np.linspace(xmin,xmax,nx,retstep=True)\n",
    "    y,dy = np.linspace(ymin,ymax,ny,retstep=True)\n",
    "    #dx = x[1]-x[0]\n",
    "    #dy = y[1]-y[0]\n",
    "    X,Y = np.meshgrid(x,y)\n",
    "    return X,Y,dx,dy"
   ]
  },
  {
   "cell_type": "code",
   "execution_count": 3,
   "metadata": {},
   "outputs": [
    {
     "name": "stdout",
     "output_type": "stream",
     "text": [
      "(21, 101) 0.1\n",
      "(21, 101) 0.1\n"
     ]
    }
   ],
   "source": [
    "xmin = 0. \n",
    "xmax = 10.\n",
    "ymin = -1. \n",
    "ymax = +1.\n",
    "nx   = 101\n",
    "ny   = 21\n",
    "X,Y,dx,dy = create_mesh(xmin,xmax,ymin,ymax,nx,ny)\n",
    "print(X.shape,dx)\n",
    "print(Y.shape,dy)"
   ]
  },
  {
   "cell_type": "markdown",
   "metadata": {},
   "source": [
    "We then need to define the parameter values for \n",
    "advection ($velx,vely$), \n",
    "diffusion ($D_A,D_B,D_C$), \n",
    "reaction ($k_1$), and decay ($\\lambda_A,\\lambda_B,\\lambda_C$),\n",
    "as well as time constraints.\n",
    "Time is defined as $t$ [s] on the interval [$t_{min},t_{max}$],\n",
    "and the time step is $dt$.\n",
    "\n",
    "We first set standard values:"
   ]
  },
  {
   "cell_type": "code",
   "execution_count": 4,
   "metadata": {},
   "outputs": [],
   "source": [
    "DA    = 1e-3\n",
    "DB    = 1e-3\n",
    "DC    = 1e-3\n",
    "lambA = 0.0\n",
    "lambB = 0.0\n",
    "lambC = 0.0\n",
    "k1    = 100.\n",
    "velx  = 0.1\n",
    "vely  = 0.\n",
    "tmin  = 0.\n",
    "tmax  = 110\n",
    "dt    = 0.001"
   ]
  },
  {
   "cell_type": "markdown",
   "metadata": {},
   "source": [
    "We then check the **Courant-Friedrich-Levi criteria** for stability:\n",
    "$$\n",
    "\\begin{array}{rcl}\n",
    "CFL_a &=& \\Delta t \\left( \\frac{u_x}{dx} + \\frac{u_y}{dy} \\right) < 1 \\\\\n",
    "CFL_d &=& \\Delta t \\left( \\frac{D_x}{dx} + \\frac{D_y}{dy} \\right) < 0.5\n",
    "\\end{array}\n",
    "$$\n",
    "The first one is for **advection**, the second one for **diffusion**."
   ]
  },
  {
   "cell_type": "code",
   "execution_count": 5,
   "metadata": {},
   "outputs": [
    {
     "name": "stdout",
     "output_type": "stream",
     "text": [
      "CFL_a:  0.001\n",
      "CFL_d:  0.0002\n"
     ]
    }
   ],
   "source": [
    "CFLa = dt * (velx/dx + vely/dy)\n",
    "CFLd = dt * (DA/dx**2 + DA/dy**2)\n",
    "print('CFL_a: ',round(CFLa,4))\n",
    "print('CFL_d: ',round(CFLd,4))"
   ]
  },
  {
   "cell_type": "markdown",
   "metadata": {},
   "source": [
    "## Initialize field values\n",
    "As initial conditions, we set the species $A$, $B$, and $C$ to zero, \n",
    "then add some random noise,\n",
    "and finally we inject $A=1$ in the top left part, and\n",
    "$B=1$ in the bottom left part.\n",
    "\n",
    "We also set up the velocity vector by defining 2D arrays for the $x$- and $y$-components\n",
    "of velocitiy, $Vx$ and $Vy$ [m/s]."
   ]
  },
  {
   "cell_type": "code",
   "execution_count": 6,
   "metadata": {},
   "outputs": [],
   "source": [
    "def init_fields(X,Y,velx,vely,nx,ny,shake=0.):\n",
    "    # concentrations A,B,C\n",
    "    A = np.zeros(nx*ny).reshape(ny,nx)\n",
    "    B = np.zeros(nx*ny).reshape(ny,nx)\n",
    "    C = np.zeros(nx*ny).reshape(ny,nx)\n",
    "    A = (1-shake)*A + shake * np.random.random((ny,nx))\n",
    "    B = (1-shake)*B + shake * np.random.random((ny,nx))\n",
    "    # velocity\n",
    "    Vx = np.ones(nx*ny).reshape(ny,nx)\n",
    "    Vy = np.ones(nx*ny).reshape(ny,nx)\n",
    "    Vx = velx*Vx\n",
    "    Vy = vely*Vy\n",
    "    Vabs = np.sqrt(Vx**2 + Vy**2)\n",
    "    return A,B,C,Vx,Vy,Vabs"
   ]
  },
  {
   "cell_type": "code",
   "execution_count": 7,
   "metadata": {},
   "outputs": [],
   "source": [
    "def inject_fields(A,B):\n",
    "    A[-6:-3,1:5] = 1.\n",
    "    B[3:6,1:5] = 1.\n",
    "    return A,B"
   ]
  },
  {
   "cell_type": "markdown",
   "metadata": {},
   "source": [
    "Next, we write a function for plotting the fields ..."
   ]
  },
  {
   "cell_type": "code",
   "execution_count": 8,
   "metadata": {},
   "outputs": [],
   "source": [
    "def plot_fields(X,Y,A,B,C,Vx,Vy,Vabs,filename):\n",
    "    fig, axs = plt.subplots(3,1,figsize=(8,10))\n",
    "    \n",
    "    colA = np.linspace(0.0, 1.0, 11, endpoint=True)\n",
    "    colB = np.linspace(0.0, 1.0, 11, endpoint=True)\n",
    "    colC = np.linspace(0.0, 0.4, 11, endpoint=True)\n",
    "    #plt.contour(xi, yi, zi, v, linewidths=0.5, colors='k')\n",
    "    #plt.contourf(xi, yi, zi, v, cmap=plt.cm.jet)\n",
    "    #x = plt.colorbar(ticks=v)\n",
    "\n",
    "    axs[0].set_xlim([xmin,xmax])\n",
    "    axs[0].set_ylim([ymin,ymax])\n",
    "    CS0=axs[0].contourf(X,Y,A,colA, cmap=plt.cm.hot_r)\n",
    "    #axs[0].quiver(X,Y,Vx/Vabs,Vy/Vabs,Vabs,alpha=0.2,width=0.002,scale=150,pivot=\"middle\")\n",
    "    #axs[0].quiver(X,Y,Vx/Vabs,Vy/Vabs, alpha=0.2,edgecolor='k', facecolor='None', \n",
    "    #          linewidth=.5,width=0.002,scale=150,pivot=\"middle\")\n",
    "    cbar = fig.colorbar(CS0,ax=axs[0],orientation=\"vertical\",shrink=0.9)\n",
    "    cbar.ax.set_ylabel('A [mol/m$^3$]')\n",
    "    axs[0].streamplot(X,Y,Vx/Vabs,Vy/Vabs,color=(0.5,0.5,0.5,0.6),linewidth=1.5)\n",
    "    \n",
    "    axs[1].set_xlim([xmin,xmax])\n",
    "    axs[1].set_ylim([ymin,ymax])\n",
    "    CS1=axs[1].contourf(X,Y,B,colB, cmap=plt.cm.hot_r)\n",
    "    cbar = fig.colorbar(CS1,ax=axs[1],orientation=\"vertical\",shrink=0.9)\n",
    "    cbar.ax.set_ylabel('B [mol/m$^3$]')\n",
    "    axs[1].streamplot(X,Y,Vx/Vabs,Vy/Vabs,color=(0.5,0.5,0.5,0.6),linewidth=1.5)\n",
    "    \n",
    "    axs[2].set_xlim([xmin,xmax])\n",
    "    axs[2].set_ylim([ymin,ymax])\n",
    "    CS2=axs[2].contourf(X,Y,C,colC,cmap=plt.cm.hot_r)\n",
    "    cbar = fig.colorbar(CS2,ax=axs[2],orientation=\"vertical\",shrink=0.9)\n",
    "    cbar.ax.set_ylabel('C [mol/m$^3$]')\n",
    "    axs[2].streamplot(X,Y,Vx/Vabs,Vy/Vabs,color=(0.5,0.5,0.5,0.6),linewidth=1.5)\n",
    "    \n",
    "    axs[0].set_title('A')\n",
    "    axs[1].set_title('B')\n",
    "    axs[2].set_title('C')\n",
    "    #axs[0].axis('off')\n",
    "    #axs[1].axis('off')\n",
    "    #axs[2].axis('off')\n",
    "    plt.savefig('lab11/'+filename,dpi=300)\n",
    "    plt.close()"
   ]
  },
  {
   "cell_type": "markdown",
   "metadata": {},
   "source": [
    "## Define differential operators as finite-difference operators"
   ]
  },
  {
   "cell_type": "code",
   "execution_count": 9,
   "metadata": {},
   "outputs": [],
   "source": [
    "def diffusion(M,dx,dy):\n",
    "    \"\"\"L = nabla^2 M\"\"\"\n",
    "    L = -4*M\n",
    "    L += np.roll(M, (0,-1), (0,1)) # right neighbor\n",
    "    L += np.roll(M, (0,+1), (0,1)) # left neighbor\n",
    "    L += np.roll(M, (-1,0), (0,1)) # top neighbor\n",
    "    L += np.roll(M, (+1,0), (0,1)) # bottom neighbor\n",
    "    L = L / (dx*dy)\n",
    "    return L\n",
    "\n",
    "def advection(M,Vx,Vy,dx,dy):\n",
    "    \"\"\"L = V*nabla M\"\"\"\n",
    "    gradx  = np.roll(M, (0,-1), (0,1)) # right neighbor\n",
    "    gradx -= np.roll(M, (0,+1), (0,1)) # left neighbor\n",
    "    gradx  = gradx / (2*dx)\n",
    "    grady  = np.roll(M, (-1,0), (0,1)) # top neighbor\n",
    "    grady -= np.roll(M, (+1,0), (0,1)) # bottom neighbor\n",
    "    grady  = grady / (2*dy)\n",
    "    L = Vx*gradx + Vy*grady\n",
    "    return L"
   ]
  },
  {
   "cell_type": "markdown",
   "metadata": {},
   "source": [
    " ----\n",
    "## Function for solving differential equation\n",
    "In this final function, we solve the 2D transport equation for three species ..."
   ]
  },
  {
   "cell_type": "code",
   "execution_count": 10,
   "metadata": {},
   "outputs": [],
   "source": [
    "def update_fields(A,B,C,Vx,Vy,DA,DB,DC,lambA,lambB,lambdaC,k1,dt,dx,dy):\n",
    "    nx = A.shape[0]\n",
    "    ny = A.shape[1]\n",
    "    # diffusion and advection A\n",
    "    laplacian = diffusion(A,dx,dy)\n",
    "    gradient  = advection(A,Vx,Vy,dx,dy)\n",
    "    # Now apply the update formula\n",
    "    diff_A = (-gradient + DA*laplacian - lambA*A - k1*A*B) * dt\n",
    "    # diffusion and advection B\n",
    "    laplacian = diffusion(B,dx,dy)\n",
    "    gradient  = advection(B,Vx,Vy,dx,dy)\n",
    "    # Now apply the update formula\n",
    "    diff_B = (-gradient + DB*laplacian - lambB*B - k1*A*B) * dt\n",
    "    # diffusion and advection C\n",
    "    laplacian = diffusion(C,dx,dy)\n",
    "    gradient  = advection(C,Vx,Vy,dx,dy)\n",
    "    # Now apply the update formula\n",
    "    diff_C = (-gradient + DC*laplacian - lambC*C + k1*A*B) * dt\n",
    "\n",
    "    A += diff_A\n",
    "    B += diff_B\n",
    "    C += diff_C\n",
    "    \n",
    "    A = np.where(A>=0,A,0)\n",
    "    B = np.where(B>=0,B,0)\n",
    "    C = np.where(C>=0,C,0)\n",
    "    #print(A.min(),A.max())\n",
    "\n",
    "    return A,B,C"
   ]
  },
  {
   "cell_type": "code",
   "execution_count": 11,
   "metadata": {},
   "outputs": [],
   "source": [
    "def advance_field(X,Y,A,B,C,Vx,Vy,DA,DB,DC,lambA,lambB,lambC,k1,dt,tmax,dx,dy):\n",
    "    time   = 0.\n",
    "    tsave  = 0.\n",
    "    twrite = 10.\n",
    "    iwrite = 1\n",
    "    while (time < tmax):\n",
    "        #print(time)\n",
    "        tsave = tsave + dt\n",
    "        time = time + dt\n",
    "        A,B = inject_fields(A,B)\n",
    "        A,B,C = update_fields(A,B,C,Vx,Vy,DA,DB,DC,lambA,lambB,lambC,k1,dt,dx,dy)\n",
    "        if (tsave >= twrite):\n",
    "            tsave = 0.\n",
    "            print(time,A.min(),A.max(),B.min(),B.max(),C.min(),C.max())\n",
    "            plot_fields(X,Y,A,B,C,Vx,Vy,Vabs,name+f\"{iwrite:04}.png\")\n",
    "            iwrite = iwrite + 1\n",
    "    return"
   ]
  },
  {
   "cell_type": "markdown",
   "metadata": {},
   "source": [
    "---- \n",
    "## Examples\n",
    "\n",
    "### 1\n",
    "\n",
    "Velocity unidirectional, diffusivity for all species the same, high reactivity.\n",
    "\n",
    "- Play with diffusivity, e.g. $D\\simeq 10^{-4}$ m$^2$/s keeps the shape of the plume,\n",
    "while $D\\simeq 10^{-3}$ m$^2$/s initiates better mixing ..."
   ]
  },
  {
   "cell_type": "code",
   "execution_count": 12,
   "metadata": {},
   "outputs": [
    {
     "name": "stdout",
     "output_type": "stream",
     "text": [
      "10.000999999999896 0.0 1.1584805980939292 0.0 1.1837779418311194 0.0 0.10788671150159972\n",
      "20.002000000001463 0.0 1.1727787335433488 0.0 1.199109401026365 0.00258276445059977 0.10127146269019019\n",
      "30.003000000013685 0.0 1.1560917763135377 0.0 1.1604151894641355 0.0227353474226724 0.1031619942265943\n",
      "40.00399999999747 0.0 1.1233697110103602 0.0 1.1293096804929612 0.014887845116544285 0.09616158282546536\n",
      "50.00499999997416 0.0 1.100009266931127 0.0 1.099491110340613 0.019423398081554275 0.09542582505415434\n",
      "60.00599999995085 0.0 1.0638127514888553 0.0 1.0626287275531259 0.031176862484046247 0.09068821837852335\n",
      "70.00699999997022 0.0 1.0303781251234414 0.0 1.027205270311152 0.03179316402422272 0.08768112519304232\n",
      "80.00800000001797 0.0 1.0006905693728059 0.0 1.000147353907481 0.035191616676824404 0.08950946132262144\n",
      "90.00900000006573 0.0 1.000000003608894 0.0 1.000000069259228 0.03876048253849208 0.0891084703573185\n",
      "100.01000000011348 0.0 1.0526551998716838 0.0 1.0536012400637003 0.042707941817314375 0.08574136788252432\n"
     ]
    }
   ],
   "source": [
    "DA = 1e-4; DB = 1e-4; DC = 1e-4\n",
    "name = 'THREE-1a-'\n",
    "\n",
    "X,Y,dx,dy = create_mesh(xmin,xmax,ymin,ymax,nx,ny)\n",
    "A,B,C,Vx,Vy,Vabs = init_fields(X,Y,velx,vely,nx,ny,shake=0.1)\n",
    "A,B = inject_fields(A,B)\n",
    "#print(A.min(),A.max(),B.min(),B.max())\n",
    "plot_fields(X,Y,A,B,C,Vx,Vy,Vabs,name+f\"{0:04}.png\")\n",
    "advance_field(X,Y,A,B,C,Vx,Vy,DA,DB,DC,lambA,lambB,lambC,k1,dt,tmax,dx,dy)"
   ]
  },
  {
   "cell_type": "code",
   "execution_count": 13,
   "metadata": {},
   "outputs": [
    {
     "name": "stdout",
     "output_type": "stream",
     "text": [
      "10.000999999999896 0.0 1.0000022056039108 0.0 1.0000018437890879 0.0007775479235550516 0.09794245905918825\n",
      "20.002000000001463 0.0 1.00000311538827 0.0 1.0000031309110737 0.00979611278511893 0.11851329755663315\n",
      "30.003000000013685 0.0 1.0000030474154777 0.0 1.0000030451087958 0.02058077191992474 0.18786974412536153\n",
      "40.00399999999747 0.0 1.0000030435990168 0.0 1.0000030478711825 0.02449259376758887 0.2604675583845689\n",
      "50.00499999997416 0.0 1.0000030495159185 0.0 1.0000030527283548 0.029663680971566356 0.3150592244373032\n",
      "60.00599999995085 0.0 1.0000030443691217 0.0 1.0000030589822204 0.033592271127156535 0.36272194593125917\n",
      "70.00699999997022 0.0 1.0000030491419913 0.0 1.000003048559977 0.03440865274197561 0.4029662877457122\n",
      "80.00800000001797 0.0 1.0000030450475477 0.0 1.0000030493517527 0.03637050222801065 0.435151204516185\n",
      "90.00900000006573 0.0 1.0000030385254077 0.0 1.000003064967596 0.03672773027865528 0.45947154875435015\n",
      "100.01000000011348 0.0 1.0000029350070838 0.0 1.0000029564157829 0.0391641398857111 0.47833724419788665\n"
     ]
    }
   ],
   "source": [
    "DA = 1e-3; DB = 1e-3; DC = 1e-4\n",
    "name = 'THREE-1b-'\n",
    "\n",
    "X,Y,dx,dy = create_mesh(xmin,xmax,ymin,ymax,nx,ny)\n",
    "A,B,C,Vx,Vy,Vabs = init_fields(X,Y,velx,vely,nx,ny,shake=0.1)\n",
    "A,B = inject_fields(A,B)\n",
    "plot_fields(X,Y,A,B,C,Vx,Vy,Vabs,name+f\"{0:04}.png\")\n",
    "advance_field(X,Y,A,B,C,Vx,Vy,DA,DB,DC,lambA,lambB,lambC,k1,dt,tmax,dx,dy)"
   ]
  },
  {
   "cell_type": "markdown",
   "metadata": {},
   "source": [
    "### 2\n",
    "Velocity in two directions, diffusivity for all species the same, high reactivity.\n",
    "\n",
    "Substances leave domain an come back because of cyclic boundary conditions in solver ..."
   ]
  },
  {
   "cell_type": "code",
   "execution_count": 14,
   "metadata": {},
   "outputs": [
    {
     "name": "stdout",
     "output_type": "stream",
     "text": [
      "10.000999999999896 0.0 1.000004023097138 0.0 1.000003275924361 0.03562903215218784 0.06768546068685961\n",
      "20.002000000001463 0.0 1.0000044784884934 0.0 1.0000044944441289 0.04188171874839555 0.09438927775315428\n",
      "30.003000000013685 0.0 1.00000443885296 0.0 1.0000044615756583 0.04393713792285089 0.14892063775052974\n",
      "40.00399999999747 0.0 1.000004459610489 0.0 1.0000044434944237 0.04516727197836986 0.1896590767087751\n",
      "50.00499999997416 0.0 1.000004449337994 0.0 1.0000044769153351 0.045839017340409176 0.21184011222059493\n",
      "60.00599999995085 0.0 1.0000044444305993 0.0 1.0000044487397104 0.04620068861940239 0.2239651237914208\n",
      "70.00699999997022 0.0 1.0000044362948468 0.0 1.0000044607535221 0.046511272407662056 0.23069209938442858\n",
      "80.00800000001797 0.0 1.0000044398662427 0.0 1.0000044659646836 0.046696261492962694 0.2336019350986284\n",
      "90.00900000006573 0.0 1.0000044624659439 0.0 1.0000044617596724 0.04672074772568486 0.2354724692545467\n",
      "100.01000000011348 0.0 1.0000048213749508 0.0 1.0000047540889263 0.0 0.24187373387373137\n"
     ]
    }
   ],
   "source": [
    "DA = 1e-3; DB = 1e-3; DC = 1e-3\n",
    "velx  = 0.1; vely  = 0.01\n",
    "name  = 'THREE-2a-'\n",
    "\n",
    "X,Y,dx,dy = create_mesh(xmin,xmax,ymin,ymax,nx,ny)\n",
    "A,B,C,Vx,Vy,Vabs = init_fields(X,Y,velx,vely,nx,ny,shake=0.1)\n",
    "A,B = inject_fields(A,B)\n",
    "plot_fields(X,Y,A,B,C,Vx,Vy,Vabs,name+f\"{0:04}.png\")\n",
    "advance_field(X,Y,A,B,C,Vx,Vy,DA,DB,DC,lambA,lambB,lambC,k1,dt,tmax,dx,dy)"
   ]
  },
  {
   "cell_type": "markdown",
   "metadata": {},
   "source": [
    "### 3\n",
    "Velocities converge, upper part downwards, lower part upwards, towards central part."
   ]
  },
  {
   "cell_type": "code",
   "execution_count": 15,
   "metadata": {},
   "outputs": [],
   "source": [
    "def init_fields(X,Y,velx,vely,nx,ny,shake=0.):\n",
    "    # concentrations A,B,C\n",
    "    A = np.zeros(nx*ny).reshape(ny,nx)\n",
    "    B = np.zeros(nx*ny).reshape(ny,nx)\n",
    "    C = np.zeros(nx*ny).reshape(ny,nx)\n",
    "    A = (1-shake)*A + shake * np.random.random((ny,nx))\n",
    "    B = (1-shake)*B + shake * np.random.random((ny,nx))\n",
    "    # velocity\n",
    "    Vx = np.ones(nx*ny).reshape(ny,nx)\n",
    "    Vy = np.ones(nx*ny).reshape(ny,nx)\n",
    "    Vx = velx*Vx\n",
    "    Vy = vely*Vy\n",
    "    Vy = np.where(Y>0.15,-vely,0)\n",
    "    Vy = np.where(Y<-0.15,vely,Vy)\n",
    "    Vabs = np.sqrt(Vx**2 + Vy**2)\n",
    "    return A,B,C,Vx,Vy,Vabs"
   ]
  },
  {
   "cell_type": "code",
   "execution_count": 18,
   "metadata": {},
   "outputs": [
    {
     "name": "stdout",
     "output_type": "stream",
     "text": [
      "10.000999999999896 0.0 1.0000034613979325 0.0 1.0000034262747368 0.0 0.0\n",
      "20.002000000001463 0.0 1.0000043378040582 0.0 1.0000043348884855 0.0 0.0\n",
      "30.003000000013685 0.0 1.0000042130474656 0.0 1.0000043010607118 0.0 0.0\n",
      "40.00399999999747 0.0 1.0000042414487604 0.0 1.0000042646467058 0.0 0.0\n",
      "50.00499999997416 0.0 1.0000042805396152 0.0 1.0000043089852622 0.0 0.0\n",
      "60.00599999995085 0.0 1.0000042892536631 0.0 1.0000042664635684 0.0 0.0\n",
      "70.00699999997022 0.0 1.0000042823376363 0.0 1.0000042876611974 0.0 0.0\n",
      "80.00800000001797 0.0 1.0000042726101237 0.0 1.0000043056108718 0.0 0.0\n",
      "90.00900000006573 0.0 1.0000042615203042 0.0 1.000004301173917 0.0 0.0\n",
      "100.01000000011348 0.0 1.0000042397263202 0.0 1.0000042407709036 0.0 0.0\n"
     ]
    }
   ],
   "source": [
    "DA = 1e-3; DB = 1e-3; DC = 1e-3\n",
    "velx  = 0.1; vely  = 0.01\n",
    "k1 = 0\n",
    "name  = 'THREE-3a-'\n",
    "\n",
    "X,Y,dx,dy = create_mesh(xmin,xmax,ymin,ymax,nx,ny)\n",
    "A,B,C,Vx,Vy,Vabs = init_fields(X,Y,velx,vely,nx,ny,shake=0.1)\n",
    "A,B = inject_fields(A,B)\n",
    "plot_fields(X,Y,A,B,C,Vx,Vy,Vabs,name+f\"{0:04}.png\")\n",
    "advance_field(X,Y,A,B,C,Vx,Vy,DA,DB,DC,lambA,lambB,lambC,k1,dt,tmax,dx,dy)"
   ]
  },
  {
   "cell_type": "code",
   "execution_count": 17,
   "metadata": {},
   "outputs": [
    {
     "name": "stdout",
     "output_type": "stream",
     "text": [
      "10.000999999999896 0.0 1.0000038318372744 0.0 1.000003741035601 0.03415252405388711 0.06665304384122601\n",
      "20.002000000001463 0.0 1.00000451087419 0.0 1.0000044486322066 0.03935850496033788 0.08731247956693139\n",
      "30.003000000013685 0.0 1.0000044372222245 0.0 1.0000044816958933 0.04074971103438194 0.1470610069292682\n",
      "40.00399999999747 0.0 1.0000044953875598 0.0 1.0000044332395326 0.04154647997028134 0.20184600684784545\n",
      "50.00499999997416 0.0 1.0000044379546336 0.0 1.0000044752311859 0.04242990019810837 0.23602694984341072\n",
      "60.00599999995085 0.0 1.0000044310924845 0.0 1.0000044908268442 0.042406166067755595 0.2486703506623968\n",
      "70.00699999997022 0.0 1.000004449670708 0.0 1.0000044502133798 0.04397476690003132 0.2450356738045603\n",
      "80.00800000001797 0.0 1.0000044394277081 0.0 1.000004466015717 0.04454445274003412 0.24225974881903375\n",
      "90.00900000006573 0.0 1.0000044792730647 0.0 1.0000044350079622 0.045003450100996496 0.24254335434809496\n",
      "100.01000000011348 0.0 1.0000044378495827 0.0 1.0000044584392762 0.04561938438164897 0.24410868085041026\n"
     ]
    }
   ],
   "source": [
    "DA = 1e-3; DB = 1e-3; DC = 1e-3\n",
    "velx  = 0.1; vely  = 0.01\n",
    "k1 = 100\n",
    "name  = 'THREE-3b-'\n",
    "\n",
    "X,Y,dx,dy = create_mesh(xmin,xmax,ymin,ymax,nx,ny)\n",
    "A,B,C,Vx,Vy,Vabs = init_fields(X,Y,velx,vely,nx,ny,shake=0.1)\n",
    "A,B = inject_fields(A,B)\n",
    "plot_fields(X,Y,A,B,C,Vx,Vy,Vabs,name+f\"{0:04}.png\")\n",
    "advance_field(X,Y,A,B,C,Vx,Vy,DA,DB,DC,lambA,lambB,lambC,k1,dt,tmax,dx,dy)"
   ]
  },
  {
   "cell_type": "markdown",
   "metadata": {},
   "source": [
    "### 4\n",
    "Two opposing velocities"
   ]
  },
  {
   "cell_type": "code",
   "execution_count": 28,
   "metadata": {},
   "outputs": [],
   "source": [
    "def init_fields(X,Y,velx,vely,nx,ny,shake=0.):\n",
    "    # concentrations A,B,C\n",
    "    A = np.zeros(nx*ny).reshape(ny,nx)\n",
    "    B = np.zeros(nx*ny).reshape(ny,nx)\n",
    "    C = np.zeros(nx*ny).reshape(ny,nx)\n",
    "    A = (1-shake)*A + shake * np.random.random((ny,nx))\n",
    "    B = (1-shake)*B + shake * np.random.random((ny,nx))\n",
    "    # velocity\n",
    "    Vx = np.ones(nx*ny).reshape(ny,nx)\n",
    "    Vy = np.ones(nx*ny).reshape(ny,nx)\n",
    "    Vx = velx*Vx\n",
    "    Vy = vely*Vy\n",
    "    Vx = np.where(X<=5,velx,-velx)\n",
    "    Vabs = np.sqrt(Vx**2 + Vy**2)\n",
    "    return A,B,C,Vx,Vy,Vabs"
   ]
  },
  {
   "cell_type": "code",
   "execution_count": 29,
   "metadata": {},
   "outputs": [],
   "source": [
    "def inject_fields(A,B):\n",
    "    A[10:13,1:5] = 1.\n",
    "    B[10:13,-5:-1] = 1.\n",
    "    return A,B"
   ]
  },
  {
   "cell_type": "code",
   "execution_count": 30,
   "metadata": {},
   "outputs": [
    {
     "name": "stdout",
     "output_type": "stream",
     "text": [
      "10.000999999999896 0.0 1.00000185425098 0.0 1.0000020141003731 0.0 0.07652458144250307\n",
      "20.002000000001463 0.0 1.000003112664978 0.0 1.0000030908653152 0.0 0.06276784686563826\n",
      "30.003000000013685 0.0 1.0000030405398643 0.0 1.0000030427220528 0.0007828946558889388 0.06278708337791566\n",
      "40.00399999999747 0.0 1.000003044892338 0.0 1.0000030451020514 0.003997916577354396 0.06594849610659186\n",
      "50.00499999997416 0.0 1.0000030445814456 0.0 1.0000030447842079 0.007051490484150933 0.05738103314662995\n",
      "60.00599999995085 0.0 1.000003044685195 0.0 1.0000030446913755 0.00947262338507041 0.06449745891257172\n",
      "70.00699999997022 0.0 1.0000030447456592 0.0 1.0000030445939196 0.011540594834173707 0.06204110852257525\n",
      "80.00800000001797 0.0 1.000003044784443 0.0 1.0000030445192536 0.012102021833927014 0.06001356722374219\n",
      "90.00900000006573 0.0 1.0000030448046766 0.0 1.0000030444642898 0.013309025493170533 0.058011010218357875\n",
      "100.01000000011348 0.0 1.0000030448123691 0.0 1.0000030444255343 0.01442331725207538 0.05611214185096866\n"
     ]
    }
   ],
   "source": [
    "DA = 1e-3; DB = 1e-3; DC = 1e-3\n",
    "velx  = 0.1; vely  = 0.\n",
    "k1 = 100\n",
    "name  = 'THREE-4a-'\n",
    "\n",
    "X,Y,dx,dy = create_mesh(xmin,xmax,ymin,ymax,nx,ny)\n",
    "A,B,C,Vx,Vy,Vabs = init_fields(X,Y,velx,vely,nx,ny,shake=0.1)\n",
    "A,B = inject_fields(A,B)\n",
    "plot_fields(X,Y,A,B,C,Vx,Vy,Vabs,name+f\"{0:04}.png\")\n",
    "advance_field(X,Y,A,B,C,Vx,Vy,DA,DB,DC,lambA,lambB,lambC,k1,dt,tmax,dx,dy)"
   ]
  },
  {
   "cell_type": "markdown",
   "metadata": {},
   "source": [
    "... done"
   ]
  }
 ],
 "metadata": {
  "kernelspec": {
   "display_name": "Python 3 (ipykernel)",
   "language": "python",
   "name": "python3"
  },
  "language_info": {
   "codemirror_mode": {
    "name": "ipython",
    "version": 3
   },
   "file_extension": ".py",
   "mimetype": "text/x-python",
   "name": "python",
   "nbconvert_exporter": "python",
   "pygments_lexer": "ipython3",
   "version": "3.9.6"
  }
 },
 "nbformat": 4,
 "nbformat_minor": 2
}
