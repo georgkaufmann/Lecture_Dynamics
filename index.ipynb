{
 "cells": [
  {
   "cell_type": "markdown",
   "metadata": {},
   "source": [
    "<table>\n",
    "<tr><td><img style=\"height: 150px;\" src=\"images/geo_hydro1.jpg\"></td>\n",
    "<td bgcolor=\"#FFFFFF\">\n",
    "    <p style=\"font-size: xx-large; font-weight: 900; line-height: 100%\">AG Dynamics of the Earth</p>\n",
    "    <p style=\"font-size: large; color: rgba(0,0,0,0.5);\">Jupyter notebooks</p>\n",
    "    <p style=\"font-size: large; color: rgba(0,0,0,0.5);\">Georg Kaufmann</p>\n",
    "    </td>\n",
    "</tr>\n",
    "</table>"
   ]
  },
  {
   "cell_type": "markdown",
   "metadata": {},
   "source": [
    "# Dynamic systems in Geosciences\n",
    "----\n",
    "*Georg Kaufmann,\n",
    "Geophysics Section,\n",
    "Institute of Geological Sciences,\n",
    "Freie Universität Berlin,\n",
    "Germany*\n",
    "\n",
    "**Additional jupyter notebooks for lecture**\n",
    "\n",
    "Lectures:\n",
    "\n",
    "- Lecture 1: **Introduction**\n",
    "    - [Coding](Dynamics_lab01_coding.ipynb)\n",
    "    - [Basic equations](Dynamics_lab01_BasicEquations.ipynb)\n",
    "    - [openFOAM](Dynamics_lab01_openFoam.ipynb)\n",
    "   \n",
    "- Lecture 2: **Flux**\n",
    "    - [Flux equations](Dynamics_lab02_flux.ipynb)\n",
    "    - [Heat: Fourier law]\n",
    "    - [Water: Darcy law]\n",
    "    - [Particle: Fick law]\n",
    "    - [Current: Ohm law]\n",
    "    - [Sediment: Sediment law]\n",
    "    - [Ice: Shallow-ice law]\n",
    "    \n",
    "- Lecture 3: **Continuity**\n",
    "    - [Continuity equation](Dynamics_lab03_continuity.ipynb)\n",
    "    - [1D advection](Dynamics_lab03_advection1D.ipynb)\n",
    "    - [1D diffusion](Dynamics_lab03_diffusion1D.ipynb)\n",
    "    - [1D reaction](Dynamics_lab03_reaction1D.ipynb)\n",
    "    - [openFOAM: laplacianFoam (heat diffusion)](Dynamics_lab03_HeatDiffusion_laplacianFoam1.ipynb)\n",
    "    - [openFOAM: scalarTransportFoam (heat transport)](Dynamics_lab03_HeatTransport_scalarTransportFoam.ipynb)\n",
    "    - [openFOAM: example 2D heat blob]\n",
    "    \n",
    "- Lecture 4: **Heat**\n",
    "    - [Radial profiles](Dynamics_lab04_RadialProfiles.ipynb)\n",
    "    - [Seasons](Dynamics_lab04_Seasons.ipynb)\n",
    "\n",
    "- Lecture 5: **Gravity**\n",
    "    - [Radial gravity profile](Dynamics_lab05_RadialGravity.ipynb)\n",
    "\n",
    "- Lecture 6: **Motion**\n",
    "    - [Equation of motion]\n",
    "\n",
    "- Lecture 7: **Elastic material**\n",
    "    - [Elastic]\n",
    "    - [openFOAM: solidDisplacementFoam (plate with hole)](Dynamics_lab05_HoleInPlate_solidDisplacementFoam.ipynb)\n",
    "\n",
    "- Lecture 8: **Viscous material**\n",
    "    - [Navier-Stokes equation](Dynamics_lab06_NavierStokes.ipynb)\n",
    "    - [Hagen-Poiseuille](Dynamics_lab06_HagenPoiseuille.ipynb)\n",
    "    - [openFOAM: icoFoam (Hagen-Poiseuille)](Dynamics_lab06_HagenPoiseuille_icoFoam.ipynb)\n",
    "    - [openFOAM: simpleFoam (Hagen-Poiseuille)](Dynamics_lab06_HagenPoiseuille_simpleFoam.ipynb)\n",
    "    - [openFOAM: icoScalarTransportFoam (Hagen-Poiseuille)](Dynamics_lab06_HagenPoiseuille_icoScalarTransportFoam.ipynb)\n",
    "    - [Mantle convection]\n",
    "    - [openFOAM: convectiveFoam]\n",
    "\n",
    "- Lecture x: **Reactions**\n",
    "    - [Diffusion and advection](Dynamics_lab08_Diffusion_Advection.ipynb)\n",
    "    - [One reactant](Dynamics_lab08_One_Reactant.ipynb)\n",
    "    - [Two reactants](Dynamics_lab08_Two_Reactants.ipynb)\n",
    "    - [Three reactants](Dynamics_lab08_Three_Reactants.ipynb)\n",
    "    \n",
    "- Lecture x: **Shallow water**\n",
    "    - [Shallow-water equations](Dynamics_lab09_SWE.ipynb)\n",
    "    - [openFOAM: shallowWaterFoam (Dam break)](Dynamics_lab09_DamBreak_shallowWaterFoam.ipynb)\n",
    "    - [Analytical examples for dam break](Dynamics_lab09_DamBreak.ipynb)\n",
    "    - [1D advection revisited](Dynamics_lab09_advection1D_FiniteVolume_LLF.ipynb)\n",
    "    - [1D Numerical solution SWE](Dynamics_lab09_SWE1DwithLocalLaxFriedrich.ipynb)\n",
    "    - [2D advection revisited](Dynamics_lab09_advection2D_FiniteVolume_LLF.ipynb)\n",
    "    - [2D Numerical solution SWE](Dynamics_lab09_SWE2DwithLocalLaxFriedrich.ipynb)"
   ]
  },
  {
   "cell_type": "markdown",
   "metadata": {},
   "source": [
    "----"
   ]
  }
 ],
 "metadata": {
  "kernelspec": {
   "display_name": "Python 3 (ipykernel)",
   "language": "python",
   "name": "python3"
  },
  "language_info": {
   "codemirror_mode": {
    "name": "ipython",
    "version": 3
   },
   "file_extension": ".py",
   "mimetype": "text/x-python",
   "name": "python",
   "nbconvert_exporter": "python",
   "pygments_lexer": "ipython3",
   "version": "3.9.6"
  }
 },
 "nbformat": 4,
 "nbformat_minor": 1
}
