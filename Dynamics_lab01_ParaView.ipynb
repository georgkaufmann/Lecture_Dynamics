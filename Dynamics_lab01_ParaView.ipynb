{
 "cells": [
  {
   "cell_type": "markdown",
   "metadata": {},
   "source": [
    "<table>\n",
    "<tr><td><img style=\"height: 150px;\" src=\"images/geo_hydro1.jpg\"></td>\n",
    "<td bgcolor=\"#FFFFFF\">\n",
    "    <p style=\"font-size: xx-large; font-weight: 900; line-height: 100%\">AG Dynamics of the Earth</p>\n",
    "    <p style=\"font-size: large; color: rgba(0,0,0,0.5);\">Jupyter notebooks</p>\n",
    "    <p style=\"font-size: large; color: rgba(0,0,0,0.5);\">Georg Kaufmann</p>\n",
    "    </td>\n",
    "</tr>\n",
    "</table>"
   ]
  },
  {
   "cell_type": "markdown",
   "metadata": {},
   "source": [
    "# Dynamic systems: 1. Introduction \n",
    "# ParaView\n",
    "----\n",
    "*Georg Kaufmann,\n",
    "Geophysics Section,\n",
    "Institute of Geological Sciences,\n",
    "Freie Universität Berlin,\n",
    "Germany*"
   ]
  },
  {
   "cell_type": "markdown",
   "metadata": {},
   "source": [
    "`ParaView` is an open-source, multi-platform data analysis and visualization application.\n",
    "\n",
    "It is a very powerful tool to **visualize** and **analyse** data structure in three dimensions.\n",
    "\n",
    "You need to install `ParaView` for your system from the [ParaView web site](https://www.paraview.org)."
   ]
  },
  {
   "cell_type": "markdown",
   "metadata": {},
   "source": [
    "----\n",
    "## Open `ParaView`\n",
    "\n",
    "\n",
    "Open `ParaView`, and an interactive front-end will launch:\n",
    "<img style=\"width: 700px;\" src=\"images/ParaView0.png\">\n",
    "\n",
    "On the right, you have a first **layout** window, empty, for the first data set.\n",
    "\n",
    "On the left, you find the **pipeline browser**, which will hold all filters you will apply to the dataset,\n",
    "and below the **properties** dialog, a powerful part to fiddle with the data set.\n",
    "\n",
    "On top, numerous **control buttons** are located."
   ]
  },
  {
   "cell_type": "markdown",
   "metadata": {},
   "source": [
    "----\n",
    "## Data structure\n",
    "\n",
    "In short, when we use `openFoam` or other open-source tools, which generate 3D datasets, we do not\n",
    "need to worry to much about the visualisation, because many of these packages readily export\n",
    "data to the **vtk** format from `ParaView`. Thus, the data sets just need to be loaded and explored!\n",
    "\n",
    "However, we just will embark on a brief description of 3D visualisation and the specific\n",
    "structure of the **vtk legacy format**...\n",
    "\n",
    "We want to create a simple **cube** with side lengths:\n",
    "\n",
    "- $sidex=10$\n",
    "- $sidey=5$\n",
    "- $sidez=1$\n",
    "\n",
    "The file we want to create, `cube1.vtk`, has basically five sections:\n",
    "\n",
    "1. An **introductory** part, starting with `# vtk DataFile`, telling `ParaView`, \n",
    "this is a legacy file in ASCII format.\n",
    "Note the second line, a comment line, which is needed!\n",
    "\n",
    "2. A **vertices** part, essentially a list of all points of the model, starting with\n",
    "~~~\n",
    "DATASET UNSTRUCTURED_GRID\n",
    "POINTS     8 float\n",
    "~~~\n",
    "\n",
    "the `DATASET` keyword, which defines an unstructured grid, \n",
    "and the `POINTS` keyword with eight point coordinates (the triples $x,y,z$ coordinate)\n",
    "in floating-point notation following.\n",
    "\n",
    "3. The **cell** part, which is used to connect points to cells, e.g. **lines**, **triangles**,\n",
    "**rectangles**, ... It starts with\n",
    "~~~\n",
    "CELLS 2 10\n",
    "~~~\n",
    "\n",
    "The `CELLS` keyword, with two numbers (first number of cells, then total number of all following labels).\n",
    "In the example, we have defined two cells, which both have four corners each, thus the\n",
    "first number gives the number of points in the following list, and the other numbers are indexing the\n",
    "coordinate list above (counting starts from 0!).\n",
    "\n",
    "4. The **CELL_TYPES** keyword, which has to repeat the number of cells defined above (two in our case),\n",
    "and then a number (in our case 9), which indicates, a **rectangular element** is chosen, defined by four points.\n",
    "~~~\n",
    "CELL_TYPES 2\n",
    "~~~\n",
    "\n",
    "5. The **POINT_DATA** keyword, which holds the values for each vertex point. In our case\n",
    "this are scalar valies, with the name **temp** given to the data set, and a standard color table (default):\n",
    "~~~\n",
    "POINT_DATA 8\n",
    "SCALARS temp float 1\n",
    "LOOKUP_TABLE default\n",
    "~~~\n",
    "\n",
    "Then, simply a list of values follows..."
   ]
  },
  {
   "cell_type": "markdown",
   "metadata": {},
   "source": [
    "Save this file as `cube1.vtk`  and load it into `ParaView`...\n",
    "\n",
    "<details><summary><b>> cube1.vtk</b></summary>\n",
    "\n",
    "~~~\n",
    "# vtk DataFile Version 2.0\n",
    "One line for information on the data set\n",
    "ASCII\n",
    "\n",
    "DATASET UNSTRUCTURED_GRID\n",
    "POINTS     8 float\n",
    "   0.  0.  0.\n",
    "  10.  0.  0.\n",
    "  10.  5.  0.\n",
    "   0.  5.  0.\n",
    "   0.  0.  1.\n",
    "  10.  0.  1.\n",
    "  10.  5.  1.\n",
    "   0.  5.  1.\n",
    "\n",
    "CELLS 2 10\n",
    " 4 0 1 2 3\n",
    " 4 4 5 6 7\n",
    "\n",
    "CELL_TYPES 2\n",
    "9\n",
    "9\n",
    "\n",
    "POINT_DATA 8\n",
    "SCALARS temp float 1\n",
    "LOOKUP_TABLE default\n",
    "20 10 10 20 20 10 10 20   \n",
    "~~~\n",
    "</details>"
   ]
  },
  {
   "cell_type": "markdown",
   "metadata": {},
   "source": [
    "Loading the file `cube1.vtk`into `ParaView` should then result in:\n",
    "<img style=\"width: 700px;\" src=\"images/ParaView1.png\">"
   ]
  },
  {
   "cell_type": "markdown",
   "metadata": {},
   "source": [
    "**Play** with the cube data:\n",
    "\n",
    "- rotate, zoom\n",
    "- show grid\n",
    "- add axes\n",
    "- Add transparency\n",
    "- change color table\n",
    "- beautify color table\n",
    "\n",
    "**Modify** the cube data:\n",
    "\n",
    "- Add the missing sides of the cube\n",
    "- replace some of the rectangle elements (9) to triangular elements (5).\n",
    "- Build something new ..."
   ]
  },
  {
   "cell_type": "markdown",
   "metadata": {},
   "source": [
    "... done"
   ]
  }
 ],
 "metadata": {
  "kernelspec": {
   "display_name": "Python 3 (ipykernel)",
   "language": "python",
   "name": "python3"
  },
  "language_info": {
   "codemirror_mode": {
    "name": "ipython",
    "version": 3
   },
   "file_extension": ".py",
   "mimetype": "text/x-python",
   "name": "python",
   "nbconvert_exporter": "python",
   "pygments_lexer": "ipython3",
   "version": "3.11.3"
  }
 },
 "nbformat": 4,
 "nbformat_minor": 4
}
