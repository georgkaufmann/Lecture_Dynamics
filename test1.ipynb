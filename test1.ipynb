{
 "cells": [
  {
   "cell_type": "code",
   "execution_count": 1,
   "id": "8c5bad05",
   "metadata": {},
   "outputs": [],
   "source": [
    "import numpy as np\n",
    "import matplotlib.pyplot as plt"
   ]
  },
  {
   "cell_type": "code",
   "execution_count": 48,
   "id": "92863565",
   "metadata": {},
   "outputs": [
    {
     "name": "stdout",
     "output_type": "stream",
     "text": [
      "dx:  0.01  dt:  0.05  u:  [0. 0. 0. ... 0. 0. 0.]\n",
      "Courant number:  [0. 0. 0. ... 0. 0. 0.]\n"
     ]
    }
   ],
   "source": [
    "nx   = 1001\n",
    "xmin = 0\n",
    "xmax = 10\n",
    "T    = 2\n",
    "x    = np.linspace(xmin,xmax,nx)\n",
    "dt   = 0.05\n",
    "dx   = (x.max()-x.min()) / (nx-1)\n",
    "uu   = 0.5\n",
    "g    = 9.81\n",
    "\n",
    "print(\"dx: \",dx,\" dt: \",dt,\" u: \",u)\n",
    "#print(x)\n",
    "Courant = u*dt/dx\n",
    "print ('Courant number: ',Courant)"
   ]
  },
  {
   "cell_type": "code",
   "execution_count": 49,
   "id": "f0a1c329",
   "metadata": {},
   "outputs": [
    {
     "name": "stdout",
     "output_type": "stream",
     "text": [
      "(1001,) 0.01 2.0\n",
      "(1001,) 0.005 1.0\n"
     ]
    }
   ],
   "source": [
    "h = 0*x\n",
    "h = np.where(x<=xmax/2,2,0.01)\n",
    "hu = h*uu\n",
    "print(h.shape,h.min(),h.max())\n",
    "print(hu.shape,hu.min(),hu.max())"
   ]
  },
  {
   "cell_type": "code",
   "execution_count": 50,
   "id": "bab903ae",
   "metadata": {},
   "outputs": [],
   "source": [
    "def addGhostCells(var,gleft,gright):\n",
    "    return np.hstack([gleft,var,gright])"
   ]
  },
  {
   "cell_type": "code",
   "execution_count": 51,
   "id": "dcaad10a",
   "metadata": {},
   "outputs": [
    {
     "data": {
      "image/png": "[encoded data removed]",
      "text/plain": [
       "<Figure size 432x288 with 1 Axes>"
      ]
     },
     "metadata": {
      "needs_background": "light"
     },
     "output_type": "display_data"
    }
   ],
   "source": [
    "# Finite volume with Rusanov flux scheme\n",
    "# start time\n",
    "time   = 0\n",
    "dtplot = 0.20\n",
    "tplot  = dtplot\n",
    "# initial values\n",
    "h = np.where(x<=xmax/2,2,0.01)\n",
    "hu = 0*x\n",
    "x  = addGhostCells(x,0,0)\n",
    "h  = addGhostCells(h,0,0)\n",
    "hu = addGhostCells(hu,0,0)\n",
    "plt.plot(x[1:-1],h[1:-1],linewidth=6,color='lightgray',label='h$_0$')\n",
    "\n",
    "# solution\n",
    "while (time < T):\n",
    "    time = time + dt\n",
    "    # neumann bc\n",
    "    h[0]  = h[1]\n",
    "    h[-1] = h[-2]\n",
    "    hu[0]  = hu[1]\n",
    "    hu[-1] = hu[-2]\n",
    "    \n",
    "    h = np.maximum(0.1,h)\n",
    "    u = hu/h\n",
    "    \n",
    "    Fhup = h[1:]*u[1:]\n",
    "    Fhum = h[:-1]*u[:-1]\n",
    "    Rh   = (Fhup+Fhum)/2 - dx/dt/2*(h[1:]-h[:-1])\n",
    "    h[1:-1] = h[1:-1] - dt/dx*(Rh[1:]-Rh[:-1])\n",
    "    \n",
    "    Fhu2p = hu[1:]*u[1:]    #+ 0.5*g*h[1:]*h[1:]\n",
    "    Fhu2m = hu[:-1]*u[:-1] #+ 0.5*g*h[:-1]*h[:-1]\n",
    "    Rhu  = (Fhu2p+Fhu2m)/2 - dx/dt/2*(hu[1:]-hu[:-1])\n",
    "    hu[1:-1] = hu[1:-1] - dt/dx*(Rhu[1:]-Rhu[:-1])\n",
    "    if (time > tplot):\n",
    "        plt.plot(x,h,label='h(t='+str(round(time,2))+' s)')\n",
    "        plt.legend()\n",
    "        tplot = tplot + dtplot"
   ]
  },
  {
   "cell_type": "code",
   "execution_count": null,
   "id": "89797dc9",
   "metadata": {},
   "outputs": [],
   "source": []
  }
 ],
 "metadata": {
  "kernelspec": {
   "display_name": "Python 3 (ipykernel)",
   "language": "python",
   "name": "python3"
  },
  "language_info": {
   "codemirror_mode": {
    "name": "ipython",
    "version": 3
   },
   "file_extension": ".py",
   "mimetype": "text/x-python",
   "name": "python",
   "nbconvert_exporter": "python",
   "pygments_lexer": "ipython3",
   "version": "3.9.6"
  }
 },
 "nbformat": 4,
 "nbformat_minor": 5
}
