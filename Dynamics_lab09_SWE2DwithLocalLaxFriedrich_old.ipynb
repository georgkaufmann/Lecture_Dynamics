{
 "cells": [
  {
   "cell_type": "markdown",
   "id": "fa0e1b59",
   "metadata": {},
   "source": [
    "<table>\n",
    "<tr><td><img style=\"height: 150px;\" src=\"images/geo_hydro1.jpg\"></td>\n",
    "<td bgcolor=\"#FFFFFF\">\n",
    "    <p style=\"font-size: xx-large; font-weight: 900; line-height: 100%\">AG Dynamics of the Earth</p>\n",
    "    <p style=\"font-size: large; color: rgba(0,0,0,0.5);\">Jupyter notebooks</p>\n",
    "    <p style=\"font-size: large; color: rgba(0,0,0,0.5);\">Georg Kaufmann</p>\n",
    "    </td>\n",
    "</tr>\n",
    "</table>"
   ]
  },
  {
   "cell_type": "markdown",
   "id": "b89560a3",
   "metadata": {},
   "source": [
    "# Dynamic systems: 9. Shallow-water equations\n",
    "## 2D solution\n",
    "----\n",
    "*Georg Kaufmann,\n",
    "Geophysics Section,\n",
    "Institute of Geological Sciences,\n",
    "Freie Universität Berlin,\n",
    "Germany*"
   ]
  },
  {
   "cell_type": "code",
   "execution_count": 1,
   "id": "53703b1a",
   "metadata": {},
   "outputs": [],
   "source": [
    "import numpy as np\n",
    "import matplotlib.pyplot as plt"
   ]
  },
  {
   "cell_type": "markdown",
   "id": "eb3daa23",
   "metadata": {},
   "source": [
    "# Shallow-water equations in 2D\n",
    "\n",
    "$$\n",
    "\\begin{array}{rcl}\n",
    "\\frac{\\partial h}{\\partial t}\n",
    "+ \\frac{\\partial (hu)}{\\partial x}\n",
    "+ \\frac{\\partial (hv)}{\\partial y} = 0 \\\\\n",
    "\\frac{\\partial (hu)}{\\partial t}\n",
    "+ \\frac{\\partial (hu^2 + \\frac{1}{2}gh^2)}{\\partial x}\n",
    "+ \\frac{\\partial (huv)}{\\partial y} = 0 \\\\\n",
    "\\frac{\\partial (hv)}{\\partial t}\n",
    "+ \\frac{\\partial (huv)}{\\partial x}\n",
    "+ \\frac{\\partial (hv^2 + \\frac{1}{2}gh^2)}{\\partial y} = 0\n",
    "\\end{array}\n",
    "$$\n",
    "with:\n",
    "\n",
    "- $h$ [m] - water height,\n",
    "- $u,v$ [m/s] - velocity in $x$- and $y$-direction,\n",
    "- $g$ [m/s$^2$] - grav. acceleration,\n",
    "- $t$ [s] - time,\n",
    "- $x,y$ [m] - $x$- and $y$-coordinates.\n",
    "\n",
    "We develop solutions for the **shallow-water equations** for two dimensions, using the\n",
    "`local Lax-Friedrich and Rusanov flux` scheme (LLF-RF):\n",
    "$$\n",
    "\\begin{array}{rcl}\n",
    "F_{hu} &=& h u \\\\\n",
    "F_{hv} &=& h v \\\\\n",
    "F_{hu^2} &=& hu^2 + \\frac{1}{2}gh^2 \\\\\n",
    "F_{hv^2} &=& hv^2 + \\frac{1}{2}gh^2 \\\\\n",
    "F_{huv} &=& huv \n",
    "\\end{array}\n",
    "$$"
   ]
  },
  {
   "cell_type": "code",
   "execution_count": 2,
   "id": "859bd02a",
   "metadata": {},
   "outputs": [
    {
     "name": "stdout",
     "output_type": "stream",
     "text": [
      "dx:  0.1  dy:  0.1  dt:  0.005\n"
     ]
    }
   ],
   "source": [
    "nx   = 101\n",
    "ny   = 101\n",
    "xmin = 0.; xmax = 10.0\n",
    "ymin = 0.; ymax = 10.0\n",
    "T    = 5.0\n",
    "CFL  = 0.99\n",
    "g    = 9.81\n",
    "mu   = 2\n",
    "sigma = 1\n",
    "\n",
    "x = np.linspace(xmin,xmax,nx)\n",
    "y = np.linspace(ymin,ymax,ny)\n",
    "X,Y = np.meshgrid(x,y,indexing='ij')\n",
    "dx = (x.max()-x.min()) / (nx-1)\n",
    "dy = (y.max()-y.min()) / (ny-1)\n",
    "dt = 0.005\n",
    "print(\"dx: \",dx,\" dy: \",dy,\" dt: \",dt)"
   ]
  },
  {
   "cell_type": "code",
   "execution_count": 3,
   "id": "dbdc7d4f",
   "metadata": {},
   "outputs": [
    {
     "name": "stdout",
     "output_type": "stream",
     "text": [
      "(101, 101)\n",
      "(101, 101)\n",
      "(101, 101)\n"
     ]
    }
   ],
   "source": [
    "h  = 0*X\n",
    "hu = 0*X\n",
    "hv = 0*X\n",
    "#h  = np.zeros(nx*ny).reshape(ny,nx)\n",
    "#hu = np.zeros(nx*ny).reshape(ny,nx)\n",
    "#hv = np.zeros(nx*ny).reshape(ny,nx)\n",
    "print(h.shape)\n",
    "print(hu.shape)\n",
    "print(hv.shape)\n"
   ]
  },
  {
   "cell_type": "code",
   "execution_count": 4,
   "id": "59e36901",
   "metadata": {},
   "outputs": [],
   "source": [
    "def bcNeumann(var):\n",
    "    ### NEUMANN BC ###\n",
    "    var[0,:]  = var[1,:]\n",
    "    var[-1,:] = var[-2,:]\n",
    "    var[:,0]  = var[:,1]\n",
    "    var[:,-1] = var[:,-2]\n",
    "    return var\n",
    "\n",
    "def bcPeriodic(var):\n",
    "    ### PERIODIC BC ###\n",
    "    var[0,:]  = var[-2,:]\n",
    "    var[-1,:] = var[1,:]\n",
    "    var[:,0]  = var[:,-2]\n",
    "    var[:,-1] = var[:,1]\n",
    "    return var\n",
    "\n",
    "def dtCourant(dx,maxeigen,time,TMAX,CFL):\n",
    "    dt  = CFL*dx/maxeigen\n",
    "    if time+dt>TMAX:\n",
    "        dt = TMAX-time\n",
    "    return dt\n",
    "\n",
    "def addGhostCells(var,gleft,gright,gbottom,gtop):\n",
    "    var = np.vstack([gtop*np.ones(nx).reshape(1,nx),var,gbottom*np.ones(nx).reshape(1,nx)])\n",
    "    var = np.hstack([gleft*np.ones(ny+2).reshape(ny+2,1),var,gright*np.ones(ny+2).reshape(ny+2,1)])\n",
    "    return var"
   ]
  },
  {
   "cell_type": "code",
   "execution_count": 5,
   "id": "df867ad4",
   "metadata": {},
   "outputs": [
    {
     "data": {
      "image/png": "[encoded data removed]",
      "text/plain": [
       "<Figure size 504x504 with 1 Axes>"
      ]
     },
     "metadata": {
      "needs_background": "light"
     },
     "output_type": "display_data"
    }
   ],
   "source": [
    "uu = 1.0\n",
    "vv = 0.3\n",
    "# Finite volume with Rusanov flux scheme\n",
    "# start time\n",
    "time   = 0\n",
    "dtplot = 1.00\n",
    "tplot  = dtplot\n",
    "# initial values\n",
    "h = np.exp(-((X-mu)**2+(Y-mu)**2)/sigma**2)\n",
    "plt.figure(figsize=(7,7))\n",
    "plt.contour(X,Y,h,levels=[0.5,0.6,0.7])\n",
    "# solution\n",
    "while (time < T):\n",
    "    time = time + dt\n",
    "    # set boundary conditions\n",
    "    h  = bcPeriodic(h)\n",
    "    \n",
    "    h = np.maximum(0.1,h)\n",
    "    \n",
    "    Fhup = h[1:,:]*uu\n",
    "    Fhum = h[:-1,:]*uu\n",
    "    Fhvp = h[:,1:]*vv\n",
    "    Fhvm = h[:,:-1]*vv\n",
    "    \n",
    "    #print(Fhup.shape,Fhum.shape)\n",
    "    #print(Fhvp.shape,Fhvm.shape)\n",
    "    Rhx  = (Fhup+Fhum)/2 - uu/2*(h[1:,:]-h[:-1,:])\n",
    "    Rhy  = (Fhvp+Fhvm)/2 - vv/2*(h[:,1:]-h[:,:-1])\n",
    "    \n",
    "    #print(Rhx.shape,Rhy.shape)\n",
    "    h[1:-1,1:-1] = h[1:-1,1:-1] - dt/dx*(Rhx[1:,1:-1]-Rhx[:-1,1:-1]) \\\n",
    "                                - dt/dy*(Rhy[1:-1,1:]-Rhy[1:-1,:-1])\n",
    "    if (time > tplot):\n",
    "        plt.contour(X,Y,h,levels=[0.5,0.8])\n",
    "        tplot = tplot + dtplot"
   ]
  },
  {
   "cell_type": "code",
   "execution_count": 6,
   "id": "55669833",
   "metadata": {},
   "outputs": [
    {
     "data": {
      "image/png": "[encoded data removed]",
      "text/plain": [
       "<Figure size 504x504 with 1 Axes>"
      ]
     },
     "metadata": {
      "needs_background": "light"
     },
     "output_type": "display_data"
    }
   ],
   "source": [
    "uu = 1.0\n",
    "vv = 0.3\n",
    "# Finite volume with Rusanov flux scheme\n",
    "# start time\n",
    "time   = 0\n",
    "dtplot = 1.0\n",
    "tplot  = dtplot\n",
    "# initial values\n",
    "h  = np.exp(-((X-mu)**2+(Y-mu)**2)/sigma**2)\n",
    "hu = 0*h\n",
    "hv = 0*h\n",
    "\n",
    "plt.figure(figsize=(7,7))\n",
    "plt.contour(X,Y,h,levels=[0.5,0.6,0.7])\n",
    "# solution\n",
    "while (time < T):\n",
    "    time = time + dt\n",
    "    # set boundary conditions\n",
    "    h  = bcPeriodic(h)\n",
    "    hu = bcPeriodic(hu)\n",
    "    hv = bcPeriodic(hv)\n",
    "    \n",
    "    h = np.maximum(0.1,h)\n",
    "    u = uu*h/h #hu/h\n",
    "    v = vv*h/h #hv/h\n",
    "    c = np.sqrt(g*h)\n",
    "    #print(u.shape,v.shape,c.shape)\n",
    "    #print(u.min(),u.max())\n",
    "    #print(v.min(),v.max())\n",
    "    #print(c.min(),c.max())\n",
    "    maxeigenu = np.max(np.maximum(np.abs(u-c),np.abs(u+c)))\n",
    "    maxeigenv = np.max(np.maximum(np.abs(v-c),np.abs(v+c)))\n",
    "    maxeigen = max(maxeigenu,maxeigenv)\n",
    "    # calculate time step according to CFL-condition\n",
    "    #dt = dtCourant(dx,maxeigen,time,T,CFL)\n",
    "    #print('dt: ',dx,dt,maxeigenu,maxeigenv,maxeigen)\n",
    "    \n",
    "    Fhup = h[1:,:]*u[1:,:]\n",
    "    Fhum = h[:-1,:]*u[:-1,:]\n",
    "    Fhvp = h[:,1:]*v[:,1:]\n",
    "    Fhvm = h[:,:-1]*v[:,:-1]\n",
    "    \n",
    "    Fhu2p = h[1:,:]*u[1:,:]**2 + g*h[1:,:]**2/2\n",
    "    Fhu2m = h[:-1,:]*u[:-1,:]**2 + g*h[:-1,:]**2/2\n",
    "    Fhuvp = h[:,1:]*u[:,1:]*v[:,1:]\n",
    "    Fhuvm = h[:,:-1]*u[:,:-1]*v[:,:-1]\n",
    "    \n",
    "    Fhuv2p = h[1:,:]*u[1:,:]*v[1:,:]\n",
    "    Fhuv2m = h[:-1,:]*u[:-1,:]*v[:-1,:]\n",
    "    Fhv2p = h[:,1:]*v[:,1:]**2 + g*h[:,1:]**2/2\n",
    "    Fhv2m = h[:,:-1]*v[:,:-1]**2 + g*h[:,:-1]**2/2\n",
    "    \n",
    "    #print(Fhup.shape,Fhum.shape)\n",
    "    #print(Fhvp.shape,Fhvm.shape)\n",
    "    Rhx  = (Fhup+Fhum)/2 - uu/2*(h[1:,:]-h[:-1,:])\n",
    "    Rhy  = (Fhvp+Fhvm)/2 - vv/2*(h[:,1:]-h[:,:-1])\n",
    "    \n",
    "    Rhux  = (Fhu2p+Fhu2m)/2 - dx/dt/2*(hu[1:,:]-hu[:-1,:])\n",
    "    Rhuy  = (Fhuvp+Fhuvm)/2 - dy/dt/2*(hu[:,1:]-hu[:,:-1])\n",
    "    \n",
    "    Rhvx  = (Fhuv2p+Fhuv2m)/2 - dx/dt/2*(hv[1:,:]-hv[:-1,:])\n",
    "    Rhvy  = (Fhv2p+Fhv2m)/2 - dy/dt/2*(hv[:,1:]-hv[:,:-1])\n",
    "    #print(Rhx.shape,Rhy.shape)\n",
    "    h[1:-1,1:-1] = h[1:-1,1:-1] - dt/dx*(Rhx[1:,1:-1]-Rhx[:-1,1:-1]) \\\n",
    "                                - dt/dy*(Rhy[1:-1,1:]-Rhy[1:-1,:-1])\n",
    "    #hu[1:-1,1:-1] = hu[1:-1,1:-1] - dt/dx*(Rhux[1:,1:-1]-Rhux[:-1,1:-1]) \\\n",
    "    #                            - dt/dy*(Rhuy[1:-1,1:]-Rhuy[1:-1,:-1])\n",
    "    #hv[1:-1,1:-1] = hv[1:-1,1:-1] - dt/dx*(Rhvx[1:,1:-1]-Rhvx[:-1,1:-1]) \\\n",
    "    #                            - dt/dy*(Rhvy[1:-1,1:]-Rhvy[1:-1,:-1])\n",
    "    if (time > tplot):\n",
    "        plt.contour(X,Y,h,levels=[0.5,0.8])\n",
    "        tplot = tplot + dtplot"
   ]
  },
  {
   "cell_type": "markdown",
   "id": "ae7cb112",
   "metadata": {},
   "source": [
    "Fluxes, Courant time step, patching ..."
   ]
  },
  {
   "cell_type": "raw",
   "id": "a5a4920b",
   "metadata": {},
   "source": [
    "def fluxes(h,hu,hv):\n",
    "    Fhu,Fhv,Fhu2,Fhv2,eigen1,eigen2,eigen3,eigen4 = fluxAndLambda(h,hu,hv)\n",
    "    maxeigen = np.max(np.maximum(np.abs(eigen1),np.abs(eigen2),np.abs(eigen3),np.abs(eigen4)))\n",
    "    return Fhu,Fhv,Fhu2,Fhv2,maxeigen\n",
    "\n",
    "def fluxAndLambda(h,hu,hv):\n",
    "    c = np.sqrt(g*h)\n",
    "    h = np.maximum(0.1,h)\n",
    "    Fhu = hu\n",
    "    Fhv = hv\n",
    "    Fhu2 = Fhu*u + .5*g*(h**2)\n",
    "    Fhv2 = Fhv*v + .5*g*(h**2)\n",
    "    return Fhu,Fhv,Fhu2,Fhv2,u-c,u+c,v-c,v+c\n",
    "\n",
    "def LxFflux(q, fqm, fqp, eigen):\n",
    "    # Lax-Friedrichs Flux\n",
    "    return 0.5*( (fqp+fqm) - 1./eigen*(q[1:] - q[:-1]) )\n",
    "\n",
    "def dtCourant(dx,maxeigen,time,TMAX,CFL):\n",
    "    dt  = CFL*dx/maxeigen\n",
    "    if time+dt>TMAX:\n",
    "        dt = TMAX-time\n",
    "    return dt\n",
    "\n",
    "def addGhostCells(var,gleft,gright):\n",
    "    return np.hstack([gleft,var,gright])"
   ]
  },
  {
   "cell_type": "markdown",
   "id": "fa636912",
   "metadata": {},
   "source": [
    "Boundary conditions ..."
   ]
  },
  {
   "cell_type": "raw",
   "id": "c6a631ac",
   "metadata": {},
   "source": [
    "def bcNeumann(var):\n",
    "    ### NEUMANN BC ###\n",
    "    var[0,:]  = var[1,:]\n",
    "    var[-1,:] = var[-2,:]\n",
    "    var[:,0]  = var[:,1]\n",
    "    var[:,-1] = var[:,-2]\n",
    "    return var\n",
    "\n",
    "def bcPeriodic(var):\n",
    "    ### PERIODIC BC ###\n",
    "    var[0,:]  = var[-2,:]\n",
    "    var[-1,:] = var[1,:]\n",
    "    var[:,0]  = var[:,-2]\n",
    "    var[:,-1] = var[:,1]\n",
    "    return var"
   ]
  },
  {
   "cell_type": "markdown",
   "id": "78290b82",
   "metadata": {},
   "source": [
    "... done"
   ]
  }
 ],
 "metadata": {
  "kernelspec": {
   "display_name": "Python 3 (ipykernel)",
   "language": "python",
   "name": "python3"
  },
  "language_info": {
   "codemirror_mode": {
    "name": "ipython",
    "version": 3
   },
   "file_extension": ".py",
   "mimetype": "text/x-python",
   "name": "python",
   "nbconvert_exporter": "python",
   "pygments_lexer": "ipython3",
   "version": "3.9.6"
  }
 },
 "nbformat": 4,
 "nbformat_minor": 5
}
